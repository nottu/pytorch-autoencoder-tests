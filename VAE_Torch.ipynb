{
 "cells": [
  {
   "cell_type": "code",
   "execution_count": 1,
   "metadata": {},
   "outputs": [],
   "source": [
    "from functools import partial\n",
    "import json\n",
    "from pathlib import Path\n",
    "from numpy import ndarray\n",
    "from pytorch_autoencoders.config import Config\n",
    "from pytorch_autoencoders.data import Dsprites\n",
    "from pytorch_autoencoders.models import gamma_vae, conv_vae\n",
    "from pytorch_autoencoders import inference_helper, train_helper\n",
    "import torch\n",
    "from torch.optim import Adam\n",
    "\n",
    "import numpy as np\n",
    "from matplotlib import pyplot as plt\n",
    "import PIL.Image as Image\n",
    "\n",
    "from pandas import read_fwf, DataFrame\n",
    "from tqdm   import tqdm_notebook as tqdm\n",
    "\n",
    "import torch.nn as nn\n",
    "import torch.nn.functional as F\n",
    "from torch.utils import data\n",
    "\n",
    "from torchvision import transforms\n",
    "from torchvision import datasets\n",
    "import time"
   ]
  },
  {
   "cell_type": "code",
   "execution_count": 2,
   "metadata": {},
   "outputs": [],
   "source": [
    "from radioreader import *\n",
    "from methods import *\n",
    "from kittler import kittler_float"
   ]
  },
  {
   "cell_type": "code",
   "execution_count": 3,
   "metadata": {},
   "outputs": [
    {
     "data": {
      "application/vnd.jupyter.widget-view+json": {
       "model_id": "25f8843d58e244f7b088f649bce9ab8d",
       "version_major": 2,
       "version_minor": 0
      },
      "text/plain": [
       "HBox(children=(IntProgress(value=0, max=14245), HTML(value='')))"
      ]
     },
     "metadata": {},
     "output_type": "display_data"
    },
    {
     "name": "stdout",
     "output_type": "stream",
     "text": [
      "\n",
      "Number of images 14245\n"
     ]
    }
   ],
   "source": [
    "directory = 'unlrg'\n",
    "ext = 'fits'\n",
    "names = glob.glob('{0}/*.{1}*'.format(directory, ext))\n",
    "images = []\n",
    "for n in tqdm(range(len(names))):\n",
    "    im = readImg(names[n], normalize=True, sz=128)\n",
    "    k = kittler_float(im, copy=False)\n",
    "    images.append( np.expand_dims(k, axis=0) )\n",
    "    del im\n",
    "    del k\n",
    "print(\"Number of images\", len(images))"
   ]
  },
  {
   "cell_type": "code",
   "execution_count": 4,
   "metadata": {},
   "outputs": [],
   "source": [
    "class UNLRG(data.Dataset):\n",
    "    def __init__(self, images, transform=None):\n",
    "        self.data = images\n",
    "        self.data_len = len(self.data)\n",
    "        if(transform == None):\n",
    "            self.transform = transforms.Compose([\n",
    "                transforms.RandomHorizontalFlip(),\n",
    "                transforms.RandomVerticalFlip(),\n",
    "                transforms.RandomRotation(180),\n",
    "#                 transforms.RandomResizedCrop((128,128),(.5,1)),\n",
    "                transforms.ToTensor()])\n",
    "        else : self.transform = transform\n",
    "\n",
    "#     def __load_data\n",
    "            \n",
    "    def __getitem__(self, index):\n",
    "        index = index % self.data_len\n",
    "        np_arr = self.data[index, :]\n",
    "        ## reshape np_arr to 28x28\n",
    "        np_arr = np_arr.reshape(128, 128)\n",
    "\n",
    "        ## convert to PIL-image\n",
    "        img = Image.fromarray((np_arr*255).astype('uint8'))\n",
    "\n",
    "        #apply the transformations and return tensors\n",
    "        return self.transform(img)\n",
    "    def __len__(self):\n",
    "        return self.data_len * 10\n",
    "    def __repr__(self) -> str:\n",
    "        return 'unLRG dataset'"
   ]
  },
  {
   "cell_type": "code",
   "execution_count": 5,
   "metadata": {},
   "outputs": [],
   "source": [
    "images = np.array(images)\n",
    "dataset = UNLRG(images)"
   ]
  },
  {
   "cell_type": "code",
   "execution_count": 6,
   "metadata": {},
   "outputs": [
    {
     "data": {
      "text/plain": [
       "0.9996233380807099"
      ]
     },
     "execution_count": 6,
     "metadata": {},
     "output_type": "execute_result"
    }
   ],
   "source": [
    "np.max(images)"
   ]
  },
  {
   "cell_type": "code",
   "execution_count": 7,
   "metadata": {},
   "outputs": [],
   "source": [
    "class VAE(nn.Module):\n",
    "    def __init__(self, lt_dim=64):\n",
    "        super(VAE, self).__init__()\n",
    "        self.encoder = nn.Sequential(\n",
    "            nn.Conv2d( 1,  8, 3, 2, 1, 1),\n",
    "            nn.ReLU(),\n",
    "            nn.Conv2d( 8,  8, 3, 2, 1, 1),\n",
    "            nn.ReLU(),\n",
    "            nn.Conv2d( 8, 16, 3, 2, 1, 1),\n",
    "            nn.ReLU(),\n",
    "            nn.Conv2d(16, 32, 3, 2, 1, 1),\n",
    "            nn.ReLU(),\n",
    "            nn.Conv2d(32, 32, 3, 2, 1, 1),\n",
    "            nn.ReLU()\n",
    "        )\n",
    "        self.decoder = nn.Sequential(\n",
    "            nn.ConvTranspose2d(32, 32, 3, 2, 1, 1),\n",
    "            nn.ReLU(),\n",
    "            nn.ConvTranspose2d(32, 16, 3, 2, 1, 1),\n",
    "            nn.ReLU(),\n",
    "            nn.ConvTranspose2d(16, 8, 3, 2, 1, 1),\n",
    "            nn.ReLU(),\n",
    "            nn.ConvTranspose2d( 8,  8, 3, 2, 1, 1),\n",
    "            nn.ReLU(),\n",
    "            nn.ConvTranspose2d( 8,  1, 3, 2, 1, 1),\n",
    "        )\n",
    "        self.fc_mu = nn.Linear(32*4*4, lt_dim)\n",
    "        self.fc_ep = nn.Linear(32*4*4, lt_dim)\n",
    "        \n",
    "        self.fc_dc = nn.Linear(lt_dim, 32*4*4)\n",
    "    def encode(self, x):\n",
    "        encoded = self.encoder(x).view(-1, 32*4*4)\n",
    "        return self.fc_mu(encoded), self.fc_ep(encoded)\n",
    "    \n",
    "    def reparameterize(self, mu, logvar):\n",
    "        std = torch.exp(0.5*logvar)\n",
    "        eps = torch.randn_like(std)\n",
    "        return mu + eps*std\n",
    "\n",
    "    def decode(self, x):\n",
    "        x = F.relu(self.fc_dc(x)).view(-1, 32, 4, 4)\n",
    "        return torch.sigmoid(self.decoder(x))\n",
    "    \n",
    "    def forward(self, x):\n",
    "        mu, var = self.encode(x)\n",
    "        z = self.reparameterize(mu, var)\n",
    "        d = self.decode(z)\n",
    "        return d, mu, var"
   ]
  },
  {
   "cell_type": "code",
   "execution_count": 8,
   "metadata": {},
   "outputs": [],
   "source": [
    "data_loader = data.DataLoader(dataset, batch_size=64, shuffle=False)\n",
    "# sample = iter(data_loader).next()"
   ]
  },
  {
   "cell_type": "code",
   "execution_count": 9,
   "metadata": {},
   "outputs": [],
   "source": [
    "device = 'cuda'\n",
    "\n",
    "vae = VAE().to(device)\n",
    "optimizer = Adam(vae.parameters(), lr=0.001)\n",
    "\n",
    "def loss_function(recon_x, x, mu, logvar):\n",
    "    BCE = F.binary_cross_entropy(recon_x, x, reduction='sum')\n",
    "\n",
    "    # see Appendix B from VAE paper:\n",
    "    # Kingma and Welling. Auto-Encoding Variational Bayes. ICLR, 2014\n",
    "    # https://arxiv.org/abs/1312.6114\n",
    "    # 0.5 * sum(1 + log(sigma^2) - mu^2 - sigma^2)\n",
    "    KLD = -0.5 * torch.sum(1 + logvar - mu.pow(2) - logvar.exp())\n",
    "\n",
    "    return BCE + KLD\n",
    "\n",
    "# vae(sample.to(device))[2].shape\n",
    "# sample.to(device).shape"
   ]
  },
  {
   "cell_type": "code",
   "execution_count": 10,
   "metadata": {},
   "outputs": [],
   "source": [
    "def train_step(model, device, data_loader, optim, epoch, log_interval=5):\n",
    "    model.train()\n",
    "    s = ''\n",
    "    for batch_idx, data in enumerate(data_loader):\n",
    "        data = data.to(device)\n",
    "        #Forward Pass\n",
    "        optimizer.zero_grad()\n",
    "        output, m, v = model(data)\n",
    "        \n",
    "        # BCE Loss\n",
    "        loss = loss_function(output, data, m, v)\n",
    "        \n",
    "        #Backpropagation\n",
    "        loss.backward()\n",
    "        optimizer.step()\n",
    "        s = 'Train Epoch: {} [{}/{} ({:.0f}%)]\\tLoss: {:.6f}'.format(\n",
    "                epoch, batch_idx * len(data), len(data_loader.dataset),\n",
    "                100. * batch_idx / len(data_loader), loss.item())\n",
    "        if batch_idx % log_interval == 0:\n",
    "            sys.stdout.write('{}\\r'.format(s))\n",
    "            sys.stdout.flush()\n",
    "    return s"
   ]
  },
  {
   "cell_type": "code",
   "execution_count": 18,
   "metadata": {
    "scrolled": true
   },
   "outputs": [
    {
     "name": "stdout",
     "output_type": "stream",
     "text": [
      "Train Epoch: 1 [111250/142450 (100%)]\tLoss: 6172.399414\tTime 80.80s\n",
      "Train Epoch: 2 [111250/142450 (100%)]\tLoss: 6082.721680\tTime 80.99s\n",
      "Train Epoch: 3 [111250/142450 (100%)]\tLoss: 6021.299805\tTime 80.66s\n",
      "Train Epoch: 4 [111250/142450 (100%)]\tLoss: 5982.986816\tTime 81.00s\n",
      "Train Epoch: 5 [111250/142450 (100%)]\tLoss: 6002.579590\tTime 81.13s\n",
      "Train Epoch: 6 [111250/142450 (100%)]\tLoss: 6099.655762\tTime 81.29s\n",
      "Train Epoch: 7 [111250/142450 (100%)]\tLoss: 6051.194336\tTime 80.96s\n",
      "Train Epoch: 8 [111250/142450 (100%)]\tLoss: 6056.657715\tTime 81.17s\n",
      "Train Epoch: 9 [111250/142450 (100%)]\tLoss: 6007.896973\tTime 81.07s\n",
      "Train Epoch: 10 [111250/142450 (100%)]\tLoss: 6034.450195\tTime 80.89s\n",
      "Train Epoch: 11 [111250/142450 (100%)]\tLoss: 6005.798340\tTime 81.11s\n",
      "Train Epoch: 12 [111250/142450 (100%)]\tLoss: 5918.993164\tTime 80.64s\n",
      "Train Epoch: 13 [111250/142450 (100%)]\tLoss: 5969.136719\tTime 81.10s\n",
      "Train Epoch: 14 [111250/142450 (100%)]\tLoss: 6020.305176\tTime 81.11s\n",
      "Train Epoch: 15 [111250/142450 (100%)]\tLoss: 5957.100586\tTime 81.21s\n",
      "Train Epoch: 16 [111250/142450 (100%)]\tLoss: 5986.054688\tTime 81.02s\n",
      "Train Epoch: 17 [111250/142450 (100%)]\tLoss: 5940.686523\tTime 81.03s\n",
      "Train Epoch: 18 [111250/142450 (100%)]\tLoss: 5882.089844\tTime 81.08s\n",
      "Train Epoch: 19 [111250/142450 (100%)]\tLoss: 5965.279297\tTime 81.37s\n",
      "Train Epoch: 20 [111250/142450 (100%)]\tLoss: 5889.968262\tTime 81.33s\n",
      "Train Epoch: 21 [111250/142450 (100%)]\tLoss: 5953.020508\tTime 81.18s\n",
      "Train Epoch: 22 [111250/142450 (100%)]\tLoss: 5950.812500\tTime 81.11s\n",
      "Train Epoch: 23 [111250/142450 (100%)]\tLoss: 5921.602539\tTime 81.03s\n",
      "Train Epoch: 24 [111250/142450 (100%)]\tLoss: 5994.720703\tTime 81.14s\n",
      "Train Epoch: 25 [111250/142450 (100%)]\tLoss: 5959.735352\tTime 81.43s\n",
      "Train Epoch: 26 [111250/142450 (100%)]\tLoss: 5947.189453\tTime 81.15s\n",
      "Train Epoch: 27 [111250/142450 (100%)]\tLoss: 5846.052246\tTime 81.16s\n",
      "Train Epoch: 28 [111250/142450 (100%)]\tLoss: 5990.341309\tTime 80.92s\n",
      "Train Epoch: 29 [111250/142450 (100%)]\tLoss: 5877.323242\tTime 80.67s\n",
      "Train Epoch: 30 [111250/142450 (100%)]\tLoss: 5952.266602\tTime 80.93s\n",
      "Train Epoch: 31 [111250/142450 (100%)]\tLoss: 5860.568359\tTime 80.95s\n",
      "Train Epoch: 32 [111250/142450 (100%)]\tLoss: 5847.989746\tTime 81.03s\n",
      "Train Epoch: 33 [111250/142450 (100%)]\tLoss: 5881.017090\tTime 81.28s\n",
      "Train Epoch: 34 [111250/142450 (100%)]\tLoss: 5900.373047\tTime 81.16s\n",
      "Train Epoch: 35 [111250/142450 (100%)]\tLoss: 6036.144531\tTime 81.02s\n",
      "Train Epoch: 36 [111250/142450 (100%)]\tLoss: 5974.072754\tTime 80.81s\n",
      "Train Epoch: 37 [111250/142450 (100%)]\tLoss: 5953.467773\tTime 81.22s\n",
      "Train Epoch: 38 [111250/142450 (100%)]\tLoss: 5825.484375\tTime 81.01s\n",
      "Train Epoch: 39 [111250/142450 (100%)]\tLoss: 5956.217773\tTime 81.18s\n",
      "Train Epoch: 40 [111250/142450 (100%)]\tLoss: 5859.740723\tTime 81.05s\n",
      "Train Epoch: 41 [111250/142450 (100%)]\tLoss: 5909.956055\tTime 80.99s\n",
      "Train Epoch: 42 [111250/142450 (100%)]\tLoss: 5922.625000\tTime 81.19s\n",
      "Train Epoch: 43 [111250/142450 (100%)]\tLoss: 5843.943848\tTime 81.12s\n",
      "Train Epoch: 44 [111250/142450 (100%)]\tLoss: 5854.738281\tTime 81.01s\n",
      "Train Epoch: 45 [111250/142450 (100%)]\tLoss: 5776.826172\tTime 81.34s\n",
      "Train Epoch: 46 [111250/142450 (100%)]\tLoss: 5835.928223\tTime 81.11s\n",
      "Train Epoch: 47 [111250/142450 (100%)]\tLoss: 6001.656250\tTime 81.13s\n",
      "Train Epoch: 48 [111250/142450 (100%)]\tLoss: 5859.390137\tTime 81.44s\n",
      "Train Epoch: 49 [111250/142450 (100%)]\tLoss: 5905.279297\tTime 81.23s\n",
      "Train Epoch: 50 [111250/142450 (100%)]\tLoss: 5944.289551\tTime 81.31s\n",
      "Train Epoch: 51 [111250/142450 (100%)]\tLoss: 5878.623047\tTime 81.36s\n",
      "Train Epoch: 52 [111250/142450 (100%)]\tLoss: 5803.379883\tTime 81.37s\n",
      "Train Epoch: 53 [111250/142450 (100%)]\tLoss: 5931.966309\tTime 81.17s\n",
      "Train Epoch: 54 [111250/142450 (100%)]\tLoss: 5924.269531\tTime 81.22s\n",
      "Train Epoch: 55 [111250/142450 (100%)]\tLoss: 5903.900879\tTime 81.20s\n",
      "Train Epoch: 56 [111250/142450 (100%)]\tLoss: 5834.503418\tTime 81.19s\n",
      "Train Epoch: 57 [111250/142450 (100%)]\tLoss: 5861.079102\tTime 81.08s\n",
      "Train Epoch: 58 [111250/142450 (100%)]\tLoss: 5873.789551\tTime 81.17s\n",
      "Train Epoch: 59 [111250/142450 (100%)]\tLoss: 5908.390625\tTime 80.84s\n",
      "Train Epoch: 60 [111250/142450 (100%)]\tLoss: 5928.476074\tTime 81.12s\n",
      "Train Epoch: 61 [111250/142450 (100%)]\tLoss: 5847.331055\tTime 81.08s\n",
      "Train Epoch: 62 [111250/142450 (100%)]\tLoss: 5829.978516\tTime 80.90s\n",
      "Train Epoch: 63 [111250/142450 (100%)]\tLoss: 5840.208984\tTime 81.40s\n",
      "Train Epoch: 64 [111250/142450 (100%)]\tLoss: 5891.688965\tTime 80.99s\n",
      "Train Epoch: 65 [111250/142450 (100%)]\tLoss: 5857.443848\tTime 81.19s\n",
      "Train Epoch: 66 [111250/142450 (100%)]\tLoss: 5854.062012\tTime 81.48s\n",
      "Train Epoch: 67 [111250/142450 (100%)]\tLoss: 5833.770020\tTime 81.46s\n",
      "Train Epoch: 68 [111250/142450 (100%)]\tLoss: 5833.000000\tTime 81.23s\n",
      "Train Epoch: 69 [111250/142450 (100%)]\tLoss: 5892.443359\tTime 81.16s\n",
      "Train Epoch: 70 [111250/142450 (100%)]\tLoss: 5863.148926\tTime 81.28s\n",
      "Train Epoch: 71 [111250/142450 (100%)]\tLoss: 5876.380859\tTime 81.30s\n",
      "Train Epoch: 72 [111250/142450 (100%)]\tLoss: 5848.769531\tTime 81.22s\n",
      "Train Epoch: 73 [111250/142450 (100%)]\tLoss: 5819.906738\tTime 81.26s\n",
      "Train Epoch: 74 [111250/142450 (100%)]\tLoss: 5814.417969\tTime 80.92s\n",
      "Train Epoch: 75 [111250/142450 (100%)]\tLoss: 5780.716797\tTime 81.13s\n",
      "Train Epoch: 76 [111250/142450 (100%)]\tLoss: 5836.543457\tTime 81.06s\n",
      "Train Epoch: 77 [111250/142450 (100%)]\tLoss: 5843.490723\tTime 81.36s\n",
      "Train Epoch: 78 [111250/142450 (100%)]\tLoss: 5825.500000\tTime 81.46s\n",
      "Train Epoch: 79 [111250/142450 (100%)]\tLoss: 5876.720703\tTime 81.49s\n",
      "Train Epoch: 80 [111250/142450 (100%)]\tLoss: 5864.651855\tTime 81.48s\n",
      "Train Epoch: 81 [111250/142450 (100%)]\tLoss: 5880.367188\tTime 81.45s\n",
      "Train Epoch: 82 [111250/142450 (100%)]\tLoss: 5845.795898\tTime 81.06s\n",
      "Train Epoch: 83 [111250/142450 (100%)]\tLoss: 5828.434570\tTime 81.18s\n",
      "Train Epoch: 84 [111250/142450 (100%)]\tLoss: 5880.478516\tTime 81.42s\n",
      "Train Epoch: 85 [111250/142450 (100%)]\tLoss: 5779.337402\tTime 81.10s\n",
      "Train Epoch: 86 [111250/142450 (100%)]\tLoss: 5883.223633\tTime 81.16s\n",
      "Train Epoch: 87 [111250/142450 (100%)]\tLoss: 5797.045410\tTime 80.83s\n",
      "Train Epoch: 88 [111250/142450 (100%)]\tLoss: 5822.640625\tTime 81.01s\n",
      "Train Epoch: 89 [111250/142450 (100%)]\tLoss: 5871.869629\tTime 81.01s\n",
      "Train Epoch: 90 [111250/142450 (100%)]\tLoss: 5805.380859\tTime 81.05s\n",
      "Train Epoch: 91 [111250/142450 (100%)]\tLoss: 5858.484863\tTime 81.01s\n",
      "Train Epoch: 92 [111250/142450 (100%)]\tLoss: 5924.194824\tTime 81.06s\n",
      "Train Epoch: 93 [111250/142450 (100%)]\tLoss: 5871.616699\tTime 81.54s\n",
      "Train Epoch: 94 [111250/142450 (100%)]\tLoss: 5762.104980\tTime 81.36s\n",
      "Train Epoch: 95 [111250/142450 (100%)]\tLoss: 5840.341797\tTime 81.41s\n",
      "Train Epoch: 96 [111250/142450 (100%)]\tLoss: 5851.630859\tTime 81.46s\n",
      "Train Epoch: 97 [111250/142450 (100%)]\tLoss: 5818.617188\tTime 81.30s\n",
      "Train Epoch: 98 [111250/142450 (100%)]\tLoss: 5860.373535\tTime 81.18s\n",
      "Train Epoch: 99 [111250/142450 (100%)]\tLoss: 5795.123047\tTime 81.02s\n",
      "Train Epoch: 100 [111250/142450 (100%)]\tLoss: 5788.085449\tTime 81.49s\n"
     ]
    }
   ],
   "source": [
    "for epoch in range(1, 101):\n",
    "    start = time.time()\n",
    "    s = train_step(vae, 'cuda' ,data_loader, optimizer, epoch)\n",
    "    t = time.time() - start\n",
    "    sys.stdout.write('{0}\\tTime {1:.2f}s\\n'.format(s, t))"
   ]
  },
  {
   "cell_type": "code",
   "execution_count": 19,
   "metadata": {},
   "outputs": [],
   "source": [
    "sample = iter(data_loader).next()"
   ]
  },
  {
   "cell_type": "code",
   "execution_count": 20,
   "metadata": {},
   "outputs": [
    {
     "data": {
      "image/png": "[encoded data removed]",
      "text/plain": [
       "<Figure size 1080x864 with 16 Axes>"
      ]
     },
     "metadata": {
      "needs_background": "light"
     },
     "output_type": "display_data"
    }
   ],
   "source": [
    "f, ax = plt.subplots(4, 4, figsize=(15, 12))\n",
    "for i in range(4): \n",
    "    for j in range(4):\n",
    "        ax[i][j].imshow(sample[i*4 + j][0], cmap='gray')\n",
    "        ax[i][j].axis('off')"
   ]
  },
  {
   "cell_type": "code",
   "execution_count": 21,
   "metadata": {},
   "outputs": [],
   "source": [
    "with torch.no_grad():\n",
    "    recon = vae(sample.to(device))[0].cpu()"
   ]
  },
  {
   "cell_type": "code",
   "execution_count": 22,
   "metadata": {},
   "outputs": [
    {
     "data": {
      "image/png": "[encoded data removed]",
      "text/plain": [
       "<Figure size 1080x864 with 16 Axes>"
      ]
     },
     "metadata": {
      "needs_background": "light"
     },
     "output_type": "display_data"
    }
   ],
   "source": [
    "f, ax = plt.subplots(4, 4, figsize=(15, 12))\n",
    "for i in range(4): \n",
    "    for j in range(4):\n",
    "        ax[i][j].imshow(recon[i*4 + j][0], cmap='gray')\n",
    "        ax[i][j].axis('off')"
   ]
  },
  {
   "cell_type": "code",
   "execution_count": 23,
   "metadata": {
    "scrolled": true
   },
   "outputs": [
    {
     "data": {
      "image/png": "[encoded data removed]",
      "text/plain": [
       "<Figure size 1080x864 with 16 Axes>"
      ]
     },
     "metadata": {
      "needs_background": "light"
     },
     "output_type": "display_data"
    }
   ],
   "source": [
    "f, ax = plt.subplots(4, 4, figsize=(15, 12))\n",
    "for i in range(4): \n",
    "    for j in range(4):\n",
    "        o, r = sample[i*4 + j][0], recon[i*4 + j][0] \n",
    "        ax[i][j].imshow(o - r, cmap='gray')\n",
    "        ax[i][j].axis('off')"
   ]
  },
  {
   "cell_type": "code",
   "execution_count": null,
   "metadata": {},
   "outputs": [],
   "source": [
    "torch.save(cae, 'vae_model')\n",
    "# cae = torch.load('cae_model')\n",
    "# cae.eval()"
   ]
  },
  {
   "cell_type": "code",
   "execution_count": null,
   "metadata": {},
   "outputs": [],
   "source": []
  }
 ],
 "metadata": {
  "kernelspec": {
   "display_name": "Python 3",
   "language": "python",
   "name": "python3"
  },
  "language_info": {
   "codemirror_mode": {
    "name": "ipython",
    "version": 3
   },
   "file_extension": ".py",
   "mimetype": "text/x-python",
   "name": "python",
   "nbconvert_exporter": "python",
   "pygments_lexer": "ipython3",
   "version": "3.7.2"
  }
 },
 "nbformat": 4,
 "nbformat_minor": 2
}
