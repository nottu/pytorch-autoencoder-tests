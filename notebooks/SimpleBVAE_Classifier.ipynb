{
 "cells": [
  {
   "cell_type": "code",
   "execution_count": 1,
   "metadata": {
    "code_folding": [
     0
    ]
   },
   "outputs": [],
   "source": [
    "# just imports\n",
    "%load_ext autoreload\n",
    "%autoreload 2\n",
    "\n",
    "import sys\n",
    "import time\n",
    "\n",
    "import torch\n",
    "import torch.nn as nn\n",
    "import torch.nn.functional as F\n",
    "\n",
    "from torch.autograd import Variable\n",
    "from torch.utils import data\n",
    "from torch.optim import Adam\n",
    "\n",
    "from torchvision import transforms\n",
    "from torchvision import datasets\n",
    "\n",
    "import numpy as np\n",
    "\n",
    "from matplotlib import pyplot as plt\n",
    "from pandas import read_fwf, DataFrame\n",
    "from tqdm   import tqdm_notebook as tqdm\n",
    "import matplotlib.gridspec as gridspec\n",
    "\n",
    "from scipy.ndimage.interpolation import rotate\n",
    "from sklearn.model_selection import train_test_split"
   ]
  },
  {
   "cell_type": "code",
   "execution_count": 2,
   "metadata": {
    "code_folding": []
   },
   "outputs": [],
   "source": [
    "# local imports\n",
    "sys.path.append('../')\n",
    "from VAE.rg_dataset import LRG, BasicDataset, get_datasets\n",
    "from VAE.loss_funcs import VAE_Loss\n",
    "from VAE import vae_models"
   ]
  },
  {
   "cell_type": "code",
   "execution_count": 3,
   "metadata": {},
   "outputs": [],
   "source": [
    "import pickle\n",
    "unlrg_data_set = pickle.load( open( \"unlrg.p\", \"rb\" ) )\n",
    "lrg_datasets   = pickle.load( open( \"lrg.p\", \"rb\" ) )"
   ]
  },
  {
   "cell_type": "code",
   "execution_count": 4,
   "metadata": {},
   "outputs": [],
   "source": [
    "batch_size = 16 #supposedly low batch size helps fater convergence\n",
    "\n",
    "data_loader_lrg       = data.DataLoader(lrg_datasets['full'], batch_size=128, shuffle=False)\n",
    "data_loader_lrg_train = data.DataLoader(lrg_datasets['train'], batch_size=256, shuffle=True)\n",
    "data_loader_lrg_test  = data.DataLoader(lrg_datasets['test'],  batch_size=256, shuffle=True)\n",
    "data_loader_unlrg     = data.DataLoader(unlrg_data_set, batch_size=16,  shuffle=True)\n",
    "\n",
    "sample = iter(data_loader_lrg).next()"
   ]
  },
  {
   "cell_type": "code",
   "execution_count": 5,
   "metadata": {},
   "outputs": [
    {
     "data": {
      "image/png": "[encoded data removed]",
      "text/plain": [
       "<Figure size 432x288 with 1 Axes>"
      ]
     },
     "metadata": {
      "needs_background": "light"
     },
     "output_type": "display_data"
    }
   ],
   "source": [
    "plt.imshow(sample[0][1][0], cmap='gray')\n",
    "plt.axis('off')\n",
    "plt.show()"
   ]
  },
  {
   "cell_type": "code",
   "execution_count": 6,
   "metadata": {},
   "outputs": [
    {
     "data": {
      "text/plain": [
       "tensor([4, 3, 2, 2, 0, 4, 4, 1, 3, 1, 3, 3, 2, 1, 4, 4, 3, 3, 3, 0, 0, 1, 3, 0,\n",
       "        4, 2, 3, 1, 1, 1, 4, 4, 4, 0, 1, 0, 3, 4, 3, 3, 4, 3, 3, 1, 1, 3, 4, 3,\n",
       "        3, 5, 0, 3, 3, 0, 2, 5, 5, 3, 4, 3, 3, 1, 3, 1, 3, 0, 3, 3, 5, 0, 1, 3,\n",
       "        3, 1, 0, 2, 3, 3, 3, 3, 2, 1, 0, 1, 2, 2, 3, 0, 0, 2, 1, 2, 2, 3, 1, 3,\n",
       "        3, 4, 5, 0, 3, 1, 2, 2, 4, 2, 2, 1, 3, 1, 1, 3, 3, 2, 3, 3, 1, 1, 3, 2,\n",
       "        1, 1, 2, 0, 4, 2, 0, 3])"
      ]
     },
     "execution_count": 6,
     "metadata": {},
     "output_type": "execute_result"
    }
   ],
   "source": [
    "sample[1]"
   ]
  },
  {
   "cell_type": "code",
   "execution_count": 7,
   "metadata": {
    "code_folding": [
     8,
     23,
     43,
     47,
     67
    ]
   },
   "outputs": [],
   "source": [
    "class VAE(nn.Module):\n",
    "    def __init__(self, lt_dim=4, k=None, batch_norm=True, n_classes=2):\n",
    "        super(VAE, self).__init__()\n",
    "        self.k = k\n",
    "        n_layers = len(self.k)\n",
    "        encoder_layers = []\n",
    "        decoder_layers = []\n",
    "        \n",
    "        for i in range( n_layers -1) :\n",
    "            in_c, out_c = self.k[i], self.k[i + 1]\n",
    "            if(in_c == 'M'): continue\n",
    "            stride = 1\n",
    "            if out_c == 'M':\n",
    "                stride = 2\n",
    "                i += 1\n",
    "                out_c = self.k[i + 1]\n",
    "            layer = nn.Conv2d(in_c, out_c, kernel_size=3, padding=1, stride=stride)\n",
    "            encoder_layers.append(layer)\n",
    "            if batch_norm:\n",
    "                encoder_layers.append(nn.BatchNorm2d(out_c))\n",
    "            encoder_layers.append(nn.ReLU(inplace=True))\n",
    "        self.encoder = nn.Sequential(*encoder_layers)\n",
    "        \n",
    "        for i in range(n_layers - 1, 0, -1):\n",
    "            in_c, out_c = self.k[i], self.k[i - 1]\n",
    "            if(in_c == 'M'): continue\n",
    "            stride = 1\n",
    "            output_padding=0\n",
    "            if out_c == 'M':\n",
    "                stride = 2\n",
    "                i -= 1\n",
    "                out_c = self.k[i - 1]\n",
    "                output_padding=1\n",
    "                \n",
    "            layer = nn.ConvTranspose2d(in_c, out_c, kernel_size=3, padding=1, \n",
    "                                       output_padding=output_padding, stride=stride)\n",
    "            decoder_layers.append(layer)\n",
    "            if batch_norm:\n",
    "                decoder_layers.append(nn.BatchNorm2d(out_c))\n",
    "            decoder_layers.append(nn.ReLU(inplace=True))\n",
    "\n",
    "        self.decoder = nn.Sequential(*decoder_layers[:-1])\n",
    "        \n",
    "        self.fc_mu = nn.Sequential(\n",
    "                      nn.Linear(self.k[-1]*2*2, lt_dim*2),\n",
    "                      nn.Linear(lt_dim*2, lt_dim)\n",
    "        )\n",
    "        self.fc_ep = nn.Sequential(\n",
    "                      nn.Linear(self.k[-1]*2*2, lt_dim*2),\n",
    "                      nn.Linear(lt_dim*2, lt_dim)\n",
    "        )\n",
    "        \n",
    "        self.fc_dc = nn.Linear(lt_dim, self.k[-1]*2*2)\n",
    "        \n",
    "        #simple classifier bit\n",
    "        self.classifier = nn.Sequential(\n",
    "            nn.Linear(lt_dim, n_classes),\n",
    "        )\n",
    "        \n",
    "    def encode(self, x):\n",
    "        encoded = self.encoder(x)\n",
    "        encoded = encoded.view(-1, self.k[-1]*2*2)\n",
    "        return self.fc_mu(encoded), self.fc_ep(encoded)\n",
    "    \n",
    "    def reparameterize(self, mu, logvar):\n",
    "        std = torch.exp(0.5*logvar)\n",
    "        eps = torch.randn_like(std)\n",
    "        if self.training :\n",
    "            return mu + eps*std\n",
    "        return mu\n",
    "\n",
    "    def decode(self, x):\n",
    "        x = F.relu(self.fc_dc(x))\n",
    "        x = x.view(-1, self.k[-1], 2, 2) #reshape\n",
    "        return torch.sigmoid(self.decoder(x))\n",
    "    \n",
    "    def classify(self, x):\n",
    "        y = self.classifier(x)\n",
    "        return F.softmax(y)\n",
    "    \n",
    "    def forward(self, x):\n",
    "        mu, var = self.encode(x)\n",
    "        z = self.reparameterize(mu, var)\n",
    "        d = self.decode(z)\n",
    "        y = self.classify(z)\n",
    "        return d, mu, var, y"
   ]
  },
  {
   "cell_type": "code",
   "execution_count": 8,
   "metadata": {},
   "outputs": [],
   "source": [
    "def train_step_vae(mode, device, data_loader, optim, epoch, loss_fun, log_interval=5, beta=1):\n",
    "    model.train()\n",
    "    s = ''\n",
    "    r_loss = 0\n",
    "    batch_sum = 0\n",
    "    avg_r_loss = 0\n",
    "    for batch_idx, (data, target) in enumerate(data_loader):\n",
    "        batch_sum += len(data)\n",
    "        data = data.to(device)\n",
    "        target = Variable(data, requires_grad=False).to(device)\n",
    "        #Forward Pass\n",
    "        optim.zero_grad()\n",
    "        d, mu, var, y = model(data)\n",
    "        output = (d, mu, var)\n",
    "\n",
    "        # BCE Loss\n",
    "        r_loss, g_loss = loss_fun(output, data)\n",
    "        \n",
    "        loss = r_loss + (beta * g_loss)\n",
    "        avg_r_loss += r_loss.item()\n",
    "        #Backpropagation\n",
    "        loss.backward()\n",
    "        optim.step()\n",
    "        s = 'Train Epoch: {:3d} [{:5d}/{:5d} ({:3.0f}%)]\\tLoss: {:4.4f}\\tR_Loss: {:4.4f}\\tDKL: {:4.4f}'\n",
    "        s = s.format(epoch, batch_sum, len(data_loader.dataset),\n",
    "                100. * batch_idx / len(data_loader), loss.item()/len(data),\n",
    "                     r_loss.item()/len(data), g_loss.item()/len(data))\n",
    "        \n",
    "        if batch_idx % log_interval == 0:\n",
    "            sys.stdout.write('{}\\r'.format(s))\n",
    "            sys.stdout.flush()\n",
    "#     print('')\n",
    "    return s, avg_r_loss / batch_sum"
   ]
  },
  {
   "cell_type": "code",
   "execution_count": 9,
   "metadata": {
    "code_folding": [
     0,
     10,
     25,
     55
    ]
   },
   "outputs": [],
   "source": [
    "def get_compact_v_extended_loss(y, target):\n",
    "    target = 1*(target > 0)\n",
    "    y2 = torch.zeros([y.shape[0], 2]).to(device)\n",
    "    y2[:,0] = y[:,0]\n",
    "    y2[:,1] = torch.sum(y[:,1:], dim=1)\n",
    "    c_loss = criterion(y2, 1*(target > 0))\n",
    "    _, preds = torch.max(y2, 1)\n",
    "    acc = (1.0*torch.sum(preds == target))/len(y)\n",
    "    return c_loss, acc\n",
    "\n",
    "def get_fr1_v_fr2_loss(y, target):\n",
    "    tipical = (target == 2) + (target == 1)\n",
    "    target = target[tipical]\n",
    "    target = 1*(target == 2)\n",
    "    \n",
    "    y = y[tipical]\n",
    "    y2 = torch.zeros([y.shape[0], 2]).to(device)\n",
    "    y2[:,0] = y[:,1] / torch.sum(y[:,1:3], dim=1)\n",
    "    y2[:,1] = y[:,2] / torch.sum(y[:,1:3], dim=1)\n",
    "\n",
    "    c_loss = criterion(y2, target)\n",
    "    _, preds = torch.max(y2, 1)\n",
    "    acc = (1.0*torch.sum(preds == target))/len(y2)\n",
    "    return c_loss, acc\n",
    "\n",
    "def get_tip_v_atip_loss(y, target):\n",
    "    tipical = target  > 0\n",
    "    target = target[tipical]\n",
    "    target = 1*(target > 2)\n",
    "    \n",
    "    y = y[tipical]\n",
    "    y2 = torch.zeros([y.shape[0], 2]).to(device)\n",
    "    y2[:,0] = torch.sum(y[:,1:3], dim=1) / torch.sum(y[:,1:], dim=1)\n",
    "    y2[:,1] = torch.sum(y[:,3: ], dim=1) / torch.sum(y[:,1:], dim=1)\n",
    "\n",
    "    c_loss = criterion(y2, target)\n",
    "    _, preds = torch.max(y2, 1)\n",
    "    acc = (1.0*torch.sum(preds == target))/len(y2)\n",
    "    return c_loss, acc\n",
    "\n",
    "def get_bent_v_irreg_loss(y, target):\n",
    "    tipical = target  > 2\n",
    "    target = target[tipical]\n",
    "    target = 1*(target > 3)\n",
    "    \n",
    "    y = y[tipical]\n",
    "    y2 = torch.zeros([y.shape[0], 2]).to(device)\n",
    "    y2[:,0] = y[:,3 ] / torch.sum(y[:,3:], dim=1)\n",
    "    y2[:,1] = torch.sum(y[:,4:], dim=1) / torch.sum(y[:,3:], dim=1)\n",
    "\n",
    "    c_loss = criterion(y2, 1*(target > 0))\n",
    "    _, preds = torch.max(y2, 1)\n",
    "    acc = (1.0*torch.sum(preds == target))/len(y2)\n",
    "    return c_loss, acc\n",
    "\n",
    "def get_r_v_x_loss(y, target):\n",
    "    tipical = (target == 4) + (target == 5)\n",
    "    target = target[tipical]\n",
    "    target = 1*(target == 5)\n",
    "    \n",
    "    y = y[tipical]\n",
    "    y2 = torch.zeros([y.shape[0], 2]).to(device)\n",
    "    y2[:,0] = y[:,4] / torch.sum(y[:,4:], dim=1)\n",
    "    y2[:,1] = y[:,5] / torch.sum(y[:,4:], dim=1)\n",
    "\n",
    "    c_loss = criterion(y2, target)\n",
    "    _, preds = torch.max(y2, 1)\n",
    "    acc = (1.0*torch.sum(preds == target))/len(y2)\n",
    "    return c_loss, acc\n",
    "\n",
    "def classify_step_vae(mode, device, data_loader, optim, epoch, loss_fun, criterion, log_interval=5, beta=1):\n",
    "    model.train()\n",
    "    s = ''\n",
    "    r_loss = 0\n",
    "    batch_sum = 0\n",
    "    avg_c_loss = 0\n",
    "    running_loss = 0.0\n",
    "    running_corrects = 0\n",
    "    running_inputs=0\n",
    "    for batch_idx, (data, target) in enumerate(data_loader):\n",
    "        batch_sum += len(data)\n",
    "        data = data.to(device)\n",
    "        target = Variable(target, requires_grad=False).to(device)\n",
    "        #Forward Pass\n",
    "        optim.zero_grad()\n",
    "        d, mu, var, y = model(data)\n",
    "        output = (d, mu, var)\n",
    "        \n",
    "        # BCE Loss\n",
    "        r_loss, g_loss = loss_fun(output, data)\n",
    "        #Classify Loss\n",
    "        c_loss, c_acc = get_compact_v_extended_loss(y, target)\n",
    "        #fr1 v fr2 loss\n",
    "        fr_loss, fr_acc = get_fr1_v_fr2_loss(y, target)\n",
    "        #tip v atip loss\n",
    "        t_loss, t_acc = get_tip_v_atip_loss(y, target)\n",
    "        #bent v irreg loss\n",
    "        b_loss, b_acc = get_bent_v_irreg_loss(y, target)\n",
    "        #r v x loss\n",
    "        rx_loss, rx_acc = get_r_v_x_loss(y, target)\n",
    "        #Compund Loss\n",
    "        #\n",
    "        loss = r_loss + (beta * g_loss) #+ (8 * c_loss + 4*t_loss + 2*fr_loss + 2*b_loss + rx_loss)\n",
    "        avg_c_loss += c_loss.item()\n",
    "        #Backpropagation\n",
    "        loss.backward()\n",
    "        optim.step()\n",
    "        # statistics\n",
    "        running_loss += loss.item() / data.size(0)\n",
    "#         running_corrects += torch.sum(preds == target.data)\n",
    "#         running_inputs += len(target.data)\n",
    "#         running_acc = (1.0 * running_corrects)/running_inputs\n",
    "        \n",
    "        s = 'Clasify Train Epoch: {:3d} ({:3.0f}%)\\tC Acc: {:.4f}\\tFR Acc: {:.4f}\\tT Acc: {:.4f}\\tB Acc: {:.4f}\\tRX Acc: {:.4f}'\n",
    "        s = s.format(epoch,\n",
    "                100. * batch_idx / len(data_loader), c_acc, fr_acc,t_acc, b_acc,rx_acc)\n",
    "        \n",
    "        if batch_idx % log_interval == 0:\n",
    "            sys.stdout.write('{}\\r'.format(s))\n",
    "            sys.stdout.flush()\n",
    "    print('')\n",
    "    return s"
   ]
  },
  {
   "cell_type": "code",
   "execution_count": 10,
   "metadata": {
    "code_folding": [
     0
    ]
   },
   "outputs": [],
   "source": [
    "def test_step_vae(model, device, data_loader, loss_fun, learn_rot=False):\n",
    "    model.eval()\n",
    "    avg_r_loss = 0\n",
    "    batch_sum = 0 \n",
    "    for batch_idx, (data, target) in enumerate(data_loader):\n",
    "        batch_sum += len(data)\n",
    "        with torch.no_grad():\n",
    "            data = data.to(device)\n",
    "            #Forward Pass\n",
    "            d, mu, var, y = model(data)\n",
    "            output = (d, mu, var)\n",
    "            # BCE Loss\n",
    "            r_loss , g_loss = loss_fun(output, data)\n",
    "            avg_r_loss += r_loss.item()\n",
    "            \n",
    "    return avg_r_loss / batch_sum"
   ]
  },
  {
   "cell_type": "code",
   "execution_count": 11,
   "metadata": {},
   "outputs": [],
   "source": [
    "device = 'cuda'\n",
    "epochs = 40"
   ]
  },
  {
   "cell_type": "code",
   "execution_count": 12,
   "metadata": {
    "scrolled": false
   },
   "outputs": [
    {
     "name": "stdout",
     "output_type": "stream",
     "text": [
      "Clasify Train Epoch:   1 ( 99%)\tC Acc: 0.5132\tFR Acc: 0.5000\tT Acc: 0.5000\tB Acc: 0.4706\tRX Acc: 0.6190\n",
      "Train Epoch:   1 [139800/139800 (100%)]\tLoss: 22.3117\tR_Loss: 22.2966\tDKL: 0.0019\tAvgR 56.4834\tTest Loss : 2.0654   Time : 266.59s\n",
      "Beta : 4.2870938501451725\n",
      "Clasify Train Epoch:   2 ( 99%)\tC Acc: 0.5461\tFR Acc: 0.4091\tT Acc: 0.6024\tB Acc: 0.5128\tRX Acc: 0.4286\n",
      "Train Epoch:   2 [139800/139800 (100%)]\tLoss: 15.3473\tR_Loss: 15.0578\tDKL: 0.0675\tAvgR 6.9432\tTest Loss : 1.0844   Time : 268.30s\n",
      "Beta : 2.7702189362218492\n",
      "Clasify Train Epoch:   3 ( 99%)\tC Acc: 0.5461\tFR Acc: 0.4884\tT Acc: 0.3614\tB Acc: 0.5000\tRX Acc: 0.7143\n",
      "Train Epoch:   3 [139800/139800 (100%)]\tLoss: 7.8343\tR_Loss: 7.4891\tDKL: 0.1246\tAvgR 4.2152\tTest Loss : 0.9155   Time : 264.76s\n",
      "Beta : 2.0406093184969154\n",
      "Clasify Train Epoch:   4 ( 99%)\tC Acc: 0.5197\tFR Acc: 0.6341\tT Acc: 0.3797\tB Acc: 0.5000\tRX Acc: 0.5000\n",
      "Train Epoch:   4 [139800/139800 (100%)]\tLoss: 8.3463\tR_Loss: 7.6225\tDKL: 0.3547\tAvgR 3.4704\tTest Loss : 0.8160   Time : 268.59s\n",
      "Beta : 1.6475245920252577\n",
      "Clasify Train Epoch:   5 ( 99%)\tC Acc: 0.5000\tFR Acc: 0.4839\tT Acc: 0.4079\tB Acc: 0.5333\tRX Acc: 0.5600\n",
      "Train Epoch:   5 [139800/139800 (100%)]\tLoss: 7.8348\tR_Loss: 7.1941\tDKL: 0.3889\tAvgR 3.2720\tTest Loss : 0.7931   Time : 262.02s\n",
      "Beta : 1.4183464764550953\n",
      "Clasify Train Epoch:   6 ( 99%)\tC Acc: 0.4671\tFR Acc: 0.5116\tT Acc: 0.3662\tB Acc: 0.5000\tRX Acc: 0.5625\n",
      "Train Epoch:   6 [139800/139800 (100%)]\tLoss: 5.1019\tR_Loss: 4.3684\tDKL: 0.5172\tAvgR 3.1819\tTest Loss : 0.7767   Time : 263.05s\n",
      "Beta : 1.277166839310082\n",
      "Clasify Train Epoch:   7 ( 99%)\tC Acc: 0.4934\tFR Acc: 0.5238\tT Acc: 0.4595\tB Acc: 0.5000\tRX Acc: 0.4118\n",
      "Train Epoch:   7 [139800/139800 (100%)]\tLoss: 3.6806\tR_Loss: 3.4835\tDKL: 0.1543\tAvgR 3.1331\tTest Loss : 0.7860   Time : 260.95s\n",
      "Beta : 1.1867885392718553\n",
      "Clasify Train Epoch:   8 ( 99%)\tC Acc: 0.4539\tFR Acc: 0.3429\tT Acc: 0.5362\tB Acc: 0.4412\tRX Acc: 0.3889\n",
      "Train Epoch:   8 [139800/139800 (100%)]\tLoss: 7.2685\tR_Loss: 6.6135\tDKL: 0.5519\tAvgR 3.0996\tTest Loss : 0.7975   Time : 256.08s\n",
      "Beta : 1.1273566749901065\n",
      "Clasify Train Epoch:   9 ( 99%)\tC Acc: 0.4803\tFR Acc: 0.5366\tT Acc: 0.3611\tB Acc: 0.5161\tRX Acc: 0.5556\n",
      "Train Epoch:   9 [139800/139800 (100%)]\tLoss: 6.0677\tR_Loss: 5.5518\tDKL: 0.4576\tAvgR 3.0753\tTest Loss : 0.7926   Time : 255.90s\n",
      "Beta : 1.0875342380531972\n",
      "Clasify Train Epoch:  10 ( 99%)\tC Acc: 0.4342\tFR Acc: 0.4211\tT Acc: 0.5000\tB Acc: 0.6071\tRX Acc: 0.4167\n",
      "Train Epoch:  10 [139800/139800 (100%)]\tLoss: 5.9398\tR_Loss: 5.5080\tDKL: 0.3971\tAvgR 3.0587\tTest Loss : 0.7737   Time : 254.23s\n",
      "Beta : 1.0604984958982597\n"
     ]
    },
    {
     "data": {
      "image/png": "[encoded data removed]",
      "text/plain": [
       "<Figure size 720x360 with 3 Axes>"
      ]
     },
     "metadata": {
      "needs_background": "light"
     },
     "output_type": "display_data"
    },
    {
     "name": "stdout",
     "output_type": "stream",
     "text": [
      "Clasify Train Epoch:  11 ( 99%)\tC Acc: 0.5000\tFR Acc: 0.5278\tT Acc: 0.4868\tB Acc: 0.4750\tRX Acc: 0.5263\n",
      "Train Epoch:  11 [139800/139800 (100%)]\tLoss: 4.5432\tR_Loss: 4.0928\tDKL: 0.4247\tAvgR 3.0462\tTest Loss : 0.7707   Time : 255.80s\n",
      "Beta : 1.041974377928387\n",
      "Clasify Train Epoch:  12 ( 99%)\tC Acc: 0.4934\tFR Acc: 0.5000\tT Acc: 0.3867\tB Acc: 0.5161\tRX Acc: 0.7333\n",
      "Train Epoch:  12 [139800/139800 (100%)]\tLoss: 3.6474\tR_Loss: 3.3542\tDKL: 0.2814\tAvgR 3.0350\tTest Loss : 0.7808   Time : 254.46s\n",
      "Beta : 1.0292003562788727\n",
      "Clasify Train Epoch:  13 ( 99%)\tC Acc: 0.5263\tFR Acc: 0.5349\tT Acc: 0.5949\tB Acc: 0.6111\tRX Acc: 0.6111\n",
      "Train Epoch:  13 [139800/139800 (100%)]\tLoss: 8.0210\tR_Loss: 7.4132\tDKL: 0.5905\tAvgR 3.0278\tTest Loss : 0.7698   Time : 258.23s\n",
      "Beta : 1.020351834207602\n",
      "Clasify Train Epoch:  14 ( 99%)\tC Acc: 0.4868\tFR Acc: 0.4898\tT Acc: 0.3973\tB Acc: 0.6667\tRX Acc: 0.5000\n",
      "Train Epoch:  14 [139800/139800 (100%)]\tLoss: 9.0415\tR_Loss: 8.3490\tDKL: 0.6787\tAvgR 3.0214\tTest Loss : 0.7508   Time : 259.84s\n",
      "Beta : 1.0142031723650542\n",
      "Clasify Train Epoch:  15 ( 99%)\tC Acc: 0.4737\tFR Acc: 0.4615\tT Acc: 0.4930\tB Acc: 0.5312\tRX Acc: 0.5294\n",
      "Train Epoch:  15 [139800/139800 (100%)]\tLoss: 3.3504\tR_Loss: 3.1040\tDKL: 0.2430\tAvgR 3.0163\tTest Loss : 0.7750   Time : 258.80s\n",
      "Beta : 1.009921168306624\n",
      "Clasify Train Epoch:  16 ( 99%)\tC Acc: 0.5066\tFR Acc: 0.4737\tT Acc: 0.5200\tB Acc: 0.6757\tRX Acc: 0.5238\n",
      "Train Epoch:  16 [139800/139800 (100%)]\tLoss: 5.5752\tR_Loss: 5.0041\tDKL: 0.5654\tAvgR 3.0125\tTest Loss : 0.7548   Time : 255.95s\n",
      "Beta : 1.0069345268892607\n",
      "Clasify Train Epoch:  17 ( 99%)\tC Acc: 0.4934\tFR Acc: 0.5556\tT Acc: 0.3867\tB Acc: 0.6000\tRX Acc: 0.7500\n",
      "Train Epoch:  17 [139800/139800 (100%)]\tLoss: 9.4871\tR_Loss: 8.7420\tDKL: 0.7399\tAvgR 3.0083\tTest Loss : 0.7701   Time : 255.71s\n",
      "Beta : 1.004849134730292\n",
      "Clasify Train Epoch:  18 ( 99%)\tC Acc: 0.4342\tFR Acc: 0.4324\tT Acc: 0.4091\tB Acc: 0.3448\tRX Acc: 0.3750\n",
      "Train Epoch:  18 [139800/139800 (100%)]\tLoss: 4.3753\tR_Loss: 4.0255\tDKL: 0.3482\tAvgR 3.0071\tTest Loss : 0.7691   Time : 256.80s\n",
      "Beta : 1.0033919305035335\n",
      "Clasify Train Epoch:  19 ( 99%)\tC Acc: 0.4474\tFR Acc: 0.5429\tT Acc: 0.3433\tB Acc: 0.5625\tRX Acc: 0.7500\n",
      "Train Epoch:  19 [139800/139800 (100%)]\tLoss: 12.1698\tR_Loss: 11.0925\tDKL: 1.0736\tAvgR 3.0020\tTest Loss : 0.7691   Time : 256.41s\n",
      "Beta : 1.0023731450794302\n",
      "Clasify Train Epoch:  20 ( 99%)\tC Acc: 0.5066\tFR Acc: 0.5227\tT Acc: 0.4342\tB Acc: 0.3750\tRX Acc: 0.4286\n",
      "Train Epoch:  20 [139800/139800 (100%)]\tLoss: 6.7251\tR_Loss: 6.1216\tDKL: 0.6021\tAvgR 2.9989\tTest Loss : 0.7525   Time : 257.17s\n",
      "Beta : 1.001660610822041\n"
     ]
    },
    {
     "data": {
      "image/png": "[encoded data removed]",
      "text/plain": [
       "<Figure size 720x360 with 3 Axes>"
      ]
     },
     "metadata": {
      "needs_background": "light"
     },
     "output_type": "display_data"
    },
    {
     "name": "stdout",
     "output_type": "stream",
     "text": [
      "Clasify Train Epoch:  21 ( 99%)\tC Acc: 0.5658\tFR Acc: 0.4468\tT Acc: 0.4535\tB Acc: 0.5897\tRX Acc: 0.4762\n",
      "Train Epoch:  21 [139800/139800 (100%)]\tLoss: 4.8356\tR_Loss: 4.5004\tDKL: 0.3346\tAvgR 2.9931\tTest Loss : 0.8090   Time : 256.77s\n",
      "Beta : 1.0011621382326186\n",
      "Clasify Train Epoch:  22 ( 99%)\tC Acc: 0.5461\tFR Acc: 0.5106\tT Acc: 0.4146\tB Acc: 0.5429\tRX Acc: 0.5333\n",
      "Train Epoch:  22 [139800/139800 (100%)]\tLoss: 7.1936\tR_Loss: 6.3821\tDKL: 0.8106\tAvgR 2.9870\tTest Loss : 0.7881   Time : 257.02s\n",
      "Beta : 1.000813355024846\n",
      "Clasify Train Epoch:  23 ( 99%)\tC Acc: 0.5197\tFR Acc: 0.5405\tT Acc: 0.4684\tB Acc: 0.6190\tRX Acc: 0.5000\n",
      "Train Epoch:  23 [139800/139800 (100%)]\tLoss: 5.1422\tR_Loss: 4.6238\tDKL: 0.5179\tAvgR 2.9790\tTest Loss : 0.8094   Time : 257.05s\n",
      "Beta : 1.0005692790794913\n",
      "Clasify Train Epoch:  24 ( 99%)\tC Acc: 0.4934\tFR Acc: 0.6087\tT Acc: 0.4730\tB Acc: 0.4286\tRX Acc: 0.5000\n",
      "Train Epoch:  24 [139800/139800 (100%)]\tLoss: 5.6952\tR_Loss: 5.2006\tDKL: 0.4944\tAvgR 2.9753\tTest Loss : 0.7717   Time : 254.86s\n",
      "Beta : 1.0003984613357753\n",
      "Clasify Train Epoch:  25 ( 99%)\tC Acc: 0.5789\tFR Acc: 0.4583\tT Acc: 0.3636\tB Acc: 0.6000\tRX Acc: 0.5000\n",
      "Train Epoch:  25 [139800/139800 (100%)]\tLoss: 6.3258\tR_Loss: 5.8549\tDKL: 0.4707\tAvgR 2.9729\tTest Loss : 0.7965   Time : 255.80s\n",
      "Beta : 1.0002789062669197\n",
      "Clasify Train Epoch:  26 ( 99%)\tC Acc: 0.5066\tFR Acc: 0.5588\tT Acc: 0.4416\tB Acc: 0.5116\tRX Acc: 0.6875\n",
      "Train Epoch:  26 [139800/139800 (100%)]\tLoss: 7.1610\tR_Loss: 6.3514\tDKL: 0.8094\tAvgR 2.9691\tTest Loss : 0.7496   Time : 259.06s\n",
      "Beta : 1.0001952262200167\n",
      "Clasify Train Epoch:  27 ( 99%)\tC Acc: 0.3947\tFR Acc: 0.4286\tT Acc: 0.2167\tB Acc: 0.6000\tRX Acc: 0.5000\n",
      "Train Epoch:  27 [139800/139800 (100%)]\tLoss: 6.3592\tR_Loss: 5.7644\tDKL: 0.5947\tAvgR 2.9672\tTest Loss : 0.7319   Time : 259.46s\n",
      "Beta : 1.0001366543524561\n",
      "Clasify Train Epoch:  28 ( 99%)\tC Acc: 0.5526\tFR Acc: 0.4259\tT Acc: 0.3529\tB Acc: 0.6129\tRX Acc: 0.6154\n",
      "Train Epoch:  28 [139800/139800 (100%)]\tLoss: 5.3139\tR_Loss: 4.8748\tDKL: 0.4391\tAvgR 2.9657\tTest Loss : 0.7680   Time : 259.06s\n",
      "Beta : 1.0000956560860221\n",
      "Clasify Train Epoch:  29 ( 99%)\tC Acc: 0.4868\tFR Acc: 0.4773\tT Acc: 0.4189\tB Acc: 0.4667\tRX Acc: 0.5000\n",
      "Train Epoch:  29 [139800/139800 (100%)]\tLoss: 5.2016\tR_Loss: 4.6882\tDKL: 0.5133\tAvgR 2.9641\tTest Loss : 0.7328   Time : 260.67s\n",
      "Beta : 1.000066958299496\n",
      "Clasify Train Epoch:  30 ( 99%)\tC Acc: 0.5855\tFR Acc: 0.5102\tT Acc: 0.4091\tB Acc: 0.5641\tRX Acc: 0.7778\n",
      "Train Epoch:  30 [139800/139800 (100%)]\tLoss: 6.6293\tR_Loss: 5.7687\tDKL: 0.8605\tAvgR 2.9621\tTest Loss : 0.7451   Time : 258.89s\n",
      "Beta : 1.0000468703389025\n"
     ]
    },
    {
     "data": {
      "image/png": "[encoded data removed]",
      "text/plain": [
       "<Figure size 720x360 with 3 Axes>"
      ]
     },
     "metadata": {
      "needs_background": "light"
     },
     "output_type": "display_data"
    },
    {
     "name": "stdout",
     "output_type": "stream",
     "text": [
      "Clasify Train Epoch:  31 ( 99%)\tC Acc: 0.5263\tFR Acc: 0.5588\tT Acc: 0.4125\tB Acc: 0.5870\tRX Acc: 0.5357\n",
      "Train Epoch:  31 [139800/139800 (100%)]\tLoss: 6.3614\tR_Loss: 5.7377\tDKL: 0.6237\tAvgR 2.9604\tTest Loss : 0.7807   Time : 258.52s\n",
      "Beta : 1.0000328090065693\n",
      "Clasify Train Epoch:  32 ( 99%)\tC Acc: 0.5066\tFR Acc: 0.4524\tT Acc: 0.4605\tB Acc: 0.6176\tRX Acc: 0.4737\n",
      "Train Epoch:  32 [139800/139800 (100%)]\tLoss: 5.3293\tR_Loss: 4.8190\tDKL: 0.5103\tAvgR 2.9593\tTest Loss : 0.8121   Time : 256.08s\n",
      "Beta : 1.000022966191575\n",
      "Clasify Train Epoch:  33 ( 99%)\tC Acc: 0.5132\tFR Acc: 0.4889\tT Acc: 0.5455\tB Acc: 0.5625\tRX Acc: 0.4667\n",
      "Train Epoch:  33 [139800/139800 (100%)]\tLoss: 9.4738\tR_Loss: 8.6288\tDKL: 0.8450\tAvgR 2.9577\tTest Loss : 0.7433   Time : 257.75s\n",
      "Beta : 1.0000160762787211\n",
      "Clasify Train Epoch:  34 ( 99%)\tC Acc: 0.3553\tFR Acc: 0.4839\tT Acc: 0.3704\tB Acc: 0.3478\tRX Acc: 0.5000\n",
      "Train Epoch:  34 [139800/139800 (100%)]\tLoss: 9.8554\tR_Loss: 9.1361\tDKL: 0.7193\tAvgR 2.9563\tTest Loss : 0.7500   Time : 257.69s\n",
      "Beta : 1.0000112533679681\n",
      "Clasify Train Epoch:  35 ( 99%)\tC Acc: 0.5132\tFR Acc: 0.5500\tT Acc: 0.4342\tB Acc: 0.5000\tRX Acc: 0.6000\n",
      "Train Epoch:  35 [139800/139800 (100%)]\tLoss: 11.4699\tR_Loss: 10.2545\tDKL: 1.2153\tAvgR 2.9552\tTest Loss : 0.8039   Time : 256.34s\n",
      "Beta : 1.0000078773442806\n",
      "Clasify Train Epoch:  36 ( 99%)\tC Acc: 0.5263\tFR Acc: 0.5625\tT Acc: 0.3418\tB Acc: 0.5806\tRX Acc: 0.6923\n",
      "Train Epoch:  36 [139800/139800 (100%)]\tLoss: 5.3917\tR_Loss: 4.8656\tDKL: 0.5260\tAvgR 2.9548\tTest Loss : 0.7863   Time : 260.05s\n",
      "Beta : 1.000005514134481\n",
      "Clasify Train Epoch:  37 ( 99%)\tC Acc: 0.4474\tFR Acc: 0.4815\tT Acc: 0.4265\tB Acc: 0.5610\tRX Acc: 0.4545\n",
      "Train Epoch:  37 [139800/139800 (100%)]\tLoss: 12.4567\tR_Loss: 11.5313\tDKL: 0.9253\tAvgR 2.9537\tTest Loss : 0.7450   Time : 259.30s\n",
      "Beta : 1.0000038598909442\n",
      "Clasify Train Epoch:  38 ( 99%)\tC Acc: 0.4868\tFR Acc: 0.4250\tT Acc: 0.4306\tB Acc: 0.3750\tRX Acc: 0.6154\n",
      "Train Epoch:  38 [139800/139800 (100%)]\tLoss: 8.0969\tR_Loss: 7.3687\tDKL: 0.7282\tAvgR 2.9527\tTest Loss : 0.7529   Time : 264.71s\n",
      "Beta : 1.0000027019220965\n",
      "Clasify Train Epoch:  39 ( 99%)\tC Acc: 0.5132\tFR Acc: 0.6383\tT Acc: 0.3205\tB Acc: 0.7097\tRX Acc: 0.3571\n",
      "Train Epoch:  39 [139800/139800 (100%)]\tLoss: 4.5499\tR_Loss: 4.0388\tDKL: 0.5111\tAvgR 2.9508\tTest Loss : 0.7570   Time : 279.92s\n",
      "Beta : 1.000001891344701\n",
      "Clasify Train Epoch:  40 ( 99%)\tC Acc: 0.4803\tFR Acc: 0.5122\tT Acc: 0.4028\tB Acc: 0.7097\tRX Acc: 0.3529\n",
      "Train Epoch:  40 [139800/139800 (100%)]\tLoss: 5.8431\tR_Loss: 5.4026\tDKL: 0.4406\tAvgR 2.9498\tTest Loss : 0.7404   Time : 275.39s\n",
      "Beta : 1.0000013239409151\n"
     ]
    },
    {
     "data": {
      "image/png": "[encoded data removed]",
      "text/plain": [
       "<Figure size 720x360 with 3 Axes>"
      ]
     },
     "metadata": {
      "needs_background": "light"
     },
     "output_type": "display_data"
    }
   ],
   "source": [
    "k = [1, 16, 'M', 32, 'M', 64, 64,'M', 64, 'M', 128, 128, 'M', 256]\n",
    "model = VAE(lt_dim=8, k=k, n_classes=6).to(device)\n",
    "# model = vae_models.VAE().to(device)\n",
    "optimizer = Adam(model.parameters(), lr=0.0005, weight_decay=1E-5)\n",
    "loss_fun = VAE_Loss()\n",
    "criterion = nn.CrossEntropyLoss()\n",
    "\n",
    "train_loss = []\n",
    "test_loss  = []\n",
    "beta = 8\n",
    "for epoch in range(1, epochs+1):\n",
    "    #LRG, forced params\n",
    "    start = time.time()\n",
    "    classify_step_vae(model, device, data_loader_lrg_train, optimizer, epoch, loss_fun, criterion)\n",
    "#     classify_step_vae(model, device, data_loader_lrg_train, optimizer, epoch, loss_fun, criterion)\n",
    "    s, l = train_step_vae(model, device, data_loader_unlrg, optimizer, epoch, loss_fun=loss_fun, beta=beta)\n",
    "    loss = test_step_vae(model, device, data_loader_lrg, loss_fun=loss_fun)\n",
    "    \n",
    "    train_loss.append(l)\n",
    "    test_loss.append(loss)\n",
    "    t = time.time() - start\n",
    "    \n",
    "    sys.stdout.write('{}\\tAvgR {:.4f}\\tTest Loss : {:4.4f}   Time : {:.2f}s\\n'.format(s, l, loss, t))\n",
    "    sys.stdout.flush()\n",
    "    \n",
    "    beta = beta **.7if beta > 1 else 1\n",
    "    print('Beta : {}'.format(beta))\n",
    "    if epoch % 10 == 0: \n",
    "        f, ax = plt.subplots(1, 3, figsize=(10, 5))\n",
    "        o = model(sample[0].to(device))\n",
    "        ax[0].imshow(sample[0][1][0], cmap='gray')\n",
    "        ax[1].imshow(o[0][1][0].detach().cpu(), cmap='gray')\n",
    "        diff = sample[0][1][0] - o[0][1][0].detach().cpu()\n",
    "        ax[2].imshow(np.abs(diff), cmap='gray')\n",
    "        ax[0].axis('off')\n",
    "        ax[1].axis('off')\n",
    "        ax[2].axis('off')\n",
    "        plt.show()"
   ]
  },
  {
   "cell_type": "code",
   "execution_count": 30,
   "metadata": {},
   "outputs": [],
   "source": [
    "# torch.save(model, 'SimpleBVAE_Class_all')"
   ]
  },
  {
   "cell_type": "code",
   "execution_count": 14,
   "metadata": {},
   "outputs": [],
   "source": [
    "o = model(sample[0].to('cuda'))"
   ]
  },
  {
   "cell_type": "code",
   "execution_count": 15,
   "metadata": {},
   "outputs": [
    {
     "data": {
      "text/plain": [
       "tensor(2.6551, device='cuda:0', grad_fn=<NllLossBackward>)"
      ]
     },
     "execution_count": 15,
     "metadata": {},
     "output_type": "execute_result"
    }
   ],
   "source": [
    "target = Variable(sample[1], requires_grad=False).to(device)\n",
    "criterion(o[1], target.to('cuda'))"
   ]
  },
  {
   "cell_type": "code",
   "execution_count": 16,
   "metadata": {},
   "outputs": [
    {
     "data": {
      "text/plain": [
       "<matplotlib.image.AxesImage at 0x7f2a72220dd8>"
      ]
     },
     "execution_count": 16,
     "metadata": {},
     "output_type": "execute_result"
    },
    {
     "data": {
      "image/png": "[encoded data removed]",
      "text/plain": [
       "<Figure size 432x288 with 1 Axes>"
      ]
     },
     "metadata": {
      "needs_background": "light"
     },
     "output_type": "display_data"
    }
   ],
   "source": [
    "i = 1\n",
    "plt.imshow(sample[0][i][0])"
   ]
  },
  {
   "cell_type": "code",
   "execution_count": 17,
   "metadata": {},
   "outputs": [],
   "source": [
    "o = model(sample[0].to(device))"
   ]
  },
  {
   "cell_type": "code",
   "execution_count": 18,
   "metadata": {},
   "outputs": [],
   "source": [
    "# o.shape"
   ]
  },
  {
   "cell_type": "code",
   "execution_count": 19,
   "metadata": {},
   "outputs": [
    {
     "data": {
      "text/plain": [
       "<matplotlib.image.AxesImage at 0x7f2a72159588>"
      ]
     },
     "execution_count": 19,
     "metadata": {},
     "output_type": "execute_result"
    },
    {
     "data": {
      "image/png": "[encoded data removed]",
      "text/plain": [
       "<Figure size 432x288 with 1 Axes>"
      ]
     },
     "metadata": {
      "needs_background": "light"
     },
     "output_type": "display_data"
    }
   ],
   "source": [
    "plt.imshow(o[0][i][0].detach().cpu())"
   ]
  },
  {
   "cell_type": "code",
   "execution_count": 20,
   "metadata": {},
   "outputs": [],
   "source": [
    "# torch.save(model, 'SimpleVAE')"
   ]
  },
  {
   "cell_type": "code",
   "execution_count": 21,
   "metadata": {},
   "outputs": [],
   "source": [
    "s = sample[0][i:i+1]"
   ]
  },
  {
   "cell_type": "code",
   "execution_count": 22,
   "metadata": {},
   "outputs": [],
   "source": [
    "with torch.no_grad():\n",
    "    e = model.encode(s.to(device))[0]"
   ]
  },
  {
   "cell_type": "code",
   "execution_count": 23,
   "metadata": {},
   "outputs": [],
   "source": [
    "with torch.no_grad():\n",
    "    d = model.decode(e)"
   ]
  },
  {
   "cell_type": "code",
   "execution_count": 24,
   "metadata": {},
   "outputs": [
    {
     "data": {
      "text/plain": [
       "<matplotlib.image.AxesImage at 0x7f2a720c7f98>"
      ]
     },
     "execution_count": 24,
     "metadata": {},
     "output_type": "execute_result"
    },
    {
     "data": {
      "image/png": "[encoded data removed]",
      "text/plain": [
       "<Figure size 432x288 with 1 Axes>"
      ]
     },
     "metadata": {
      "needs_background": "light"
     },
     "output_type": "display_data"
    }
   ],
   "source": [
    "plt.imshow(d[0][0].cpu())"
   ]
  },
  {
   "cell_type": "code",
   "execution_count": 25,
   "metadata": {},
   "outputs": [
    {
     "data": {
      "image/png": "[encoded data removed]",
      "text/plain": [
       "<Figure size 2880x1440 with 9 Axes>"
      ]
     },
     "metadata": {
      "needs_background": "light"
     },
     "output_type": "display_data"
    }
   ],
   "source": [
    "f, ax = plt.subplots(1, 9, figsize=(40, 20))\n",
    "\n",
    "j = 7\n",
    "for k, i in enumerate(np.arange(-2, 2.5, .5)):\n",
    "    b = torch.tensor(e)\n",
    "    b[0][j] = e[0][j] + 2*i\n",
    "    with torch.no_grad():\n",
    "        d = model.decode(b).cpu()[0][0]\n",
    "    ax[k].imshow(d, cmap='gray')\n",
    "    ax[k].axis('off')"
   ]
  },
  {
   "cell_type": "code",
   "execution_count": 26,
   "metadata": {},
   "outputs": [
    {
     "data": {
      "text/plain": [
       "tensor(1.2712, device='cuda:0')"
      ]
     },
     "execution_count": 26,
     "metadata": {},
     "output_type": "execute_result"
    }
   ],
   "source": [
    "e[0][6]"
   ]
  },
  {
   "cell_type": "code",
   "execution_count": 27,
   "metadata": {},
   "outputs": [],
   "source": [
    "b = torch.tensor(e)"
   ]
  },
  {
   "cell_type": "code",
   "execution_count": 28,
   "metadata": {},
   "outputs": [],
   "source": [
    "b[0][0] = 0"
   ]
  },
  {
   "cell_type": "code",
   "execution_count": 29,
   "metadata": {},
   "outputs": [
    {
     "data": {
      "text/plain": [
       "array([-4., -3., -2., -1.,  0.,  1.,  2.,  3.,  4.])"
      ]
     },
     "execution_count": 29,
     "metadata": {},
     "output_type": "execute_result"
    }
   ],
   "source": [
    "np.arange(-4, 4.5, 1)"
   ]
  },
  {
   "cell_type": "code",
   "execution_count": null,
   "metadata": {},
   "outputs": [],
   "source": []
  }
 ],
 "metadata": {
  "kernelspec": {
   "display_name": "Python 3",
   "language": "python",
   "name": "python3"
  },
  "language_info": {
   "codemirror_mode": {
    "name": "ipython",
    "version": 3
   },
   "file_extension": ".py",
   "mimetype": "text/x-python",
   "name": "python",
   "nbconvert_exporter": "python",
   "pygments_lexer": "ipython3",
   "version": "3.7.3"
  },
  "varInspector": {
   "cols": {
    "lenName": 16,
    "lenType": 16,
    "lenVar": 40
   },
   "kernels_config": {
    "python": {
     "delete_cmd_postfix": "",
     "delete_cmd_prefix": "del ",
     "library": "var_list.py",
     "varRefreshCmd": "print(var_dic_list())"
    },
    "r": {
     "delete_cmd_postfix": ") ",
     "delete_cmd_prefix": "rm(",
     "library": "var_list.r",
     "varRefreshCmd": "cat(var_dic_list()) "
    }
   },
   "types_to_exclude": [
    "module",
    "function",
    "builtin_function_or_method",
    "instance",
    "_Feature"
   ],
   "window_display": false
  }
 },
 "nbformat": 4,
 "nbformat_minor": 2
}
