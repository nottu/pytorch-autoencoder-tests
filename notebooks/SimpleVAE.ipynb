{
 "cells": [
  {
   "cell_type": "code",
   "execution_count": 1,
   "metadata": {
    "code_folding": [
     0
    ]
   },
   "outputs": [],
   "source": [
    "# just imports\n",
    "%load_ext autoreload\n",
    "%autoreload 2\n",
    "\n",
    "import sys\n",
    "import time\n",
    "\n",
    "import torch\n",
    "import torch.nn as nn\n",
    "import torch.nn.functional as F\n",
    "\n",
    "from torch.autograd import Variable\n",
    "from torch.utils import data\n",
    "from torch.optim import Adam\n",
    "\n",
    "from torchvision import transforms\n",
    "from torchvision import datasets\n",
    "\n",
    "import numpy as np\n",
    "\n",
    "from matplotlib import pyplot as plt\n",
    "from pandas import read_fwf, DataFrame\n",
    "from tqdm   import tqdm_notebook as tqdm\n",
    "import matplotlib.gridspec as gridspec\n",
    "\n",
    "from scipy.ndimage.interpolation import rotate\n",
    "from sklearn.model_selection import train_test_split"
   ]
  },
  {
   "cell_type": "code",
   "execution_count": 2,
   "metadata": {
    "code_folding": [
     0
    ]
   },
   "outputs": [],
   "source": [
    "# local imports\n",
    "sys.path.append('../')\n",
    "from VAE.rg_dataset import LRG, BasicDataset\n",
    "from VAE.loss_funcs import VAE_Loss\n",
    "from VAE import vae_models"
   ]
  },
  {
   "cell_type": "code",
   "execution_count": 3,
   "metadata": {},
   "outputs": [
    {
     "name": "stdout",
     "output_type": "stream",
     "text": [
      "../data/lrg:\t1442/1442\n",
      "../data/unlrg:\t14245/14245\n",
      "CPU times: user 6min 29s, sys: 7min 4s, total: 13min 33s\n",
      "Wall time: 4min 33s\n"
     ]
    }
   ],
   "source": [
    "%%time\n",
    "data_path = '../data/'\n",
    "aug=5\n",
    "\n",
    "lrg_data_set   = LRG(use_kittler=True, n_aug=aug, blur=True, catalog_dir=data_path + 'catalog/mrt-table3.txt', \n",
    "                                                               file_dir=data_path + 'lrg')\n",
    "\n",
    "unlrg_data_set = LRG(use_kittler=True, n_aug=aug, blur=True, catalog_dir=data_path + 'catalog/mrt-table4.txt',\n",
    "                                                               file_dir=data_path + 'unlrg')"
   ]
  },
  {
   "cell_type": "code",
   "execution_count": 4,
   "metadata": {},
   "outputs": [],
   "source": [
    "batch_size = 16 #supposedly low batch size helps fater convergence\n",
    "\n",
    "data_loader_lrg   = data.DataLoader(lrg_data_set,   batch_size=128, shuffle=False)\n",
    "data_loader_unlrg = data.DataLoader(unlrg_data_set, batch_size=16,  shuffle=False)\n",
    "\n",
    "sample = iter(data_loader_lrg).next()"
   ]
  },
  {
   "cell_type": "code",
   "execution_count": 5,
   "metadata": {},
   "outputs": [],
   "source": [
    "class VAE(nn.Module):\n",
    "    def __init__(self, lt_dim=4, k=None, batch_norm=True):\n",
    "        super(VAE, self).__init__()\n",
    "        self.k = k\n",
    "        n_layers = len(self.k)\n",
    "        encoder_layers = []\n",
    "        decoder_layers = []\n",
    "        \n",
    "        for i in range( n_layers -1) :\n",
    "            in_c, out_c = self.k[i], self.k[i + 1]\n",
    "            if(in_c == 'M'): continue\n",
    "            stride = 1\n",
    "            if out_c == 'M':\n",
    "                stride = 2\n",
    "                i += 1\n",
    "                out_c = self.k[i + 1]\n",
    "            layer = nn.Conv2d(in_c, out_c, kernel_size=3, padding=1, stride=stride)\n",
    "            encoder_layers.append(layer)\n",
    "            if batch_norm:\n",
    "                encoder_layers.append(nn.BatchNorm2d(out_c))\n",
    "            encoder_layers.append(nn.ReLU(inplace=True))\n",
    "        self.encoder = nn.Sequential(*encoder_layers)\n",
    "        \n",
    "        for i in range(n_layers - 1, 0, -1):\n",
    "            in_c, out_c = self.k[i], self.k[i - 1]\n",
    "            if(in_c == 'M'): continue\n",
    "            stride = 1\n",
    "            output_padding=0\n",
    "            if out_c == 'M':\n",
    "                stride = 2\n",
    "                i -= 1\n",
    "                out_c = self.k[i - 1]\n",
    "                output_padding=1\n",
    "                \n",
    "            layer = nn.ConvTranspose2d(in_c, out_c, kernel_size=3, padding=1, \n",
    "                                       output_padding=output_padding, stride=stride)\n",
    "            decoder_layers.append(layer)\n",
    "            if batch_norm:\n",
    "                decoder_layers.append(nn.BatchNorm2d(out_c))\n",
    "            decoder_layers.append(nn.ReLU(inplace=True))\n",
    "\n",
    "        self.decoder = nn.Sequential(*decoder_layers[:-1])\n",
    "        \n",
    "        self.fc_mu = nn.Sequential(\n",
    "                      nn.Linear(self.k[-1]*2*2, lt_dim*2),\n",
    "                      nn.Linear(lt_dim*2, lt_dim)\n",
    "        )\n",
    "        self.fc_ep = nn.Sequential(\n",
    "                      nn.Linear(self.k[-1]*2*2, lt_dim*2),\n",
    "                      nn.Linear(lt_dim*2, lt_dim)\n",
    "        )\n",
    "        \n",
    "        self.fc_dc = nn.Linear(lt_dim, self.k[-1]*2*2)\n",
    "        \n",
    "    def encode(self, x):\n",
    "        encoded = self.encoder(x)\n",
    "        encoded = encoded.view(-1, self.k[-1]*2*2)\n",
    "        return self.fc_mu(encoded), self.fc_ep(encoded)\n",
    "    \n",
    "    def reparameterize(self, mu, logvar):\n",
    "        std = torch.exp(0.5*logvar)\n",
    "        eps = torch.randn_like(std)\n",
    "        if self.training :\n",
    "            return mu + eps*std\n",
    "        return mu\n",
    "\n",
    "    def decode(self, x):\n",
    "        x = F.relu(self.fc_dc(x))\n",
    "        x = x.view(-1, self.k[-1], 2, 2) #reshape\n",
    "        return torch.sigmoid(self.decoder(x))\n",
    "    \n",
    "    def forward(self, x):\n",
    "        mu, var = self.encode(x)\n",
    "        z = self.reparameterize(mu, var)\n",
    "        d = self.decode(z)\n",
    "        return d, mu, var"
   ]
  },
  {
   "cell_type": "code",
   "execution_count": 32,
   "metadata": {},
   "outputs": [],
   "source": [
    "def train_step_vae(mode, device, data_loader, optim, epoch, loss_fun, log_interval=5, beta=1):\n",
    "    model.train()\n",
    "    s = ''\n",
    "    r_loss = 0\n",
    "    batch_sum = 0\n",
    "    avg_r_loss = 0\n",
    "    for batch_idx, (data, target) in enumerate(data_loader):\n",
    "        batch_sum += len(data)\n",
    "        data = data.to(device)\n",
    "        target = Variable(data, requires_grad=False).to(device)\n",
    "        #Forward Pass\n",
    "        optim.zero_grad()\n",
    "        output = model(data)\n",
    "\n",
    "        # BCE Loss\n",
    "        r_loss, g_loss = loss_fun(output, data)\n",
    "        loss = r_loss + (beta * g_loss)\n",
    "        avg_r_loss += r_loss.item()\n",
    "        #Backpropagation\n",
    "        loss.backward()\n",
    "        optim.step()\n",
    "        s = 'Train Epoch: {:3d} [{:5d}/{:5d} ({:3.0f}%)]\\tLoss: {:4.4f}\\tR_Loss: {:4.4f}\\tDKL: {:4.4f}'\n",
    "        s = s.format(epoch, batch_sum, len(data_loader.dataset),\n",
    "                100. * batch_idx / len(data_loader), loss.item()/len(data),\n",
    "                     r_loss.item()/len(data), g_loss.item()/len(data))\n",
    "        \n",
    "        if batch_idx % log_interval == 0:\n",
    "            sys.stdout.write('{}\\r'.format(s))\n",
    "            sys.stdout.flush()\n",
    "    return s, avg_r_loss / batch_sum"
   ]
  },
  {
   "cell_type": "code",
   "execution_count": 33,
   "metadata": {},
   "outputs": [],
   "source": [
    "def test_step_vae(model, device, data_loader, loss_fun, learn_rot=False):\n",
    "    model.eval()\n",
    "    avg_r_loss = 0\n",
    "    batch_sum = 0 \n",
    "    for batch_idx, (data, target) in enumerate(data_loader):\n",
    "        batch_sum += len(data)\n",
    "        with torch.no_grad():\n",
    "            data = data.to(device)\n",
    "            #Forward Pass\n",
    "            output = model(data)\n",
    "            # BCE Loss\n",
    "            r_loss , g_loss = loss_fun(output, data)\n",
    "            avg_r_loss += r_loss.item()\n",
    "            \n",
    "    return avg_r_loss / batch_sum"
   ]
  },
  {
   "cell_type": "code",
   "execution_count": 34,
   "metadata": {},
   "outputs": [],
   "source": [
    "device = 'cuda'\n",
    "epochs = 40"
   ]
  },
  {
   "cell_type": "code",
   "execution_count": 35,
   "metadata": {},
   "outputs": [
    {
     "name": "stdout",
     "output_type": "stream",
     "text": [
      "Train Epoch:   1 [69900/69900 (100%)]\tLoss: 58.6662\tR_Loss: 58.5744\tDKL: 0.0919\tAvgR 91.7193\tTest Loss : 5.1924   Time : 142.43s\n",
      "Train Epoch:   2 [69900/69900 (100%)]\tLoss: 19.6554\tR_Loss: 19.4529\tDKL: 0.2025\tAvgR 23.3153\tTest Loss : 1.6689   Time : 145.57s\n",
      "Train Epoch:   3 [69900/69900 (100%)]\tLoss: 12.0284\tR_Loss: 11.9267\tDKL: 0.1017\tAvgR 7.8568\tTest Loss : 0.9445   Time : 146.24s\n",
      "Train Epoch:   4 [69900/69900 (100%)]\tLoss: 11.0142\tR_Loss: 10.8722\tDKL: 0.1420\tAvgR 4.1089\tTest Loss : 0.7067   Time : 148.21s\n",
      "Train Epoch:   5 [69900/69900 (100%)]\tLoss: 10.7085\tR_Loss: 10.5071\tDKL: 0.2014\tAvgR 3.0583\tTest Loss : 0.5776   Time : 150.77s\n",
      "Train Epoch:   6 [69900/69900 (100%)]\tLoss: 8.1913\tR_Loss: 7.6865\tDKL: 0.5048\tAvgR 2.5258\tTest Loss : 0.4986   Time : 139.96s\n",
      "Train Epoch:   7 [69900/69900 (100%)]\tLoss: 7.8510\tR_Loss: 7.2984\tDKL: 0.5526\tAvgR 2.3205\tTest Loss : 0.4721   Time : 134.38s\n",
      "Train Epoch:   8 [69900/69900 (100%)]\tLoss: 7.7806\tR_Loss: 7.1781\tDKL: 0.6026\tAvgR 2.2573\tTest Loss : 0.4698   Time : 134.17s\n",
      "Train Epoch:   9 [69900/69900 (100%)]\tLoss: 7.7560\tR_Loss: 7.1175\tDKL: 0.6384\tAvgR 2.2256\tTest Loss : 0.4634   Time : 133.95s\n",
      "Train Epoch:  10 [69900/69900 (100%)]\tLoss: 7.2726\tR_Loss: 6.7278\tDKL: 0.5448\tAvgR 2.2037\tTest Loss : 0.4590   Time : 133.98s\n"
     ]
    },
    {
     "data": {
      "image/png": "[encoded data removed]",
      "text/plain": [
       "<Figure size 720x360 with 3 Axes>"
      ]
     },
     "metadata": {
      "needs_background": "light"
     },
     "output_type": "display_data"
    },
    {
     "name": "stdout",
     "output_type": "stream",
     "text": [
      "Train Epoch:  11 [69900/69900 (100%)]\tLoss: 7.0336\tR_Loss: 6.4530\tDKL: 0.5806\tAvgR 2.1868\tTest Loss : 0.4815   Time : 134.68s\n",
      "Train Epoch:  12 [69900/69900 (100%)]\tLoss: 7.1271\tR_Loss: 6.5266\tDKL: 0.6005\tAvgR 2.1716\tTest Loss : 0.4564   Time : 135.63s\n",
      "Train Epoch:  13 [69900/69900 (100%)]\tLoss: 6.9536\tR_Loss: 6.3529\tDKL: 0.6007\tAvgR 2.1610\tTest Loss : 0.4536   Time : 134.70s\n",
      "Train Epoch:  14 [69900/69900 (100%)]\tLoss: 6.8438\tR_Loss: 6.2712\tDKL: 0.5725\tAvgR 2.1548\tTest Loss : 0.4540   Time : 135.79s\n",
      "Train Epoch:  15 [69900/69900 (100%)]\tLoss: 7.4085\tR_Loss: 6.8052\tDKL: 0.6033\tAvgR 2.1463\tTest Loss : 0.4547   Time : 137.28s\n",
      "Train Epoch:  16 [69900/69900 (100%)]\tLoss: 6.9067\tR_Loss: 6.3104\tDKL: 0.5963\tAvgR 2.1401\tTest Loss : 0.4498   Time : 136.67s\n",
      "Train Epoch:  17 [69900/69900 (100%)]\tLoss: 6.8090\tR_Loss: 6.2240\tDKL: 0.5850\tAvgR 2.1355\tTest Loss : 0.4594   Time : 135.71s\n",
      "Train Epoch:  18 [69900/69900 (100%)]\tLoss: 6.7731\tR_Loss: 6.1820\tDKL: 0.5911\tAvgR 2.1336\tTest Loss : 0.4512   Time : 135.17s\n",
      "Train Epoch:  19 [69900/69900 (100%)]\tLoss: 6.8024\tR_Loss: 6.2389\tDKL: 0.5634\tAvgR 2.1271\tTest Loss : 0.4648   Time : 134.53s\n",
      "Train Epoch:  20 [69900/69900 (100%)]\tLoss: 7.0273\tR_Loss: 6.4327\tDKL: 0.5946\tAvgR 2.1235\tTest Loss : 0.4646   Time : 135.25s\n"
     ]
    },
    {
     "data": {
      "image/png": "[encoded data removed]",
      "text/plain": [
       "<Figure size 720x360 with 3 Axes>"
      ]
     },
     "metadata": {
      "needs_background": "light"
     },
     "output_type": "display_data"
    },
    {
     "name": "stdout",
     "output_type": "stream",
     "text": [
      "Train Epoch:  21 [69900/69900 (100%)]\tLoss: 6.8314\tR_Loss: 6.2327\tDKL: 0.5987\tAvgR 2.1200\tTest Loss : 0.4605   Time : 136.87s\n",
      "Train Epoch:  22 [69900/69900 (100%)]\tLoss: 6.8340\tR_Loss: 6.2477\tDKL: 0.5863\tAvgR 2.1149\tTest Loss : 0.4544   Time : 136.93s\n",
      "Train Epoch:  23 [69900/69900 (100%)]\tLoss: 7.1701\tR_Loss: 6.5403\tDKL: 0.6297\tAvgR 2.1101\tTest Loss : 0.4501   Time : 135.87s\n",
      "Train Epoch:  24 [69900/69900 (100%)]\tLoss: 7.2908\tR_Loss: 6.7253\tDKL: 0.5655\tAvgR 2.1047\tTest Loss : 0.4620   Time : 135.24s\n",
      "Train Epoch:  25 [69900/69900 (100%)]\tLoss: 7.0017\tR_Loss: 6.3835\tDKL: 0.6182\tAvgR 2.1010\tTest Loss : 0.4569   Time : 136.67s\n",
      "Train Epoch:  26 [69900/69900 (100%)]\tLoss: 6.9499\tR_Loss: 6.3045\tDKL: 0.6454\tAvgR 2.0979\tTest Loss : 0.4409   Time : 134.27s\n",
      "Train Epoch:  27 [69900/69900 (100%)]\tLoss: 6.8875\tR_Loss: 6.3243\tDKL: 0.5632\tAvgR 2.0950\tTest Loss : 0.4511   Time : 136.79s\n",
      "Train Epoch:  28 [69900/69900 (100%)]\tLoss: 6.6896\tR_Loss: 6.0503\tDKL: 0.6393\tAvgR 2.0920\tTest Loss : 0.4488   Time : 135.84s\n",
      "Train Epoch:  29 [69900/69900 (100%)]\tLoss: 6.8875\tR_Loss: 6.2941\tDKL: 0.5934\tAvgR 2.0909\tTest Loss : 0.4546   Time : 136.50s\n",
      "Train Epoch:  30 [69900/69900 (100%)]\tLoss: 7.0529\tR_Loss: 6.4210\tDKL: 0.6319\tAvgR 2.0895\tTest Loss : 0.4574   Time : 135.99s\n"
     ]
    },
    {
     "data": {
      "image/png": "[encoded data removed]",
      "text/plain": [
       "<Figure size 720x360 with 3 Axes>"
      ]
     },
     "metadata": {
      "needs_background": "light"
     },
     "output_type": "display_data"
    },
    {
     "name": "stdout",
     "output_type": "stream",
     "text": [
      "Train Epoch:  31 [69900/69900 (100%)]\tLoss: 6.7531\tR_Loss: 6.1663\tDKL: 0.5868\tAvgR 2.0876\tTest Loss : 0.4538   Time : 135.46s\n",
      "Train Epoch:  32 [69900/69900 (100%)]\tLoss: 6.9435\tR_Loss: 6.2959\tDKL: 0.6476\tAvgR 2.0869\tTest Loss : 0.4537   Time : 134.04s\n",
      "Train Epoch:  33 [69900/69900 (100%)]\tLoss: 6.7519\tR_Loss: 6.1139\tDKL: 0.6380\tAvgR 2.0846\tTest Loss : 0.4777   Time : 134.31s\n",
      "Train Epoch:  34 [69900/69900 (100%)]\tLoss: 6.9880\tR_Loss: 6.3912\tDKL: 0.5967\tAvgR 2.0838\tTest Loss : 0.4543   Time : 135.97s\n",
      "Train Epoch:  35 [69900/69900 (100%)]\tLoss: 6.8936\tR_Loss: 6.2524\tDKL: 0.6412\tAvgR 2.0831\tTest Loss : 0.4705   Time : 136.57s\n",
      "Train Epoch:  36 [69900/69900 (100%)]\tLoss: 6.8103\tR_Loss: 6.1928\tDKL: 0.6175\tAvgR 2.0795\tTest Loss : 0.4453   Time : 137.22s\n",
      "Train Epoch:  37 [69900/69900 (100%)]\tLoss: 7.0199\tR_Loss: 6.4072\tDKL: 0.6127\tAvgR 2.0799\tTest Loss : 0.4442   Time : 136.73s\n",
      "Train Epoch:  38 [69900/69900 (100%)]\tLoss: 7.0694\tR_Loss: 6.4353\tDKL: 0.6341\tAvgR 2.0792\tTest Loss : 0.4497   Time : 135.36s\n",
      "Train Epoch:  39 [69900/69900 (100%)]\tLoss: 7.0975\tR_Loss: 6.4402\tDKL: 0.6572\tAvgR 2.0789\tTest Loss : 0.4493   Time : 136.06s\n",
      "Train Epoch:  40 [69900/69900 (100%)]\tLoss: 6.8606\tR_Loss: 6.2497\tDKL: 0.6109\tAvgR 2.0760\tTest Loss : 0.4631   Time : 136.69s\n"
     ]
    },
    {
     "data": {
      "image/png": "[encoded data removed]",
      "text/plain": [
       "<Figure size 720x360 with 3 Axes>"
      ]
     },
     "metadata": {
      "needs_background": "light"
     },
     "output_type": "display_data"
    }
   ],
   "source": [
    "k = [1, 16, 'M', 32, 'M', 64, 64,'M', 64, 'M', 128, 128, 'M', 256]\n",
    "model = VAE(lt_dim=8, k=k).to(device)\n",
    "# model = vae_models.VAE().to(device)\n",
    "optimizer = Adam(model.parameters(), lr=0.0005, weight_decay=1E-5)\n",
    "loss_fun = VAE_Loss()\n",
    "\n",
    "train_loss = []\n",
    "test_loss  = []\n",
    "for epoch in range(1, epochs+1):\n",
    "    #LRG, forced params\n",
    "    start = time.time()\n",
    "    s, l = train_step_vae(model, device, data_loader_unlrg, optimizer, epoch, loss_fun=loss_fun)\n",
    "    loss = test_step_vae(model, device, data_loader_lrg, loss_fun=loss_fun)\n",
    "    \n",
    "    train_loss.append(l)\n",
    "    test_loss.append(loss)\n",
    "    t = time.time() - start\n",
    "    \n",
    "    sys.stdout.write('{}\\tAvgR {:.4f}\\tTest Loss : {:4.4f}   Time : {:.2f}s\\n'.format(s, l, loss, t))\n",
    "    if epoch % 10 == 0: \n",
    "        f, ax = plt.subplots(1, 3, figsize=(10, 5))\n",
    "        o = model(sample[0].to(device))\n",
    "        ax[0].imshow(sample[0][1][0], cmap='gray')\n",
    "        ax[1].imshow(o[0][1][0].detach().cpu(), cmap='gray')\n",
    "        diff = sample[0][1][0] - o[0][1][0].detach().cpu()\n",
    "        ax[2].imshow(np.abs(diff), cmap='gray')\n",
    "        ax[0].axis('off')\n",
    "        ax[1].axis('off')\n",
    "        ax[2].axis('off')\n",
    "        plt.show()"
   ]
  },
  {
   "cell_type": "code",
   "execution_count": 10,
   "metadata": {},
   "outputs": [
    {
     "data": {
      "text/plain": [
       "<matplotlib.image.AxesImage at 0x7f3c28909940>"
      ]
     },
     "execution_count": 10,
     "metadata": {},
     "output_type": "execute_result"
    },
    {
     "data": {
      "image/png": "[encoded data removed]",
      "text/plain": [
       "<Figure size 432x288 with 1 Axes>"
      ]
     },
     "metadata": {
      "needs_background": "light"
     },
     "output_type": "display_data"
    }
   ],
   "source": [
    "i = 1\n",
    "plt.imshow(sample[0][i][0])"
   ]
  },
  {
   "cell_type": "code",
   "execution_count": 59,
   "metadata": {},
   "outputs": [],
   "source": [
    "o = model(sample[0].to(device))"
   ]
  },
  {
   "cell_type": "code",
   "execution_count": 60,
   "metadata": {},
   "outputs": [],
   "source": [
    "# o.shape"
   ]
  },
  {
   "cell_type": "code",
   "execution_count": 61,
   "metadata": {},
   "outputs": [
    {
     "data": {
      "text/plain": [
       "<matplotlib.image.AxesImage at 0x7f3c1ff64240>"
      ]
     },
     "execution_count": 61,
     "metadata": {},
     "output_type": "execute_result"
    },
    {
     "data": {
      "image/png": "[encoded data removed]",
      "text/plain": [
       "<Figure size 432x288 with 1 Axes>"
      ]
     },
     "metadata": {
      "needs_background": "light"
     },
     "output_type": "display_data"
    }
   ],
   "source": [
    "plt.imshow(o[0][i][0].detach().cpu())"
   ]
  },
  {
   "cell_type": "code",
   "execution_count": 14,
   "metadata": {},
   "outputs": [],
   "source": [
    "torch.save(model, 'SimpleVAE')"
   ]
  },
  {
   "cell_type": "code",
   "execution_count": 44,
   "metadata": {},
   "outputs": [],
   "source": [
    "s = sample[0][i:i+1]"
   ]
  },
  {
   "cell_type": "code",
   "execution_count": 78,
   "metadata": {},
   "outputs": [],
   "source": [
    "with torch.no_grad():\n",
    "    e = model.encode(s.to(device))[0]"
   ]
  },
  {
   "cell_type": "code",
   "execution_count": 68,
   "metadata": {},
   "outputs": [],
   "source": [
    "with torch.no_grad():\n",
    "    d = model.decode(e)"
   ]
  },
  {
   "cell_type": "code",
   "execution_count": 69,
   "metadata": {},
   "outputs": [
    {
     "data": {
      "text/plain": [
       "<matplotlib.image.AxesImage at 0x7f3c1fe9fb00>"
      ]
     },
     "execution_count": 69,
     "metadata": {},
     "output_type": "execute_result"
    },
    {
     "data": {
      "image/png": "[encoded data removed]",
      "text/plain": [
       "<Figure size 432x288 with 1 Axes>"
      ]
     },
     "metadata": {
      "needs_background": "light"
     },
     "output_type": "display_data"
    }
   ],
   "source": [
    "plt.imshow(d[0][0].cpu())"
   ]
  },
  {
   "cell_type": "code",
   "execution_count": 130,
   "metadata": {},
   "outputs": [
    {
     "data": {
      "image/png": "[encoded data removed]",
      "text/plain": [
       "<Figure size 2880x1440 with 9 Axes>"
      ]
     },
     "metadata": {
      "needs_background": "light"
     },
     "output_type": "display_data"
    }
   ],
   "source": [
    "f, ax = plt.subplots(1, 9, figsize=(40, 20))\n",
    "\n",
    "j = 7\n",
    "for k, i in enumerate(np.arange(-2, 2.5, .5)):\n",
    "    b = torch.tensor(e)\n",
    "    b[0][j] = e[0][j] + 2*i\n",
    "    with torch.no_grad():\n",
    "        d = model.decode(b).cpu()[0][0]\n",
    "    ax[k].imshow(d, cmap='gray')\n",
    "    ax[k].axis('off')"
   ]
  },
  {
   "cell_type": "code",
   "execution_count": 127,
   "metadata": {},
   "outputs": [
    {
     "data": {
      "text/plain": [
       "tensor(-0.0478, device='cuda:0')"
      ]
     },
     "execution_count": 127,
     "metadata": {},
     "output_type": "execute_result"
    }
   ],
   "source": [
    "e[0][6]"
   ]
  },
  {
   "cell_type": "code",
   "execution_count": 80,
   "metadata": {},
   "outputs": [],
   "source": [
    "b = torch.tensor(e)"
   ]
  },
  {
   "cell_type": "code",
   "execution_count": 83,
   "metadata": {},
   "outputs": [],
   "source": [
    "b[0][0] = 0"
   ]
  },
  {
   "cell_type": "code",
   "execution_count": 115,
   "metadata": {},
   "outputs": [
    {
     "data": {
      "text/plain": [
       "array([-4., -3., -2., -1.,  0.,  1.,  2.,  3.,  4.])"
      ]
     },
     "execution_count": 115,
     "metadata": {},
     "output_type": "execute_result"
    }
   ],
   "source": [
    "np.arange(-4, 4.5, 1)"
   ]
  },
  {
   "cell_type": "code",
   "execution_count": null,
   "metadata": {},
   "outputs": [],
   "source": []
  }
 ],
 "metadata": {
  "kernelspec": {
   "display_name": "Python 3",
   "language": "python",
   "name": "python3"
  },
  "language_info": {
   "codemirror_mode": {
    "name": "ipython",
    "version": 3
   },
   "file_extension": ".py",
   "mimetype": "text/x-python",
   "name": "python",
   "nbconvert_exporter": "python",
   "pygments_lexer": "ipython3",
   "version": "3.7.3"
  },
  "varInspector": {
   "cols": {
    "lenName": 16,
    "lenType": 16,
    "lenVar": 40
   },
   "kernels_config": {
    "python": {
     "delete_cmd_postfix": "",
     "delete_cmd_prefix": "del ",
     "library": "var_list.py",
     "varRefreshCmd": "print(var_dic_list())"
    },
    "r": {
     "delete_cmd_postfix": ") ",
     "delete_cmd_prefix": "rm(",
     "library": "var_list.r",
     "varRefreshCmd": "cat(var_dic_list()) "
    }
   },
   "types_to_exclude": [
    "module",
    "function",
    "builtin_function_or_method",
    "instance",
    "_Feature"
   ],
   "window_display": false
  }
 },
 "nbformat": 4,
 "nbformat_minor": 2
}
