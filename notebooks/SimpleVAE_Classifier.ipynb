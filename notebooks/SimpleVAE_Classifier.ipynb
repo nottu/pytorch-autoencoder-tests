{
 "cells": [
  {
   "cell_type": "code",
   "execution_count": 1,
   "metadata": {
    "code_folding": [
     0
    ]
   },
   "outputs": [],
   "source": [
    "# just imports\n",
    "%load_ext autoreload\n",
    "%autoreload 2\n",
    "\n",
    "import sys\n",
    "import time\n",
    "\n",
    "import torch\n",
    "import torch.nn as nn\n",
    "import torch.nn.functional as F\n",
    "\n",
    "from torch.autograd import Variable\n",
    "from torch.utils import data\n",
    "from torch.optim import Adam\n",
    "\n",
    "from torchvision import transforms\n",
    "from torchvision import datasets\n",
    "\n",
    "import numpy as np\n",
    "\n",
    "from matplotlib import pyplot as plt\n",
    "from pandas import read_fwf, DataFrame\n",
    "from tqdm   import tqdm_notebook as tqdm\n",
    "import matplotlib.gridspec as gridspec\n",
    "\n",
    "from scipy.ndimage.interpolation import rotate\n",
    "from sklearn.model_selection import train_test_split"
   ]
  },
  {
   "cell_type": "code",
   "execution_count": 2,
   "metadata": {
    "code_folding": []
   },
   "outputs": [],
   "source": [
    "# local imports\n",
    "sys.path.append('../')\n",
    "from VAE.rg_dataset import LRG, BasicDataset, get_datasets\n",
    "from VAE.loss_funcs import VAE_Loss\n",
    "from VAE import vae_models"
   ]
  },
  {
   "cell_type": "code",
   "execution_count": 3,
   "metadata": {},
   "outputs": [],
   "source": [
    "# %%time\n",
    "# data_path = '../data/'\n",
    "# aug=10\n",
    "\n",
    "# unlrg_data_set = LRG(use_kittler=True, n_aug=aug, blur=True, catalog_dir=data_path + 'catalog/mrt-table4.txt',\n",
    "#                                                                file_dir=data_path + 'unlrg')\n",
    "\n",
    "# lrg_datasets = get_datasets()"
   ]
  },
  {
   "cell_type": "code",
   "execution_count": 4,
   "metadata": {},
   "outputs": [],
   "source": [
    "# lrg_datasets"
   ]
  },
  {
   "cell_type": "code",
   "execution_count": 5,
   "metadata": {},
   "outputs": [],
   "source": [
    "# import pickle\n",
    "# pickle.dump( unlrg_data_set, open( \"unlrg.p\", \"wb\" ) )\n",
    "# pickle.dump( lrg_datasets, open( \"lrg.p\", \"wb\" ) )"
   ]
  },
  {
   "cell_type": "code",
   "execution_count": 6,
   "metadata": {},
   "outputs": [],
   "source": [
    "import pickle\n",
    "unlrg_data_set = pickle.load( open( \"unlrg.p\", \"rb\" ) )\n",
    "lrg_datasets   = pickle.load( open( \"lrg.p\", \"rb\" ) )"
   ]
  },
  {
   "cell_type": "code",
   "execution_count": 7,
   "metadata": {},
   "outputs": [],
   "source": [
    "batch_size = 16 #supposedly low batch size helps fater convergence\n",
    "\n",
    "data_loader_lrg       = data.DataLoader(lrg_datasets['full'], batch_size=128, shuffle=False)\n",
    "data_loader_lrg_train = data.DataLoader(lrg_datasets['train'], batch_size=256, shuffle=True)\n",
    "data_loader_lrg_test  = data.DataLoader(lrg_datasets['test'],  batch_size=256, shuffle=True)\n",
    "data_loader_unlrg     = data.DataLoader(unlrg_data_set, batch_size=16,  shuffle=True)\n",
    "\n",
    "sample = iter(data_loader_lrg).next()"
   ]
  },
  {
   "cell_type": "code",
   "execution_count": 8,
   "metadata": {},
   "outputs": [
    {
     "data": {
      "image/png": "[encoded data removed]",
      "text/plain": [
       "<Figure size 432x288 with 1 Axes>"
      ]
     },
     "metadata": {
      "needs_background": "light"
     },
     "output_type": "display_data"
    }
   ],
   "source": [
    "plt.imshow(sample[0][1][0], cmap='gray')\n",
    "plt.axis('off')\n",
    "plt.show()"
   ]
  },
  {
   "cell_type": "code",
   "execution_count": 9,
   "metadata": {},
   "outputs": [
    {
     "data": {
      "text/plain": [
       "tensor([4, 3, 2, 2, 0, 4, 4, 1, 3, 1, 3, 3, 2, 1, 4, 4, 3, 3, 3, 0, 0, 1, 3, 0,\n",
       "        4, 2, 3, 1, 1, 1, 4, 4, 4, 0, 1, 0, 3, 4, 3, 3, 4, 3, 3, 1, 1, 3, 4, 3,\n",
       "        3, 5, 0, 3, 3, 0, 2, 5, 5, 3, 4, 3, 3, 1, 3, 1, 3, 0, 3, 3, 5, 0, 1, 3,\n",
       "        3, 1, 0, 2, 3, 3, 3, 3, 2, 1, 0, 1, 2, 2, 3, 0, 0, 2, 1, 2, 2, 3, 1, 3,\n",
       "        3, 4, 5, 0, 3, 1, 2, 2, 4, 2, 2, 1, 3, 1, 1, 3, 3, 2, 3, 3, 1, 1, 3, 2,\n",
       "        1, 1, 2, 0, 4, 2, 0, 3])"
      ]
     },
     "execution_count": 9,
     "metadata": {},
     "output_type": "execute_result"
    }
   ],
   "source": [
    "sample[1]"
   ]
  },
  {
   "cell_type": "code",
   "execution_count": 10,
   "metadata": {
    "code_folding": [
     0,
     8,
     23,
     43,
     47,
     67
    ]
   },
   "outputs": [],
   "source": [
    "class VAE(nn.Module):\n",
    "    def __init__(self, lt_dim=4, k=None, batch_norm=True, n_classes=2):\n",
    "        super(VAE, self).__init__()\n",
    "        self.k = k\n",
    "        n_layers = len(self.k)\n",
    "        encoder_layers = []\n",
    "        decoder_layers = []\n",
    "        \n",
    "        for i in range( n_layers -1) :\n",
    "            in_c, out_c = self.k[i], self.k[i + 1]\n",
    "            if(in_c == 'M'): continue\n",
    "            stride = 1\n",
    "            if out_c == 'M':\n",
    "                stride = 2\n",
    "                i += 1\n",
    "                out_c = self.k[i + 1]\n",
    "            layer = nn.Conv2d(in_c, out_c, kernel_size=3, padding=1, stride=stride)\n",
    "            encoder_layers.append(layer)\n",
    "            if batch_norm:\n",
    "                encoder_layers.append(nn.BatchNorm2d(out_c))\n",
    "            encoder_layers.append(nn.ReLU(inplace=True))\n",
    "        self.encoder = nn.Sequential(*encoder_layers)\n",
    "        \n",
    "        for i in range(n_layers - 1, 0, -1):\n",
    "            in_c, out_c = self.k[i], self.k[i - 1]\n",
    "            if(in_c == 'M'): continue\n",
    "            stride = 1\n",
    "            output_padding=0\n",
    "            if out_c == 'M':\n",
    "                stride = 2\n",
    "                i -= 1\n",
    "                out_c = self.k[i - 1]\n",
    "                output_padding=1\n",
    "                \n",
    "            layer = nn.ConvTranspose2d(in_c, out_c, kernel_size=3, padding=1, \n",
    "                                       output_padding=output_padding, stride=stride)\n",
    "            decoder_layers.append(layer)\n",
    "            if batch_norm:\n",
    "                decoder_layers.append(nn.BatchNorm2d(out_c))\n",
    "            decoder_layers.append(nn.ReLU(inplace=True))\n",
    "\n",
    "        self.decoder = nn.Sequential(*decoder_layers[:-1])\n",
    "        \n",
    "        self.fc_mu = nn.Sequential(\n",
    "                      nn.Linear(self.k[-1]*2*2, lt_dim*2),\n",
    "                      nn.Linear(lt_dim*2, lt_dim)\n",
    "        )\n",
    "        self.fc_ep = nn.Sequential(\n",
    "                      nn.Linear(self.k[-1]*2*2, lt_dim*2),\n",
    "                      nn.Linear(lt_dim*2, lt_dim)\n",
    "        )\n",
    "        \n",
    "        self.fc_dc = nn.Linear(lt_dim, self.k[-1]*2*2)\n",
    "        \n",
    "        #simple classifier bit\n",
    "        self.classifier = nn.Sequential(\n",
    "            nn.Linear(lt_dim, n_classes),\n",
    "        )\n",
    "        \n",
    "    def encode(self, x):\n",
    "        encoded = self.encoder(x)\n",
    "        encoded = encoded.view(-1, self.k[-1]*2*2)\n",
    "        return self.fc_mu(encoded), self.fc_ep(encoded)\n",
    "    \n",
    "    def reparameterize(self, mu, logvar):\n",
    "        std = torch.exp(0.5*logvar)\n",
    "        eps = torch.randn_like(std)\n",
    "        if self.training :\n",
    "            return mu + eps*std\n",
    "        return mu\n",
    "\n",
    "    def decode(self, x):\n",
    "        x = F.relu(self.fc_dc(x))\n",
    "        x = x.view(-1, self.k[-1], 2, 2) #reshape\n",
    "        return torch.sigmoid(self.decoder(x))\n",
    "    \n",
    "    def classify(self, x):\n",
    "        y = self.classifier(x)\n",
    "        return F.softmax(y)\n",
    "    \n",
    "    def forward(self, x):\n",
    "        mu, var = self.encode(x)\n",
    "        z = self.reparameterize(mu, var)\n",
    "        d = self.decode(z)\n",
    "        y = self.classify(z)\n",
    "        return d, mu, var, y"
   ]
  },
  {
   "cell_type": "code",
   "execution_count": 11,
   "metadata": {},
   "outputs": [],
   "source": [
    "def train_step_vae(mode, device, data_loader, optim, epoch, loss_fun, log_interval=5, beta=1):\n",
    "    model.train()\n",
    "    s = ''\n",
    "    r_loss = 0\n",
    "    batch_sum = 0\n",
    "    avg_r_loss = 0\n",
    "    for batch_idx, (data, target) in enumerate(data_loader):\n",
    "        batch_sum += len(data)\n",
    "        data = data.to(device)\n",
    "        target = Variable(data, requires_grad=False).to(device)\n",
    "        #Forward Pass\n",
    "        optim.zero_grad()\n",
    "        d, mu, var, y = model(data)\n",
    "        output = (d, mu, var)\n",
    "\n",
    "        # BCE Loss\n",
    "        r_loss, g_loss = loss_fun(output, data)\n",
    "        \n",
    "        loss = r_loss + (beta * g_loss)\n",
    "        avg_r_loss += r_loss.item()\n",
    "        #Backpropagation\n",
    "        loss.backward()\n",
    "        optim.step()\n",
    "        s = 'Train Epoch: {:3d} [{:5d}/{:5d} ({:3.0f}%)]\\tLoss: {:4.4f}\\tR_Loss: {:4.4f}\\tDKL: {:4.4f}'\n",
    "        s = s.format(epoch, batch_sum, len(data_loader.dataset),\n",
    "                100. * batch_idx / len(data_loader), loss.item()/len(data),\n",
    "                     r_loss.item()/len(data), g_loss.item()/len(data))\n",
    "        \n",
    "        if batch_idx % log_interval == 0:\n",
    "            sys.stdout.write('{}\\r'.format(s))\n",
    "            sys.stdout.flush()\n",
    "#     print('')\n",
    "    return s, avg_r_loss / batch_sum"
   ]
  },
  {
   "cell_type": "code",
   "execution_count": 12,
   "metadata": {
    "code_folding": [
     0,
     10,
     25,
     55
    ]
   },
   "outputs": [],
   "source": [
    "def get_compact_v_extended_loss(y, target):\n",
    "    target = 1*(target > 0)\n",
    "    y2 = torch.zeros([y.shape[0], 2]).to(device)\n",
    "    y2[:,0] = y[:,0]\n",
    "    y2[:,1] = torch.sum(y[:,1:], dim=1)\n",
    "    c_loss = criterion(y2, 1*(target > 0))\n",
    "    _, preds = torch.max(y2, 1)\n",
    "    acc = (1.0*torch.sum(preds == target))/len(y)\n",
    "    return c_loss, acc\n",
    "\n",
    "def get_fr1_v_fr2_loss(y, target):\n",
    "    tipical = (target == 2) + (target == 1)\n",
    "    target = target[tipical]\n",
    "    target = 1*(target == 2)\n",
    "    \n",
    "    y = y[tipical]\n",
    "    y2 = torch.zeros([y.shape[0], 2]).to(device)\n",
    "    y2[:,0] = y[:,1] / torch.sum(y[:,1:3], dim=1)\n",
    "    y2[:,1] = y[:,2] / torch.sum(y[:,1:3], dim=1)\n",
    "\n",
    "    c_loss = criterion(y2, target)\n",
    "    _, preds = torch.max(y2, 1)\n",
    "    acc = (1.0*torch.sum(preds == target))/len(y2)\n",
    "    return c_loss, acc\n",
    "\n",
    "def get_tip_v_atip_loss(y, target):\n",
    "    tipical = target  > 0\n",
    "    target = target[tipical]\n",
    "    target = 1*(target > 2)\n",
    "    \n",
    "    y = y[tipical]\n",
    "    y2 = torch.zeros([y.shape[0], 2]).to(device)\n",
    "    y2[:,0] = torch.sum(y[:,1:3], dim=1) / torch.sum(y[:,1:], dim=1)\n",
    "    y2[:,1] = torch.sum(y[:,3: ], dim=1) / torch.sum(y[:,1:], dim=1)\n",
    "\n",
    "    c_loss = criterion(y2, target)\n",
    "    _, preds = torch.max(y2, 1)\n",
    "    acc = (1.0*torch.sum(preds == target))/len(y2)\n",
    "    return c_loss, acc\n",
    "\n",
    "def get_bent_v_irreg_loss(y, target):\n",
    "    tipical = target  > 2\n",
    "    target = target[tipical]\n",
    "    target = 1*(target > 3)\n",
    "    \n",
    "    y = y[tipical]\n",
    "    y2 = torch.zeros([y.shape[0], 2]).to(device)\n",
    "    y2[:,0] = y[:,3 ] / torch.sum(y[:,3:], dim=1)\n",
    "    y2[:,1] = torch.sum(y[:,4:], dim=1) / torch.sum(y[:,3:], dim=1)\n",
    "\n",
    "    c_loss = criterion(y2, 1*(target > 0))\n",
    "    _, preds = torch.max(y2, 1)\n",
    "    acc = (1.0*torch.sum(preds == target))/len(y2)\n",
    "    return c_loss, acc\n",
    "\n",
    "def get_r_v_x_loss(y, target):\n",
    "    tipical = (target == 4) + (target == 5)\n",
    "    target = target[tipical]\n",
    "    target = 1*(target == 5)\n",
    "    \n",
    "    y = y[tipical]\n",
    "    y2 = torch.zeros([y.shape[0], 2]).to(device)\n",
    "    y2[:,0] = y[:,4] / torch.sum(y[:,4:], dim=1)\n",
    "    y2[:,1] = y[:,5] / torch.sum(y[:,4:], dim=1)\n",
    "\n",
    "    c_loss = criterion(y2, target)\n",
    "    _, preds = torch.max(y2, 1)\n",
    "    acc = (1.0*torch.sum(preds == target))/len(y2)\n",
    "    return c_loss, acc\n",
    "\n",
    "def classify_step_vae(mode, device, data_loader, optim, epoch, loss_fun, criterion, log_interval=5, beta=1):\n",
    "    model.train()\n",
    "    s = ''\n",
    "    r_loss = 0\n",
    "    batch_sum = 0\n",
    "    avg_c_loss = 0\n",
    "    running_loss = 0.0\n",
    "    running_corrects = 0\n",
    "    running_inputs=0\n",
    "    for batch_idx, (data, target) in enumerate(data_loader):\n",
    "        batch_sum += len(data)\n",
    "        data = data.to(device)\n",
    "        target = Variable(target, requires_grad=False).to(device)\n",
    "        #Forward Pass\n",
    "        optim.zero_grad()\n",
    "        d, mu, var, y = model(data)\n",
    "        output = (d, mu, var)\n",
    "        \n",
    "        # BCE Loss\n",
    "        r_loss, g_loss = loss_fun(output, data)\n",
    "        #Classify Loss\n",
    "        c_loss, c_acc = get_compact_v_extended_loss(y, target)\n",
    "        #fr1 v fr2 loss\n",
    "        fr_loss, fr_acc = get_fr1_v_fr2_loss(y, target)\n",
    "        #tip v atip loss\n",
    "        t_loss, t_acc = get_tip_v_atip_loss(y, target)\n",
    "        #bent v irreg loss\n",
    "        b_loss, b_acc = get_bent_v_irreg_loss(y, target)\n",
    "        #r v x loss\n",
    "        rx_loss, rx_acc = get_r_v_x_loss(y, target)\n",
    "        #Compund Loss\n",
    "        loss = r_loss + (beta * g_loss) + (8 * c_loss + 4*t_loss + 2*fr_loss + 2*b_loss + rx_loss)\n",
    "        avg_c_loss += c_loss.item()\n",
    "        #Backpropagation\n",
    "        loss.backward()\n",
    "        optim.step()\n",
    "        # statistics\n",
    "        running_loss += loss.item() / data.size(0)\n",
    "#         running_corrects += torch.sum(preds == target.data)\n",
    "#         running_inputs += len(target.data)\n",
    "#         running_acc = (1.0 * running_corrects)/running_inputs\n",
    "        \n",
    "        s = 'Clasify Train Epoch: {:3d} ({:3.0f}%)\\tC Acc: {:.4f}\\tFR Acc: {:.4f}\\tT Acc: {:.4f}\\tB Acc: {:.4f}\\tRX Acc: {:.4f}'\n",
    "        s = s.format(epoch,\n",
    "                100. * batch_idx / len(data_loader), c_acc, fr_acc,t_acc, b_acc,rx_acc)\n",
    "        \n",
    "        if batch_idx % log_interval == 0:\n",
    "            sys.stdout.write('{}\\r'.format(s))\n",
    "            sys.stdout.flush()\n",
    "    print('')\n",
    "    return s"
   ]
  },
  {
   "cell_type": "code",
   "execution_count": 13,
   "metadata": {
    "code_folding": [
     0
    ]
   },
   "outputs": [],
   "source": [
    "def test_step_vae(model, device, data_loader, loss_fun, learn_rot=False):\n",
    "    model.eval()\n",
    "    avg_r_loss = 0\n",
    "    batch_sum = 0 \n",
    "    for batch_idx, (data, target) in enumerate(data_loader):\n",
    "        batch_sum += len(data)\n",
    "        with torch.no_grad():\n",
    "            data = data.to(device)\n",
    "            #Forward Pass\n",
    "            d, mu, var, y = model(data)\n",
    "            output = (d, mu, var)\n",
    "            # BCE Loss\n",
    "            r_loss , g_loss = loss_fun(output, data)\n",
    "            avg_r_loss += r_loss.item()\n",
    "            \n",
    "    return avg_r_loss / batch_sum"
   ]
  },
  {
   "cell_type": "code",
   "execution_count": 14,
   "metadata": {},
   "outputs": [],
   "source": [
    "device = 'cuda'\n",
    "epochs = 40"
   ]
  },
  {
   "cell_type": "code",
   "execution_count": 33,
   "metadata": {
    "scrolled": false
   },
   "outputs": [
    {
     "name": "stdout",
     "output_type": "stream",
     "text": [
      "Clasify Train Epoch:   1 ( 99%)\tC Acc: 0.5461\tFR Acc: 0.6889\tT Acc: 0.4699\tB Acc: 0.4737\tRX Acc: 0.3913\n",
      "Train Epoch:   1 [139800/139800 (100%)]\tLoss: 29.9649\tR_Loss: 29.8484\tDKL: 0.1165\tAvgR 58.1340\tTest Loss : 2.3834   Time : 266.50s\n",
      "Clasify Train Epoch:   2 ( 99%)\tC Acc: 0.6908\tFR Acc: 0.6216\tT Acc: 0.4697\tB Acc: 0.6207\tRX Acc: 0.5882\n",
      "Train Epoch:   2 [139800/139800 (100%)]\tLoss: 10.2923\tR_Loss: 10.0478\tDKL: 0.2446\tAvgR 7.2271\tTest Loss : 1.4840   Time : 265.71s\n",
      "Clasify Train Epoch:   3 ( 99%)\tC Acc: 0.7895\tFR Acc: 0.5750\tT Acc: 0.6267\tB Acc: 0.7429\tRX Acc: 0.6471\n",
      "Train Epoch:   3 [139800/139800 (100%)]\tLoss: 7.1567\tR_Loss: 6.5561\tDKL: 0.6006\tAvgR 3.7189\tTest Loss : 0.9487   Time : 265.11s\n",
      "Clasify Train Epoch:   4 ( 99%)\tC Acc: 0.8421\tFR Acc: 0.6364\tT Acc: 0.6250\tB Acc: 0.6389\tRX Acc: 0.4444\n",
      "Train Epoch:   4 [139800/139800 (100%)]\tLoss: 7.8350\tR_Loss: 7.2888\tDKL: 0.5463\tAvgR 3.3502\tTest Loss : 0.8258   Time : 267.22s\n",
      "Clasify Train Epoch:   5 ( 99%)\tC Acc: 0.9013\tFR Acc: 0.5918\tT Acc: 0.6494\tB Acc: 0.6071\tRX Acc: 0.6429\n",
      "Train Epoch:   5 [139800/139800 (100%)]\tLoss: 5.2222\tR_Loss: 4.9049\tDKL: 0.3173\tAvgR 3.1293\tTest Loss : 0.7632   Time : 262.73s\n",
      "Clasify Train Epoch:   6 ( 99%)\tC Acc: 0.9211\tFR Acc: 0.5319\tT Acc: 0.7229\tB Acc: 0.7500\tRX Acc: 0.5294\n",
      "Train Epoch:   6 [139800/139800 (100%)]\tLoss: 5.7765\tR_Loss: 5.2156\tDKL: 0.5608\tAvgR 3.0705\tTest Loss : 0.7497   Time : 262.33s\n",
      "Clasify Train Epoch:   7 ( 99%)\tC Acc: 0.8816\tFR Acc: 0.6279\tT Acc: 0.6933\tB Acc: 0.6562\tRX Acc: 0.6000\n",
      "Train Epoch:   7 [139800/139800 (100%)]\tLoss: 4.9061\tR_Loss: 4.4962\tDKL: 0.4099\tAvgR 3.0423\tTest Loss : 0.7449   Time : 262.61s\n",
      "Clasify Train Epoch:   8 ( 99%)\tC Acc: 0.9408\tFR Acc: 0.6047\tT Acc: 0.7468\tB Acc: 0.7778\tRX Acc: 0.6364\n",
      "Train Epoch:   8 [139800/139800 (100%)]\tLoss: 9.1777\tR_Loss: 8.7111\tDKL: 0.4665\tAvgR 3.0252\tTest Loss : 0.7366   Time : 264.82s\n",
      "Clasify Train Epoch:   9 ( 99%)\tC Acc: 0.9079\tFR Acc: 0.4694\tT Acc: 0.7590\tB Acc: 0.7059\tRX Acc: 0.2500\n",
      "Train Epoch:   9 [139800/139800 (100%)]\tLoss: 5.0161\tR_Loss: 4.6754\tDKL: 0.3407\tAvgR 3.0127\tTest Loss : 0.7391   Time : 263.78s\n",
      "Clasify Train Epoch:  10 ( 99%)\tC Acc: 0.9605\tFR Acc: 0.5526\tT Acc: 0.7681\tB Acc: 0.6774\tRX Acc: 0.5000\n",
      "Train Epoch:  10 [139800/139800 (100%)]\tLoss: 5.0711\tR_Loss: 4.6404\tDKL: 0.4307\tAvgR 3.0069\tTest Loss : 0.7383   Time : 263.63s\n"
     ]
    },
    {
     "data": {
      "image/png": "[encoded data removed]",
      "text/plain": [
       "<Figure size 720x360 with 3 Axes>"
      ]
     },
     "metadata": {
      "needs_background": "light"
     },
     "output_type": "display_data"
    },
    {
     "name": "stdout",
     "output_type": "stream",
     "text": [
      "Clasify Train Epoch:  11 ( 99%)\tC Acc: 0.9145\tFR Acc: 0.4167\tT Acc: 0.8696\tB Acc: 0.6970\tRX Acc: 0.5263\n",
      "Train Epoch:  11 [139800/139800 (100%)]\tLoss: 6.7719\tR_Loss: 6.2389\tDKL: 0.5330\tAvgR 2.9987\tTest Loss : 0.7322   Time : 263.08s\n",
      "Clasify Train Epoch:  12 ( 99%)\tC Acc: 0.9211\tFR Acc: 0.5745\tT Acc: 0.8333\tB Acc: 0.6000\tRX Acc: 0.4375\n",
      "Train Epoch:  12 [139800/139800 (100%)]\tLoss: 6.7036\tR_Loss: 6.1391\tDKL: 0.5645\tAvgR 2.9932\tTest Loss : 0.7351   Time : 262.61s\n",
      "Clasify Train Epoch:  13 ( 99%)\tC Acc: 0.9474\tFR Acc: 0.6389\tT Acc: 0.7576\tB Acc: 0.6667\tRX Acc: 0.7647\n",
      "Train Epoch:  13 [139800/139800 (100%)]\tLoss: 7.1765\tR_Loss: 6.5227\tDKL: 0.6537\tAvgR 2.9879\tTest Loss : 0.7336   Time : 264.36s\n",
      "Clasify Train Epoch:  14 ( 99%)\tC Acc: 0.9211\tFR Acc: 0.6316\tT Acc: 0.8356\tB Acc: 0.8857\tRX Acc: 0.6842\n",
      "Train Epoch:  14 [139800/139800 (100%)]\tLoss: 12.0001\tR_Loss: 11.1652\tDKL: 0.8349\tAvgR 2.9846\tTest Loss : 0.7385   Time : 264.65s\n",
      "Clasify Train Epoch:  15 ( 99%)\tC Acc: 0.9211\tFR Acc: 0.5455\tT Acc: 0.7917\tB Acc: 0.7500\tRX Acc: 0.6111\n",
      "Train Epoch:  15 [139800/139800 (100%)]\tLoss: 6.0646\tR_Loss: 5.3928\tDKL: 0.6718\tAvgR 2.9818\tTest Loss : 0.7292   Time : 264.67s\n",
      "Clasify Train Epoch:  16 ( 99%)\tC Acc: 0.9145\tFR Acc: 0.6977\tT Acc: 0.7123\tB Acc: 0.8333\tRX Acc: 0.7857\n",
      "Train Epoch:  16 [139800/139800 (100%)]\tLoss: 4.1133\tR_Loss: 3.7611\tDKL: 0.3523\tAvgR 2.9779\tTest Loss : 0.7337   Time : 264.01s\n",
      "Clasify Train Epoch:  17 ( 99%)\tC Acc: 0.9474\tFR Acc: 0.5676\tT Acc: 0.7945\tB Acc: 0.7500\tRX Acc: 0.6250\n",
      "Train Epoch:  17 [139800/139800 (100%)]\tLoss: 4.8875\tR_Loss: 4.3079\tDKL: 0.5796\tAvgR 2.9749\tTest Loss : 0.7339   Time : 264.73s\n",
      "Clasify Train Epoch:  18 ( 99%)\tC Acc: 0.9276\tFR Acc: 0.5283\tT Acc: 0.7528\tB Acc: 0.6667\tRX Acc: 0.7143\n",
      "Train Epoch:  18 [139800/139800 (100%)]\tLoss: 6.7514\tR_Loss: 6.0292\tDKL: 0.7222\tAvgR 2.9733\tTest Loss : 0.7279   Time : 263.93s\n",
      "Clasify Train Epoch:  19 ( 99%)\tC Acc: 0.9342\tFR Acc: 0.6170\tT Acc: 0.8101\tB Acc: 0.5312\tRX Acc: 0.7368\n",
      "Train Epoch:  19 [139800/139800 (100%)]\tLoss: 3.5947\tR_Loss: 3.2700\tDKL: 0.3247\tAvgR 2.9705\tTest Loss : 0.7904   Time : 262.39s\n",
      "Clasify Train Epoch:  20 ( 99%)\tC Acc: 0.9276\tFR Acc: 0.4865\tT Acc: 0.8243\tB Acc: 0.7297\tRX Acc: 0.6316\n",
      "Train Epoch:  20 [139800/139800 (100%)]\tLoss: 5.9322\tR_Loss: 5.4817\tDKL: 0.4505\tAvgR 2.9689\tTest Loss : 0.7277   Time : 264.08s\n"
     ]
    },
    {
     "data": {
      "image/png": "[encoded data removed]",
      "text/plain": [
       "<Figure size 720x360 with 3 Axes>"
      ]
     },
     "metadata": {
      "needs_background": "light"
     },
     "output_type": "display_data"
    },
    {
     "name": "stdout",
     "output_type": "stream",
     "text": [
      "Clasify Train Epoch:  21 ( 99%)\tC Acc: 0.9079\tFR Acc: 0.6216\tT Acc: 0.8378\tB Acc: 0.7838\tRX Acc: 0.7222\n",
      "Train Epoch:  21 [139800/139800 (100%)]\tLoss: 9.0143\tR_Loss: 8.3007\tDKL: 0.7136\tAvgR 2.9663\tTest Loss : 0.7426   Time : 265.74s\n",
      "Clasify Train Epoch:  22 ( 99%)\tC Acc: 0.9211\tFR Acc: 0.6154\tT Acc: 0.8831\tB Acc: 0.6579\tRX Acc: 0.4000\n",
      "Train Epoch:  22 [139800/139800 (100%)]\tLoss: 6.8386\tR_Loss: 6.1881\tDKL: 0.6505\tAvgR 2.9647\tTest Loss : 0.7396   Time : 265.18s\n",
      "Clasify Train Epoch:  23 ( 99%)\tC Acc: 0.9408\tFR Acc: 0.6279\tT Acc: 0.8354\tB Acc: 0.6944\tRX Acc: 0.6429\n",
      "Train Epoch:  23 [139800/139800 (100%)]\tLoss: 10.4620\tR_Loss: 9.6890\tDKL: 0.7730\tAvgR 2.9622\tTest Loss : 0.7329   Time : 262.10s\n",
      "Clasify Train Epoch:  24 ( 99%)\tC Acc: 0.9342\tFR Acc: 0.6136\tT Acc: 0.9146\tB Acc: 0.6053\tRX Acc: 0.5652\n",
      "Train Epoch:  24 [139800/139800 (100%)]\tLoss: 5.4789\tR_Loss: 4.9184\tDKL: 0.5605\tAvgR 2.9615\tTest Loss : 0.7350   Time : 263.21s\n",
      "Clasify Train Epoch:  25 ( 99%)\tC Acc: 0.9408\tFR Acc: 0.5143\tT Acc: 0.8395\tB Acc: 0.6522\tRX Acc: 0.7826\n",
      "Train Epoch:  25 [139800/139800 (100%)]\tLoss: 7.6990\tR_Loss: 6.8907\tDKL: 0.8083\tAvgR 2.9584\tTest Loss : 0.7268   Time : 266.18s\n",
      "Clasify Train Epoch:  26 ( 99%)\tC Acc: 0.8816\tFR Acc: 0.6176\tT Acc: 0.8485\tB Acc: 0.8125\tRX Acc: 0.6500\n",
      "Train Epoch:  26 [139800/139800 (100%)]\tLoss: 4.7532\tR_Loss: 4.4600\tDKL: 0.2932\tAvgR 2.9580\tTest Loss : 0.7270   Time : 264.83s\n",
      "Clasify Train Epoch:  27 ( 99%)\tC Acc: 0.9539\tFR Acc: 0.6667\tT Acc: 0.7979\tB Acc: 0.7143\tRX Acc: 0.6364\n",
      "Train Epoch:  27 [139800/139800 (100%)]\tLoss: 4.4201\tR_Loss: 4.1368\tDKL: 0.2833\tAvgR 2.9580\tTest Loss : 0.7351   Time : 267.73s\n",
      "Clasify Train Epoch:  28 ( 99%)\tC Acc: 0.9474\tFR Acc: 0.4107\tT Acc: 0.8415\tB Acc: 0.7308\tRX Acc: 0.6667\n",
      "Train Epoch:  28 [139800/139800 (100%)]\tLoss: 4.5918\tR_Loss: 3.9739\tDKL: 0.6179\tAvgR 2.9564\tTest Loss : 0.7446   Time : 265.28s\n",
      "Clasify Train Epoch:  29 ( 99%)\tC Acc: 0.9013\tFR Acc: 0.5000\tT Acc: 0.8194\tB Acc: 0.7500\tRX Acc: 0.8125\n",
      "Train Epoch:  29 [139800/139800 (100%)]\tLoss: 10.2100\tR_Loss: 9.2122\tDKL: 0.9978\tAvgR 2.9557\tTest Loss : 0.8580   Time : 265.77s\n",
      "Clasify Train Epoch:  30 ( 99%)\tC Acc: 0.9605\tFR Acc: 0.5000\tT Acc: 0.8406\tB Acc: 0.6552\tRX Acc: 0.6429\n",
      "Train Epoch:  30 [139800/139800 (100%)]\tLoss: 5.6936\tR_Loss: 5.1444\tDKL: 0.5492\tAvgR 2.9541\tTest Loss : 0.7283   Time : 261.40s\n"
     ]
    },
    {
     "data": {
      "image/png": "[encoded data removed]",
      "text/plain": [
       "<Figure size 720x360 with 3 Axes>"
      ]
     },
     "metadata": {
      "needs_background": "light"
     },
     "output_type": "display_data"
    },
    {
     "name": "stdout",
     "output_type": "stream",
     "text": [
      "Clasify Train Epoch:  31 ( 99%)\tC Acc: 0.9342\tFR Acc: 0.5610\tT Acc: 0.8529\tB Acc: 0.8519\tRX Acc: 0.5833\n",
      "Train Epoch:  31 [139800/139800 (100%)]\tLoss: 4.5049\tR_Loss: 4.0276\tDKL: 0.4773\tAvgR 2.9528\tTest Loss : 0.7330   Time : 263.61s\n",
      "Clasify Train Epoch:  32 ( 99%)\tC Acc: 0.9539\tFR Acc: 0.6364\tT Acc: 0.8056\tB Acc: 0.7857\tRX Acc: 0.7059\n",
      "Train Epoch:  32 [139800/139800 (100%)]\tLoss: 6.2917\tR_Loss: 5.8165\tDKL: 0.4752\tAvgR 2.9517\tTest Loss : 0.7453   Time : 264.35s\n",
      "Clasify Train Epoch:  33 ( 99%)\tC Acc: 0.9539\tFR Acc: 0.6170\tT Acc: 0.8395\tB Acc: 0.7353\tRX Acc: 0.7692\n",
      "Train Epoch:  33 [139800/139800 (100%)]\tLoss: 5.0555\tR_Loss: 4.5510\tDKL: 0.5045\tAvgR 2.9516\tTest Loss : 0.7354   Time : 266.27s\n",
      "Clasify Train Epoch:  34 ( 99%)\tC Acc: 0.9145\tFR Acc: 0.5319\tT Acc: 0.7931\tB Acc: 0.7500\tRX Acc: 0.8333\n",
      "Train Epoch:  34 [139800/139800 (100%)]\tLoss: 4.3377\tR_Loss: 4.0028\tDKL: 0.3350\tAvgR 2.9480\tTest Loss : 0.7408   Time : 263.85s\n",
      "Clasify Train Epoch:  35 ( 99%)\tC Acc: 0.9408\tFR Acc: 0.5526\tT Acc: 0.8358\tB Acc: 0.6552\tRX Acc: 0.5714\n",
      "Train Epoch:  35 [139800/139800 (100%)]\tLoss: 4.3534\tR_Loss: 4.1007\tDKL: 0.2528\tAvgR 2.9485\tTest Loss : 0.7291   Time : 262.68s\n",
      "Clasify Train Epoch:  36 ( 99%)\tC Acc: 0.9408\tFR Acc: 0.7556\tT Acc: 0.7407\tB Acc: 0.6667\tRX Acc: 0.6316\n",
      "Train Epoch:  36 [139800/139800 (100%)]\tLoss: 5.1749\tR_Loss: 4.7493\tDKL: 0.4256\tAvgR 2.9476\tTest Loss : 0.9314   Time : 263.69s\n",
      "Clasify Train Epoch:  37 ( 99%)\tC Acc: 0.9408\tFR Acc: 0.5714\tT Acc: 0.8158\tB Acc: 0.7941\tRX Acc: 0.6000\n",
      "Train Epoch:  37 [139800/139800 (100%)]\tLoss: 12.6748\tR_Loss: 11.6728\tDKL: 1.0020\tAvgR 2.9479\tTest Loss : 0.8200   Time : 262.55s\n",
      "Clasify Train Epoch:  38 ( 99%)\tC Acc: 0.9474\tFR Acc: 0.5227\tT Acc: 0.7108\tB Acc: 0.7436\tRX Acc: 0.7778\n",
      "Train Epoch:  38 [139800/139800 (100%)]\tLoss: 7.2124\tR_Loss: 6.5055\tDKL: 0.7069\tAvgR 2.9462\tTest Loss : 0.7318   Time : 262.99s\n",
      "Clasify Train Epoch:  39 ( 99%)\tC Acc: 0.9211\tFR Acc: 0.5745\tT Acc: 0.8293\tB Acc: 0.7429\tRX Acc: 0.6250\n",
      "Train Epoch:  39 [139800/139800 (100%)]\tLoss: 8.7883\tR_Loss: 8.0679\tDKL: 0.7204\tAvgR 2.9459\tTest Loss : 0.7386   Time : 261.23s\n",
      "Clasify Train Epoch:  40 ( 99%)\tC Acc: 0.9211\tFR Acc: 0.5333\tT Acc: 0.8205\tB Acc: 0.6667\tRX Acc: 0.5333\n",
      "Train Epoch:  40 [139800/139800 (100%)]\tLoss: 4.8275\tR_Loss: 4.4663\tDKL: 0.3612\tAvgR 2.9452\tTest Loss : 0.7292   Time : 262.74s\n"
     ]
    },
    {
     "data": {
      "image/png": "[encoded data removed]",
      "text/plain": [
       "<Figure size 720x360 with 3 Axes>"
      ]
     },
     "metadata": {
      "needs_background": "light"
     },
     "output_type": "display_data"
    }
   ],
   "source": [
    "k = [1, 16, 'M', 32, 'M', 64, 64,'M', 64, 'M', 128, 128, 'M', 256]\n",
    "model = VAE(lt_dim=8, k=k, n_classes=6).to(device)\n",
    "# model = vae_models.VAE().to(device)\n",
    "optimizer = Adam(model.parameters(), lr=0.0005, weight_decay=1E-5)\n",
    "loss_fun = VAE_Loss()\n",
    "criterion = nn.CrossEntropyLoss()\n",
    "\n",
    "train_loss = []\n",
    "test_loss  = []\n",
    "for epoch in range(1, epochs+1):\n",
    "    #LRG, forced params\n",
    "    start = time.time()\n",
    "    classify_step_vae(model, device, data_loader_lrg_train, optimizer, epoch, loss_fun, criterion)\n",
    "#     classify_step_vae(model, device, data_loader_lrg_train, optimizer, epoch, loss_fun, criterion)\n",
    "    s, l = train_step_vae(model, device, data_loader_unlrg, optimizer, epoch, loss_fun=loss_fun)\n",
    "    loss = test_step_vae(model, device, data_loader_lrg, loss_fun=loss_fun)\n",
    "    \n",
    "    train_loss.append(l)\n",
    "    test_loss.append(loss)\n",
    "    t = time.time() - start\n",
    "    \n",
    "    sys.stdout.write('{}\\tAvgR {:.4f}\\tTest Loss : {:4.4f}   Time : {:.2f}s\\n'.format(s, l, loss, t))\n",
    "    sys.stdout.flush()\n",
    "    if epoch % 10 == 0: \n",
    "        f, ax = plt.subplots(1, 3, figsize=(10, 5))\n",
    "        o = model(sample[0].to(device))\n",
    "        ax[0].imshow(sample[0][1][0], cmap='gray')\n",
    "        ax[1].imshow(o[0][1][0].detach().cpu(), cmap='gray')\n",
    "        diff = sample[0][1][0] - o[0][1][0].detach().cpu()\n",
    "        ax[2].imshow(np.abs(diff), cmap='gray')\n",
    "        ax[0].axis('off')\n",
    "        ax[1].axis('off')\n",
    "        ax[2].axis('off')\n",
    "        plt.show()"
   ]
  },
  {
   "cell_type": "code",
   "execution_count": 34,
   "metadata": {},
   "outputs": [],
   "source": [
    "torch.save(model, 'SimpleVAE_Class_all')"
   ]
  },
  {
   "cell_type": "code",
   "execution_count": 35,
   "metadata": {},
   "outputs": [],
   "source": [
    "o = model(sample[0].to('cuda'))"
   ]
  },
  {
   "cell_type": "code",
   "execution_count": 36,
   "metadata": {},
   "outputs": [
    {
     "data": {
      "text/plain": [
       "tensor(2.8468, device='cuda:0', grad_fn=<NllLossBackward>)"
      ]
     },
     "execution_count": 36,
     "metadata": {},
     "output_type": "execute_result"
    }
   ],
   "source": [
    "target = Variable(sample[1], requires_grad=False).to(device)\n",
    "criterion(o[1], target.to('cuda'))"
   ]
  },
  {
   "cell_type": "code",
   "execution_count": 37,
   "metadata": {},
   "outputs": [
    {
     "data": {
      "text/plain": [
       "<matplotlib.image.AxesImage at 0x7f4d3d4a5240>"
      ]
     },
     "execution_count": 37,
     "metadata": {},
     "output_type": "execute_result"
    },
    {
     "data": {
      "image/png": "[encoded data removed]",
      "text/plain": [
       "<Figure size 432x288 with 1 Axes>"
      ]
     },
     "metadata": {
      "needs_background": "light"
     },
     "output_type": "display_data"
    }
   ],
   "source": [
    "i = 1\n",
    "plt.imshow(sample[0][i][0])"
   ]
  },
  {
   "cell_type": "code",
   "execution_count": 38,
   "metadata": {},
   "outputs": [],
   "source": [
    "o = model(sample[0].to(device))"
   ]
  },
  {
   "cell_type": "code",
   "execution_count": 39,
   "metadata": {},
   "outputs": [],
   "source": [
    "# o.shape"
   ]
  },
  {
   "cell_type": "code",
   "execution_count": 40,
   "metadata": {},
   "outputs": [
    {
     "data": {
      "text/plain": [
       "<matplotlib.image.AxesImage at 0x7f4d3d4090b8>"
      ]
     },
     "execution_count": 40,
     "metadata": {},
     "output_type": "execute_result"
    },
    {
     "data": {
      "image/png": "[encoded data removed]",
      "text/plain": [
       "<Figure size 432x288 with 1 Axes>"
      ]
     },
     "metadata": {
      "needs_background": "light"
     },
     "output_type": "display_data"
    }
   ],
   "source": [
    "plt.imshow(o[0][i][0].detach().cpu())"
   ]
  },
  {
   "cell_type": "code",
   "execution_count": 41,
   "metadata": {},
   "outputs": [],
   "source": [
    "# torch.save(model, 'SimpleVAE')"
   ]
  },
  {
   "cell_type": "code",
   "execution_count": 42,
   "metadata": {},
   "outputs": [],
   "source": [
    "s = sample[0][i:i+1]"
   ]
  },
  {
   "cell_type": "code",
   "execution_count": 43,
   "metadata": {},
   "outputs": [],
   "source": [
    "with torch.no_grad():\n",
    "    e = model.encode(s.to(device))[0]"
   ]
  },
  {
   "cell_type": "code",
   "execution_count": 44,
   "metadata": {},
   "outputs": [],
   "source": [
    "with torch.no_grad():\n",
    "    d = model.decode(e)"
   ]
  },
  {
   "cell_type": "code",
   "execution_count": 45,
   "metadata": {},
   "outputs": [
    {
     "data": {
      "text/plain": [
       "<matplotlib.image.AxesImage at 0x7f4d3d423ba8>"
      ]
     },
     "execution_count": 45,
     "metadata": {},
     "output_type": "execute_result"
    },
    {
     "data": {
      "image/png": "[encoded data removed]",
      "text/plain": [
       "<Figure size 432x288 with 1 Axes>"
      ]
     },
     "metadata": {
      "needs_background": "light"
     },
     "output_type": "display_data"
    }
   ],
   "source": [
    "plt.imshow(d[0][0].cpu())"
   ]
  },
  {
   "cell_type": "code",
   "execution_count": 46,
   "metadata": {},
   "outputs": [
    {
     "data": {
      "image/png": "[encoded data removed]",
      "text/plain": [
       "<Figure size 2880x1440 with 9 Axes>"
      ]
     },
     "metadata": {
      "needs_background": "light"
     },
     "output_type": "display_data"
    }
   ],
   "source": [
    "f, ax = plt.subplots(1, 9, figsize=(40, 20))\n",
    "\n",
    "j = 7\n",
    "for k, i in enumerate(np.arange(-2, 2.5, .5)):\n",
    "    b = torch.tensor(e)\n",
    "    b[0][j] = e[0][j] + 2*i\n",
    "    with torch.no_grad():\n",
    "        d = model.decode(b).cpu()[0][0]\n",
    "    ax[k].imshow(d, cmap='gray')\n",
    "    ax[k].axis('off')"
   ]
  },
  {
   "cell_type": "code",
   "execution_count": 29,
   "metadata": {},
   "outputs": [
    {
     "data": {
      "text/plain": [
       "tensor(0.3967, device='cuda:0')"
      ]
     },
     "execution_count": 29,
     "metadata": {},
     "output_type": "execute_result"
    }
   ],
   "source": [
    "e[0][6]"
   ]
  },
  {
   "cell_type": "code",
   "execution_count": 30,
   "metadata": {},
   "outputs": [],
   "source": [
    "b = torch.tensor(e)"
   ]
  },
  {
   "cell_type": "code",
   "execution_count": 31,
   "metadata": {},
   "outputs": [],
   "source": [
    "b[0][0] = 0"
   ]
  },
  {
   "cell_type": "code",
   "execution_count": 32,
   "metadata": {},
   "outputs": [
    {
     "data": {
      "text/plain": [
       "array([-4., -3., -2., -1.,  0.,  1.,  2.,  3.,  4.])"
      ]
     },
     "execution_count": 32,
     "metadata": {},
     "output_type": "execute_result"
    }
   ],
   "source": [
    "np.arange(-4, 4.5, 1)"
   ]
  },
  {
   "cell_type": "code",
   "execution_count": null,
   "metadata": {},
   "outputs": [],
   "source": []
  }
 ],
 "metadata": {
  "kernelspec": {
   "display_name": "Python 3",
   "language": "python",
   "name": "python3"
  },
  "language_info": {
   "codemirror_mode": {
    "name": "ipython",
    "version": 3
   },
   "file_extension": ".py",
   "mimetype": "text/x-python",
   "name": "python",
   "nbconvert_exporter": "python",
   "pygments_lexer": "ipython3",
   "version": "3.7.3"
  },
  "varInspector": {
   "cols": {
    "lenName": 16,
    "lenType": 16,
    "lenVar": 40
   },
   "kernels_config": {
    "python": {
     "delete_cmd_postfix": "",
     "delete_cmd_prefix": "del ",
     "library": "var_list.py",
     "varRefreshCmd": "print(var_dic_list())"
    },
    "r": {
     "delete_cmd_postfix": ") ",
     "delete_cmd_prefix": "rm(",
     "library": "var_list.r",
     "varRefreshCmd": "cat(var_dic_list()) "
    }
   },
   "types_to_exclude": [
    "module",
    "function",
    "builtin_function_or_method",
    "instance",
    "_Feature"
   ],
   "window_display": false
  }
 },
 "nbformat": 4,
 "nbformat_minor": 2
}
