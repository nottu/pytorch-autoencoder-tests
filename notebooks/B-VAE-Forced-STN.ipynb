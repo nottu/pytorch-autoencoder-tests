{
 "cells": [
  {
   "cell_type": "markdown",
   "metadata": {},
   "source": [
    "Disentangled representations with $\\beta$-VAE and forced learning of some traits for Radio Galaxies"
   ]
  },
  {
   "cell_type": "code",
   "execution_count": 1,
   "metadata": {},
   "outputs": [],
   "source": [
    "%load_ext autoreload\n",
    "%autoreload 2\n",
    "\n",
    "import sys\n",
    "import time\n",
    "\n",
    "import torch\n",
    "import torch.nn as nn\n",
    "import torch.nn.functional as F\n",
    "\n",
    "from torch.autograd import Variable\n",
    "from torch.utils import data\n",
    "from torch.optim import Adam\n",
    "from torch.optim.lr_scheduler import LambdaLR\n",
    "\n",
    "from torchvision import transforms\n",
    "from torchvision import datasets\n",
    "\n",
    "import numpy as np\n",
    "\n",
    "from matplotlib import pyplot as plt\n",
    "from pandas import read_fwf, DataFrame\n",
    "from tqdm   import tqdm_notebook as tqdm\n",
    "import matplotlib.gridspec as gridspec\n",
    "\n",
    "\n",
    "from skimage import exposure\n",
    "from skimage import measure\n",
    "from skimage.io import imsave\n",
    "from skimage.filters import gaussian as gaussian_filter\n",
    "from skimage.filters import threshold_otsu\n",
    "from skimage import filters\n",
    "from skimage.morphology import opening, closing, disk, binary_dilation, flood"
   ]
  },
  {
   "cell_type": "code",
   "execution_count": 25,
   "metadata": {},
   "outputs": [],
   "source": [
    "sys.path.append('../')\n",
    "from VAE.rg_dataset import LRG, BasicDataset\n",
    "from VAE.vae_models import VAE"
   ]
  },
  {
   "cell_type": "code",
   "execution_count": 3,
   "metadata": {
    "scrolled": true
   },
   "outputs": [
    {
     "name": "stdout",
     "output_type": "stream",
     "text": [
      "../data/lrg:\t1442/1442\n",
      "../data/unlrg:\t14245/14245\n",
      "CPU times: user 5min 52s, sys: 6min 17s, total: 12min 9s\n",
      "Wall time: 4min 4s\n"
     ]
    }
   ],
   "source": [
    "%%time\n",
    "data_path = '../data/'\n",
    "aug=15\n",
    "lrg_data_set   = LRG(use_kittler=True, n_aug=aug, blur=True, catalog_dir=data_path + 'catalog/mrt-table3.txt', \n",
    "                                                               file_dir=data_path + 'lrg')\n",
    "\n",
    "unlrg_data_set = LRG(use_kittler=True, n_aug=aug, blur=True, catalog_dir=data_path + 'catalog/mrt-table4.txt',\n",
    "                                                               file_dir=data_path + 'unlrg')"
   ]
  },
  {
   "cell_type": "code",
   "execution_count": 23,
   "metadata": {},
   "outputs": [],
   "source": [
    "x, y = unlrg_data_set.get_data()\n",
    "y = np.array(y)\n",
    "\n",
    "x = x[y != 1]\n",
    "y = y[y != 1]\n",
    "\n",
    "unlrg_images, unlrg_lables = x, y\n",
    "##############################################\n",
    "x, y = lrg_data_set.get_data()\n",
    "y = np.array(y)\n",
    "\n",
    "x = x[y != 1]\n",
    "y = y[y != 1]\n",
    "lrg_images, lrg_lables = x, y"
   ]
  },
  {
   "cell_type": "code",
   "execution_count": 4,
   "metadata": {},
   "outputs": [],
   "source": [
    "# batch_size = 128\n",
    "# data_loader_lrg   = data.DataLoader(lrg_data_set,   batch_size=batch_size, shuffle=False)\n",
    "# data_loader_unlrg = data.DataLoader(unlrg_data_set, batch_size=batch_size, shuffle=True)\n",
    "\n",
    "# sample = iter(data_loader_lrg).next()"
   ]
  },
  {
   "cell_type": "code",
   "execution_count": 26,
   "metadata": {},
   "outputs": [],
   "source": [
    "# data_path = '../data/'\n",
    "\n",
    "# lrg_images   = np.load(data_path+'proc_aligned2/lrg_norm_proc.npy', allow_pickle=True)\n",
    "# unlrg_images = np.load(data_path+'proc_aligned2/unlrg_norm_proc.npy', allow_pickle=True)\n",
    "\n",
    "# aug=15\n",
    "\n",
    "my_lrg_dataset  = BasicDataset(lrg_images, lrg_data_set.labels, n_aug=2) #\n",
    "my_unlrg_dataset  = BasicDataset(unlrg_images, unlrg_data_set.labels, n_aug=10)\n",
    "\n",
    "batch_size = 128\n",
    "data_loader_lrg   = data.DataLoader(my_lrg_dataset,   batch_size=batch_size, shuffle=False)\n",
    "data_loader_unlrg = data.DataLoader(my_unlrg_dataset, batch_size=batch_size, shuffle=True)\n",
    "\n",
    "sample = iter(data_loader_lrg).next()"
   ]
  },
  {
   "cell_type": "code",
   "execution_count": 27,
   "metadata": {},
   "outputs": [],
   "source": [
    "#Simple Variational Auto Encoder\n",
    "class VAE(nn.Module):\n",
    "    def __init__(self, lt_dim=4, use_STN=True, batchNorm=True, dropout=True, activation_fnc = nn.ReLU):\n",
    "        super(VAE, self).__init__()\n",
    "        self.k = [1, 16, 32, 64, 128, 256]\n",
    "        encoder_layers = []\n",
    "        decoder_layers = []\n",
    "        ####################### STN STUFF ###################\n",
    "        self.use_STN = use_STN\n",
    "        final_size = 2*3\n",
    "        final_bias = torch.cuda.FloatTensor([1, 0, 0, 0, 1, 0])\n",
    "\n",
    "        self.localization = nn.Sequential(\n",
    "            nn.Conv2d(1, 8, kernel_size=7),\n",
    "            nn.MaxPool2d(2, stride=2),\n",
    "            nn.ReLU(True),\n",
    "            nn.Conv2d(8, 10, kernel_size=5),\n",
    "            nn.AdaptiveMaxPool2d(output_size=(3, 3)),\n",
    "            nn.ReLU(True)\n",
    "        )\n",
    "        self.fc_loc = nn.Sequential(\n",
    "            nn.Linear(10 * 3 * 3, 32),\n",
    "            nn.ReLU(True),\n",
    "            nn.Linear(32, final_size)\n",
    "        )\n",
    "        self.activation_fnc = activation_fnc\n",
    "        # initialize to identity for rotation or affine\n",
    "        self.fc_loc[2].weight.data.zero_()\n",
    "        self.fc_loc[2].bias.data.copy_(final_bias)\n",
    "        #####################################################\n",
    "        for i in range(len(self.k) - 1):\n",
    "            layer = nn.Conv2d(self.k[i], self.k[i+1], 3, 2, 1, 1)\n",
    "            encoder_layers.append(layer)\n",
    "            if batchNorm: \n",
    "                encoder_layers.append(nn.BatchNorm2d(self.k[i+1]))\n",
    "            encoder_layers.append(self.activation_fnc())\n",
    "            if dropout:\n",
    "                encoder_layers.append(nn.Dropout2d())\n",
    "\n",
    "        \n",
    "        for i in range(len(self.k) - 1, 0, -1):\n",
    "            layer = nn.ConvTranspose2d(self.k[i], self.k[i-1], 3, 2, 1, 1)\n",
    "            decoder_layers.append(layer)\n",
    "            if i == 1:\n",
    "                continue\n",
    "            if batchNorm: \n",
    "                decoder_layers.append(nn.BatchNorm2d(self.k[i - 1]))\n",
    "            decoder_layers.append(self.activation_fnc())\n",
    "            if dropout:\n",
    "                decoder_layers.append(nn.Dropout2d())\n",
    "\n",
    "\n",
    "        self.encoder = nn.Sequential(*encoder_layers)\n",
    "        self.decoder = nn.Sequential(*decoder_layers)\n",
    "        \n",
    "        self.fc_mu = nn.Sequential(\n",
    "                      nn.Linear(self.k[-1]*2*2, lt_dim*2),\n",
    "                      nn.Linear(lt_dim*2, lt_dim)\n",
    "        )\n",
    "        self.fc_ep = nn.Sequential(\n",
    "                      nn.Linear(self.k[-1]*2*2, lt_dim*2),\n",
    "                      nn.Linear(lt_dim*2, lt_dim)\n",
    "        )\n",
    "        \n",
    "        self.fc_dc = nn.Linear(lt_dim, self.k[-1]*2*2)\n",
    "    \n",
    "    def get_stn_params(self, x):\n",
    "        x = self.localization(x)\n",
    "        x = x.view(-1, 10 * 3 * 3)\n",
    "        stn_output = self.fc_loc(x)\n",
    "\n",
    "        affine_params = stn_output.view(-1, 2, 3)\n",
    "        return affine_params\n",
    "\n",
    "    def affine(self, x, affine_params, padding_mode='zeros'):\n",
    "        grid = F.affine_grid(affine_params, x.size()).cuda()\n",
    "        x = F.grid_sample(x, grid, padding_mode=padding_mode)\n",
    "        return x\n",
    "    \n",
    "    def affine_inv(self, x, affine_params, padding_mode='zeros'):\n",
    "        inv_affine_params = torch.cuda.FloatTensor(affine_params.size()).fill_(0)\n",
    "        A_inv =  torch.inverse(affine_params[:, :, :2].squeeze())\n",
    "        b = affine_params[:, : , 2:]\n",
    "        b_inv = torch.matmul(A_inv, b)\n",
    "        b_inv = b_inv.squeeze()\n",
    "        inv_affine_params[:, :2, :2] = A_inv\n",
    "        inv_affine_params[:, :, 2]   = -1 * b_inv\n",
    "        grid = F.affine_grid(inv_affine_params, x.size()).cuda()\n",
    "        x = F.grid_sample(x, grid, padding_mode=padding_mode)\n",
    "        return x\n",
    "\n",
    "    def encode(self, x):\n",
    "        if self.use_STN:\n",
    "            self.affine_params = self.get_stn_params(x)\n",
    "            x = self.affine(x, self.affine_params)\n",
    "\n",
    "        encoded = self.encoder(x).view(-1, self.k[-1]*2*2)\n",
    "        return self.fc_mu(encoded), self.fc_ep(encoded)\n",
    "    \n",
    "    def reparameterize(self, mu, logvar):\n",
    "        if self.training :\n",
    "            std = torch.exp(0.5*logvar)\n",
    "            eps = torch.randn_like(std)\n",
    "            return mu + eps*std\n",
    "        else :\n",
    "            return mu\n",
    "\n",
    "    def decode(self, x):\n",
    "        x = F.relu(self.fc_dc(x)).view(-1, self.k[-1], 2, 2)\n",
    "        x = torch.sigmoid(self.decoder(x))\n",
    "        if self.use_STN:\n",
    "            x = self.affine_inv(x, self.affine_params)\n",
    "        return x\n",
    "\n",
    "    def forward(self, x):\n",
    "        mu, var = self.encode(x)\n",
    "        z = self.reparameterize(mu, var)\n",
    "        d = self.decode(z)\n",
    "        return d, mu, var"
   ]
  },
  {
   "cell_type": "code",
   "execution_count": 28,
   "metadata": {},
   "outputs": [],
   "source": [
    "class B_VAE_Loss:\n",
    "    def __init__(self, gamma, max_capacity, epochs):\n",
    "        self.gamma = gamma\n",
    "        self.recon_ls = nn.BCELoss(reduction='sum')\n",
    "        self.capacity = 0\n",
    "        self.delta = max_capacity / float(epochs)\n",
    "        self.max_capacity = max_capacity\n",
    "    def update(self):\n",
    "        self.capacity = min(self.max_capacity, self.capacity + self.delta)\n",
    "        return self.capacity\n",
    "    def __call__(self, res, img):\n",
    "        batch_sz = len(img)\n",
    "        x, mu, logvar = res\n",
    "        recon = self.recon_ls(x, img).div(batch_sz) #res -> x, mu, var\n",
    "        kld = -0.5 * torch.sum(1 + logvar - mu.pow(2) - logvar.exp()).div(batch_sz)\n",
    "        return self.capacity, recon, self.gamma * (kld - self.capacity).abs()"
   ]
  },
  {
   "cell_type": "code",
   "execution_count": 37,
   "metadata": {},
   "outputs": [],
   "source": [
    "def train_step(model, device, data_loader, optim, epoch, log_interval=5):\n",
    "    model.train()\n",
    "    s = ''\n",
    "    for batch_idx, (data, target) in enumerate(data_loader):\n",
    "        data = data.to(device)\n",
    "        target = Variable(target, requires_grad=False).to(device)\n",
    "        #Forward Pass\n",
    "        optimizer.zero_grad()\n",
    "        output = model(data)\n",
    "        \n",
    "        #############################################\n",
    "        ######### check against known class #########\n",
    "        #############################################\n",
    "        #########    Compact vs Extended    #########\n",
    "#         extended = target > 1\n",
    "#         extended = Variable(extended.float().to(device), requires_grad=False)\n",
    "#         pred_ext = torch.sigmoid(output[1][:,0])\n",
    "#         ext_loss = F.binary_cross_entropy(pred_ext, extended, reduction='sum').div(len(pred_ext))\n",
    "        # BCE Loss\n",
    "        c, r_loss , g_loss = beta_vae_loss(output, data)\n",
    "        loss = r_loss + g_loss #+ 10 * (ext_loss)#+ fr_loss)# + reg_loss)\n",
    "        #Backpropagation\n",
    "        loss.backward()\n",
    "        optimizer.step()\n",
    "        s = 'Train Epoch: {:3d} ({:3.0f}%)  Loss: {:4.4f}  R_Loss: {:4.4f}  Capacity: {:4.2f}'\n",
    "        s = s.format(epoch,\n",
    "                100. * batch_idx / len(data_loader), loss.item(), r_loss.item(), c)\n",
    "        if batch_idx % log_interval == 0:\n",
    "            sys.stdout.write('{}\\r'.format(s))\n",
    "            sys.stdout.flush()\n",
    "    return s"
   ]
  },
  {
   "cell_type": "code",
   "execution_count": 30,
   "metadata": {},
   "outputs": [],
   "source": [
    "def test_step(model, device, data_loader, optim, epoch, log_interval=5):\n",
    "    model.eval()\n",
    "    loss = 0\n",
    "    for batch_idx, (data, target) in enumerate(data_loader):\n",
    "        with torch.no_grad():\n",
    "            data = data.to(device)\n",
    "            #Forward Pass\n",
    "            output = model(data)\n",
    "\n",
    "            # BCE Loss\n",
    "            c, r_loss , g_loss = beta_vae_loss(output, data)\n",
    "            loss = r_loss\n",
    "    return loss"
   ]
  },
  {
   "cell_type": "code",
   "execution_count": 31,
   "metadata": {},
   "outputs": [],
   "source": [
    "device = 'cuda'\n",
    "lt_dim = 10\n",
    "lr= 0.0001\n",
    "lambda_lr = lambda epoch : np.power(0.75, epoch / 5)\n",
    "epochs = 20\n",
    "gam = 10\n",
    "cap = 10\n",
    "beta_vae_loss = B_VAE_Loss(gamma=gam, max_capacity=cap, epochs=epochs)"
   ]
  },
  {
   "cell_type": "code",
   "execution_count": 32,
   "metadata": {
    "scrolled": true
   },
   "outputs": [],
   "source": [
    "def do_training(vae, optimizer, scheduler):\n",
    "    for epoch in range(1, epochs+1):\n",
    "        #LRG, forced params\n",
    "        start = time.time()\n",
    "        s = train_step(vae, 'cuda', data_loader_unlrg, optimizer, epoch)\n",
    "        loss = test_step(vae, 'cuda', data_loader_lrg, optimizer, epoch)\n",
    "        t = time.time() - start\n",
    "        sys.stdout.write('{}   Test Loss : {:4.4f}   Time : {:.2f}s   LR: {}\\n'.format(s, loss, t, scheduler.get_lr()[0]))\n",
    "        beta_vae_loss.update()\n",
    "#         scheduler.step()"
   ]
  },
  {
   "cell_type": "code",
   "execution_count": 33,
   "metadata": {},
   "outputs": [],
   "source": [
    "# %%time\n",
    "# vae = VAE(lt_dim=lt_dim, use_STN=True, activation_fnc=nn.ELU).to(device)\n",
    "# optimizer = Adam(vae.parameters(), lr=lr, weight_decay=1E-5)\n",
    "\n",
    "# scheduler = LambdaLR(optimizer, lr_lambda= lambda_lr)\n",
    "# do_training(vae, optimizer, scheduler)\n",
    "# torch.save(vae, 'b_vae_soft_stn_elu')"
   ]
  },
  {
   "cell_type": "code",
   "execution_count": 34,
   "metadata": {},
   "outputs": [],
   "source": [
    "# a = 1\n",
    "# vae.eval()\n",
    "# s, l = sample[0][a:a+1], sample[1][a:a+1]\n",
    "# with torch.no_grad():\n",
    "#     e = vae.encode(s.to(device))[0]\n",
    "#     d = vae.decode(e)\n",
    "# f, ax = plt.subplots(1, 3, figsize=(10, 5))\n",
    "# ax[0].imshow(s[0][0])\n",
    "# ax[1].imshow(d.cpu()[0][0])\n",
    "# ax[2].imshow(s[0][0] - d.cpu()[0][0], cmap='gray')\n",
    "# ax[0].axis('off')\n",
    "# ax[1].axis('off')\n",
    "# ax[2].axis('off')"
   ]
  },
  {
   "cell_type": "code",
   "execution_count": null,
   "metadata": {},
   "outputs": [
    {
     "name": "stdout",
     "output_type": "stream",
     "text": [
      "Train Epoch:   1 (100%)  Loss: 401.5721  R_Loss: 387.6564  Capacity: 0.00   Test Loss : 504.1428   Time : 48.30s   LR: 0.0005\n",
      "Train Epoch:   2 (100%)  Loss: 211.5902  R_Loss: 208.8893  Capacity: 0.10   Test Loss : 460.7953   Time : 48.33s   LR: 0.0005\n",
      "Train Epoch:   3 (100%)  Loss: 162.8667  R_Loss: 156.2253  Capacity: 0.20   Test Loss : 276.6544   Time : 48.53s   LR: 0.0005\n",
      "Train Epoch:   4 (100%)  Loss: 136.5558  R_Loss: 127.4948  Capacity: 0.30   Test Loss : 244.6234   Time : 48.67s   LR: 0.0005\n",
      "Train Epoch:   5 (100%)  Loss: 122.9975  R_Loss: 113.7163  Capacity: 0.40   Test Loss : 254.7898   Time : 48.56s   LR: 0.0005\n",
      "Train Epoch:   6 (100%)  Loss: 136.8647  R_Loss: 126.0702  Capacity: 0.50   Test Loss : 237.4881   Time : 51.63s   LR: 0.0005\n",
      "Train Epoch:   7 (100%)  Loss: 119.9600  R_Loss: 112.0980  Capacity: 0.60   Test Loss : 244.0630   Time : 50.34s   LR: 0.0005\n",
      "Train Epoch:   8 (100%)  Loss: 120.9223  R_Loss: 113.1780  Capacity: 0.70   Test Loss : 230.8424   Time : 50.11s   LR: 0.0005\n",
      "Train Epoch:   9 (100%)  Loss: 127.2165  R_Loss: 117.4566  Capacity: 0.80   Test Loss : 233.6316   Time : 49.54s   LR: 0.0005\n",
      "Train Epoch:  10 (100%)  Loss: 122.2511  R_Loss: 115.2152  Capacity: 0.90   Test Loss : 229.1621   Time : 50.51s   LR: 0.0005\n",
      "Train Epoch:  11 (100%)  Loss: 111.0563  R_Loss: 106.1170  Capacity: 1.00   Test Loss : 228.7866   Time : 49.80s   LR: 0.0005\n",
      "Train Epoch:  12 (100%)  Loss: 119.7487  R_Loss: 114.8405  Capacity: 1.10   Test Loss : 227.7410   Time : 50.96s   LR: 0.0005\n",
      "Train Epoch:  13 (100%)  Loss: 119.2931  R_Loss: 116.0046  Capacity: 1.20   Test Loss : 224.6189   Time : 49.74s   LR: 0.0005\n",
      "Train Epoch:  14 (100%)  Loss: 97.8591  R_Loss: 97.2220  Capacity: 1.30   Test Loss : 233.8017   Time : 49.23s   LR: 0.0005\n",
      "Train Epoch:  15 (100%)  Loss: 95.0905  R_Loss: 94.6023  Capacity: 1.40   Test Loss : 239.3157   Time : 49.31s   LR: 0.0005\n",
      "Train Epoch:  16 (100%)  Loss: 101.1368  R_Loss: 100.9045  Capacity: 1.50   Test Loss : 224.4111   Time : 49.02s   LR: 0.0005\n",
      "Train Epoch:  17 (100%)  Loss: 86.8521  R_Loss: 85.8034  Capacity: 1.60   Test Loss : 241.6870   Time : 48.51s   LR: 0.0005\n",
      "Train Epoch:  18 ( 13%)  Loss: 101.3887  R_Loss: 101.1972  Capacity: 1.70\r"
     ]
    }
   ],
   "source": [
    "%%time\n",
    "vae = VAE(lt_dim=lt_dim, use_STN=True, dropout=False, activation_fnc=nn.ELU).to(device)\n",
    "optimizer = Adam(vae.parameters(), lr=0.0005, weight_decay=1E-5)\n",
    "beta_vae_loss = B_VAE_Loss(gamma=gam, max_capacity=cap, epochs=epochs)\n",
    "\n",
    "scheduler = LambdaLR(optimizer, lr_lambda= lambda_lr)\n",
    "do_training(vae, optimizer, scheduler)\n",
    "torch.save(vae, 'b_vae_soft_stn_elu_nodrop')"
   ]
  },
  {
   "cell_type": "code",
   "execution_count": 36,
   "metadata": {},
   "outputs": [
    {
     "data": {
      "text/plain": [
       "(-0.5, 63.5, 63.5, -0.5)"
      ]
     },
     "execution_count": 36,
     "metadata": {},
     "output_type": "execute_result"
    },
    {
     "data": {
      "image/png": "[encoded data removed]",
      "text/plain": [
       "<Figure size 720x360 with 3 Axes>"
      ]
     },
     "metadata": {
      "needs_background": "light"
     },
     "output_type": "display_data"
    }
   ],
   "source": [
    "a = 1\n",
    "vae.eval()\n",
    "s, l = sample[0][a:a+1], sample[1][a:a+1]\n",
    "with torch.no_grad():\n",
    "    e = vae.encode(s.to(device))[0]\n",
    "    d = vae.decode(e)\n",
    "f, ax = plt.subplots(1, 3, figsize=(10, 5))\n",
    "ax[0].imshow(s[0][0])\n",
    "ax[1].imshow(d.cpu()[0][0])\n",
    "ax[2].imshow(s[0][0] - d.cpu()[0][0], cmap='gray')\n",
    "ax[0].axis('off')\n",
    "ax[1].axis('off')\n",
    "ax[2].axis('off')"
   ]
  },
  {
   "cell_type": "code",
   "execution_count": 24,
   "metadata": {},
   "outputs": [
    {
     "name": "stdout",
     "output_type": "stream",
     "text": [
      "torch.Size([1, 1, 64, 64])\n"
     ]
    },
    {
     "data": {
      "image/png": "[encoded data removed]",
      "text/plain": [
       "<Figure size 432x288 with 1 Axes>"
      ]
     },
     "metadata": {
      "needs_background": "light"
     },
     "output_type": "display_data"
    }
   ],
   "source": [
    "rs = np.rot90(s[0][0].numpy())\n",
    "plt.imshow(rs)\n",
    "rs = torch.tensor([[rs]])\n",
    "print(rs.shape)"
   ]
  },
  {
   "cell_type": "code",
   "execution_count": 25,
   "metadata": {},
   "outputs": [],
   "source": [
    "with torch.no_grad():\n",
    "    vae = torch.load('b_vae_soft_stn_elu_nodrop')\n",
    "    affine_params = vae.get_stn_params(rs.to(device))\n",
    "    affine_output = vae.affine(rs.to(device), affine_params)"
   ]
  },
  {
   "cell_type": "code",
   "execution_count": 26,
   "metadata": {},
   "outputs": [
    {
     "data": {
      "text/plain": [
       "<matplotlib.image.AxesImage at 0x7f5b2ccc5d30>"
      ]
     },
     "execution_count": 26,
     "metadata": {},
     "output_type": "execute_result"
    },
    {
     "data": {
      "image/png": "[encoded data removed]",
      "text/plain": [
       "<Figure size 432x288 with 1 Axes>"
      ]
     },
     "metadata": {
      "needs_background": "light"
     },
     "output_type": "display_data"
    }
   ],
   "source": [
    "plt.imshow(affine_output[0][0].cpu())"
   ]
  },
  {
   "cell_type": "code",
   "execution_count": null,
   "metadata": {},
   "outputs": [],
   "source": [
    "a = 1\n",
    "vae.eval()\n",
    "s, l = sample[0][a:a+1], sample[1][a:a+1]\n",
    "with torch.no_grad():\n",
    "    e = vae.encode(s.to(device))[0]\n",
    "    d = vae.decode(e)\n",
    "f, ax = plt.subplots(1, 3, figsize=(10, 5))\n",
    "ax[0].imshow(s[0][0])\n",
    "ax[1].imshow(d.cpu()[0][0])\n",
    "ax[2].imshow(s[0][0] - d.cpu()[0][0], cmap='gray')\n",
    "ax[0].axis('off')\n",
    "ax[1].axis('off')\n",
    "ax[2].axis('off')"
   ]
  },
  {
   "cell_type": "code",
   "execution_count": null,
   "metadata": {},
   "outputs": [],
   "source": [
    "%%time\n",
    "vae = VAE(lt_dim=lt_dim, use_STN=True, dropout= False, batchNorm=False, activation_fnc=nn.ELU).to(device)\n",
    "optimizer = Adam(vae.parameters(), lr=lr, weight_decay=1E-5)\n",
    "beta_vae_loss = B_VAE_Loss(gamma=gam, max_capacity=cap, epochs=epochs)\n",
    "scheduler = LambdaLR(optimizer, lr_lambda= lambda_lr)\n",
    "do_training(vae, optimizer, scheduler)\n",
    "torch.save(vae, 'b_vae_soft_stn_elu_nodrop_nonorm')"
   ]
  },
  {
   "cell_type": "code",
   "execution_count": null,
   "metadata": {},
   "outputs": [],
   "source": [
    "a = 1\n",
    "vae.eval()\n",
    "s, l = sample[0][a:a+1], sample[1][a:a+1]\n",
    "with torch.no_grad():\n",
    "    e = vae.encode(s.to(device))[0]\n",
    "    d = vae.decode(e)\n",
    "f, ax = plt.subplots(1, 3, figsize=(10, 5))\n",
    "ax[0].imshow(s[0][0])\n",
    "ax[1].imshow(d.cpu()[0][0])\n",
    "ax[2].imshow(s[0][0] - d.cpu()[0][0], cmap='gray')\n",
    "ax[0].axis('off')\n",
    "ax[1].axis('off')\n",
    "ax[2].axis('off')"
   ]
  },
  {
   "cell_type": "code",
   "execution_count": null,
   "metadata": {},
   "outputs": [],
   "source": [
    "%%time\n",
    "vae = VAE(lt_dim=lt_dim, use_STN=False, activation_fnc=nn.ELU).to(device)\n",
    "optimizer = Adam(vae.parameters(), lr=lr, weight_decay=1E-5)\n",
    "\n",
    "scheduler = LambdaLR(optimizer, lr_lambda= lambda_lr)\n",
    "do_training(vae, optimizer, scheduler)\n",
    "torch.save(vae, 'b_vae_soft_elu')"
   ]
  },
  {
   "cell_type": "code",
   "execution_count": null,
   "metadata": {},
   "outputs": [],
   "source": [
    "%%time\n",
    "vae = VAE(lt_dim=lt_dim, use_STN=False, dropout= False, activation_fnc=nn.ELU).to(device)\n",
    "optimizer = Adam(vae.parameters(), lr=lr, weight_decay=1E-5)\n",
    "\n",
    "scheduler = LambdaLR(optimizer, lr_lambda= lambda_lr)\n",
    "do_training(vae, optimizer, scheduler)\n",
    "torch.save(vae, 'b_vae_soft_stn_elu_nodrop')"
   ]
  },
  {
   "cell_type": "code",
   "execution_count": null,
   "metadata": {},
   "outputs": [],
   "source": [
    "%%time\n",
    "vae = VAE(lt_dim=lt_dim, use_STN=False, dropout= False, batchNorm=False, activation_fnc=nn.ELU).to(device)\n",
    "optimizer = Adam(vae.parameters(), lr=lr, weight_decay=1E-5)\n",
    "\n",
    "scheduler = LambdaLR(optimizer, lr_lambda= lambda_lr)\n",
    "do_training(vae, optimizer, scheduler)\n",
    "torch.save(vae, 'b_vae_soft_stn_elu_nodrop_nonorm')"
   ]
  },
  {
   "cell_type": "code",
   "execution_count": null,
   "metadata": {},
   "outputs": [],
   "source": []
  }
 ],
 "metadata": {
  "kernelspec": {
   "display_name": "Python 3",
   "language": "python",
   "name": "python3"
  },
  "language_info": {
   "codemirror_mode": {
    "name": "ipython",
    "version": 3
   },
   "file_extension": ".py",
   "mimetype": "text/x-python",
   "name": "python",
   "nbconvert_exporter": "python",
   "pygments_lexer": "ipython3",
   "version": "3.7.3"
  }
 },
 "nbformat": 4,
 "nbformat_minor": 2
}
