{
 "cells": [
  {
   "cell_type": "code",
   "execution_count": 1,
   "metadata": {
    "code_folding": [
     0
    ]
   },
   "outputs": [],
   "source": [
    "# just imports\n",
    "%load_ext autoreload\n",
    "%autoreload 2\n",
    "\n",
    "import sys\n",
    "import time\n",
    "\n",
    "import torch\n",
    "import torch.nn as nn\n",
    "import torch.nn.functional as F\n",
    "\n",
    "from torch.autograd import Variable\n",
    "from torch.utils import data\n",
    "from torch.optim import Adam\n",
    "\n",
    "from torchvision import transforms\n",
    "from torchvision import datasets\n",
    "\n",
    "import numpy as np\n",
    "\n",
    "from matplotlib import pyplot as plt\n",
    "from pandas import read_fwf, DataFrame\n",
    "from tqdm   import tqdm_notebook as tqdm\n",
    "import matplotlib.gridspec as gridspec\n",
    "\n",
    "from scipy.ndimage.interpolation import rotate\n",
    "from sklearn.model_selection import train_test_split"
   ]
  },
  {
   "cell_type": "code",
   "execution_count": 2,
   "metadata": {
    "code_folding": [
     0
    ]
   },
   "outputs": [],
   "source": [
    "# local imports\n",
    "sys.path.append('../')\n",
    "from VAE.rg_dataset import LRG, BasicDataset\n",
    "from VAE.loss_funcs import VAE_Loss\n",
    "from VAE import vae_models"
   ]
  },
  {
   "cell_type": "code",
   "execution_count": 3,
   "metadata": {},
   "outputs": [
    {
     "name": "stdout",
     "output_type": "stream",
     "text": [
      "../data/lrg:\t1442/1442\n",
      "../data/unlrg:\t14245/14245\n",
      "CPU times: user 6min 23s, sys: 6min 56s, total: 13min 19s\n",
      "Wall time: 4min 28s\n"
     ]
    }
   ],
   "source": [
    "%%time\n",
    "data_path = '../data/'\n",
    "aug=5\n",
    "\n",
    "lrg_data_set   = LRG(use_kittler=True, n_aug=aug, blur=True, catalog_dir=data_path + 'catalog/mrt-table3.txt', \n",
    "                                                               file_dir=data_path + 'lrg')\n",
    "\n",
    "unlrg_data_set = LRG(use_kittler=True, n_aug=aug, blur=True, catalog_dir=data_path + 'catalog/mrt-table4.txt',\n",
    "                                                               file_dir=data_path + 'unlrg')"
   ]
  },
  {
   "cell_type": "code",
   "execution_count": 19,
   "metadata": {},
   "outputs": [],
   "source": [
    "batch_size = 16 #supposedly low batch size helps fater convergence\n",
    "\n",
    "data_loader_lrg   = data.DataLoader(lrg_data_set,   batch_size=128, shuffle=False)\n",
    "data_loader_unlrg = data.DataLoader(unlrg_data_set, batch_size=16,  shuffle=False)\n",
    "\n",
    "sample = iter(data_loader_unlrg).next()"
   ]
  },
  {
   "cell_type": "code",
   "execution_count": 5,
   "metadata": {},
   "outputs": [],
   "source": [
    "class VAE(nn.Module):\n",
    "    def __init__(self, lt_dim=4, k=None, batch_norm=True):\n",
    "        super(VAE, self).__init__()\n",
    "        self.k = k\n",
    "        n_layers = len(self.k)\n",
    "        encoder_layers = []\n",
    "        decoder_layers = []\n",
    "        \n",
    "        for i in range( n_layers -1) :\n",
    "            in_c, out_c = self.k[i], self.k[i + 1]\n",
    "            if(in_c == 'M'): continue\n",
    "            stride = 1\n",
    "            if out_c == 'M':\n",
    "                stride = 2\n",
    "                i += 1\n",
    "                out_c = self.k[i + 1]\n",
    "            layer = nn.Conv2d(in_c, out_c, kernel_size=3, padding=1, stride=stride)\n",
    "            encoder_layers.append(layer)\n",
    "            if batch_norm:\n",
    "                encoder_layers.append(nn.BatchNorm2d(out_c))\n",
    "            encoder_layers.append(nn.ReLU(inplace=True))\n",
    "        self.encoder = nn.Sequential(*encoder_layers)\n",
    "        \n",
    "        for i in range(n_layers - 1, 0, -1):\n",
    "            in_c, out_c = self.k[i], self.k[i - 1]\n",
    "            if(in_c == 'M'): continue\n",
    "            stride = 1\n",
    "            output_padding=0\n",
    "            if out_c == 'M':\n",
    "                stride = 2\n",
    "                i -= 1\n",
    "                out_c = self.k[i - 1]\n",
    "                output_padding=1\n",
    "                \n",
    "            layer = nn.ConvTranspose2d(in_c, out_c, kernel_size=3, padding=1, \n",
    "                                       output_padding=output_padding, stride=stride)\n",
    "            decoder_layers.append(layer)\n",
    "            if batch_norm:\n",
    "                decoder_layers.append(nn.BatchNorm2d(out_c))\n",
    "            decoder_layers.append(nn.ReLU(inplace=True))\n",
    "\n",
    "        self.decoder = nn.Sequential(*decoder_layers[:-1])\n",
    "        \n",
    "        self.fc_mu = nn.Sequential(\n",
    "                      nn.Linear(self.k[-1]*2*2, lt_dim*2),\n",
    "                      nn.Linear(lt_dim*2, lt_dim)\n",
    "        )\n",
    "        self.fc_ep = nn.Sequential(\n",
    "                      nn.Linear(self.k[-1]*2*2, lt_dim*2),\n",
    "                      nn.Linear(lt_dim*2, lt_dim)\n",
    "        )\n",
    "        \n",
    "        self.fc_dc = nn.Linear(lt_dim, self.k[-1]*2*2)\n",
    "        \n",
    "    def encode(self, x):\n",
    "        encoded = self.encoder(x)\n",
    "        encoded = encoded.view(-1, self.k[-1]*2*2)\n",
    "        return self.fc_mu(encoded), self.fc_ep(encoded)\n",
    "    \n",
    "    def reparameterize(self, mu, logvar):\n",
    "        std = torch.exp(0.5*logvar)\n",
    "        eps = torch.randn_like(std)\n",
    "        if self.training :\n",
    "            return mu + eps*std\n",
    "        return mu\n",
    "\n",
    "    def decode(self, x):\n",
    "        x = F.relu(self.fc_dc(x))\n",
    "        x = x.view(-1, self.k[-1], 2, 2) #reshape\n",
    "        return torch.sigmoid(self.decoder(x))\n",
    "    \n",
    "    def forward(self, x):\n",
    "        mu, var = self.encode(x)\n",
    "        z = self.reparameterize(mu, var)\n",
    "        d = self.decode(z)\n",
    "        return d, mu, var"
   ]
  },
  {
   "cell_type": "code",
   "execution_count": 21,
   "metadata": {
    "code_folding": [
     9
    ]
   },
   "outputs": [],
   "source": [
    "def compact_extended_loss(target, output, device):\n",
    "    #########    Compact vs Extended    #########\n",
    "    extended = target > 1\n",
    "    extended = Variable(extended.float().to(device), requires_grad=False)\n",
    "    pred_ext = torch.sigmoid(output)\n",
    "    ext_loss = F.binary_cross_entropy(pred_ext, extended, reduction='sum').div(len(pred_ext))\n",
    "\n",
    "    return ext_loss\n",
    "\n",
    "def fri_frii_loss(target, output, device):\n",
    "    o = torch.sigmoid(output)[target > 1]\n",
    "    c = target[target > 1]\n",
    "\n",
    "    o = o[c < 4] # FRI == 2, FRII == 3\n",
    "    c = c[c < 4]\n",
    "\n",
    "    c = Variable( (c == 3).float().to(device), requires_grad=False)\n",
    "    fr_loss = F.binary_cross_entropy(o, c, reduction='sum').div(len(c))\n",
    "\n",
    "    return fr_loss\n",
    "\n",
    "def train_step_vae(mode, device, data_loader, optim, epoch, loss_fun, log_interval=5, beta=1):\n",
    "    model.train()\n",
    "    s = ''\n",
    "    r_loss = 0\n",
    "    batch_sum = 0\n",
    "    avg_r_loss = 0\n",
    "    for batch_idx, (data, target) in enumerate(data_loader):\n",
    "        batch_sum += len(data)\n",
    "        data = data.to(device)\n",
    "        target = Variable(target, requires_grad=False).to(device)\n",
    "        #Forward Pass\n",
    "        optim.zero_grad()\n",
    "        output = model(data)\n",
    "        \n",
    "        #############################################\n",
    "        ######### check against known class #########\n",
    "        #############################################\n",
    "        #########    Compact vs Extended    #########\n",
    "        ext_loss = compact_extended_loss(target, output[1][:,0], device)\n",
    "        # # #########       FRI vs FRII         #########\n",
    "        fr_loss = fri_frii_loss(target, output[1][:, 1], device)\n",
    "\n",
    "        # BCE Loss\n",
    "        r_loss, g_loss = loss_fun(output, data)\n",
    "        loss = r_loss + (beta * g_loss) + 20 * (ext_loss + fr_loss)#\n",
    "        avg_r_loss += r_loss.item()\n",
    "        #Backpropagation\n",
    "        loss.backward()\n",
    "        optim.step()\n",
    "        s = 'Train Epoch: {:3d} [{:5d}/{:5d} ({:3.0f}%)]\\tLoss: {:4.4f}\\tR_Loss: {:4.4f}\\tDKL: {:4.4f}'\n",
    "        s = s.format(epoch, batch_sum, len(data_loader.dataset),\n",
    "                100. * batch_idx / len(data_loader), loss.item()/len(data),\n",
    "                     r_loss.item()/len(data), g_loss.item()/len(data))\n",
    "        \n",
    "        if batch_idx % log_interval == 0:\n",
    "            sys.stdout.write('{}\\r'.format(s))\n",
    "            sys.stdout.flush()\n",
    "    return s, avg_r_loss / batch_sum"
   ]
  },
  {
   "cell_type": "code",
   "execution_count": 22,
   "metadata": {
    "code_folding": [
     0
    ]
   },
   "outputs": [],
   "source": [
    "def test_step_vae(model, device, data_loader, loss_fun, learn_rot=False):\n",
    "    model.eval()\n",
    "    avg_r_loss = 0\n",
    "    batch_sum = 0 \n",
    "    for batch_idx, (data, target) in enumerate(data_loader):\n",
    "        batch_sum += len(data)\n",
    "        with torch.no_grad():\n",
    "            data = data.to(device)\n",
    "            #Forward Pass\n",
    "            output = model(data)\n",
    "            # BCE Loss\n",
    "            r_loss , g_loss = loss_fun(output, data)\n",
    "            avg_r_loss += r_loss.item()\n",
    "            \n",
    "    return avg_r_loss / batch_sum"
   ]
  },
  {
   "cell_type": "code",
   "execution_count": 23,
   "metadata": {},
   "outputs": [],
   "source": [
    "device = 'cuda'\n",
    "epochs = 40"
   ]
  },
  {
   "cell_type": "code",
   "execution_count": 24,
   "metadata": {},
   "outputs": [
    {
     "data": {
      "text/plain": [
       "torch.Size([16])"
      ]
     },
     "execution_count": 24,
     "metadata": {},
     "output_type": "execute_result"
    }
   ],
   "source": [
    "model(sample[0].to(device))[1][:,0].shape"
   ]
  },
  {
   "cell_type": "code",
   "execution_count": 25,
   "metadata": {},
   "outputs": [
    {
     "name": "stdout",
     "output_type": "stream",
     "text": [
      "Train Epoch:   1 [69900/69900 (100%)]\tLoss: 59.2573\tR_Loss: 57.8382\tDKL: 0.1642\tAvgR 91.6196\tTest Loss : 5.5301   Time : 145.38s\n",
      "Train Epoch:   2 [69900/69900 (100%)]\tLoss: 24.6337\tR_Loss: 23.3649\tDKL: 0.3754\tAvgR 23.9138\tTest Loss : 3.0745   Time : 140.46s\n",
      "Train Epoch:   3 [69900/69900 (100%)]\tLoss: 15.0415\tR_Loss: 14.0030\tDKL: 0.2536\tAvgR 8.8706\tTest Loss : 1.2225   Time : 142.51s\n",
      "Train Epoch:   4 [69900/69900 (100%)]\tLoss: 12.5996\tR_Loss: 11.3689\tDKL: 0.3027\tAvgR 5.0381\tTest Loss : 0.9670   Time : 145.29s\n",
      "Train Epoch:   5 [69900/69900 (100%)]\tLoss: 12.6004\tR_Loss: 11.2866\tDKL: 0.6049\tAvgR 3.9361\tTest Loss : 0.8019   Time : 145.52s\n",
      "Train Epoch:   6 [69900/69900 (100%)]\tLoss: 11.9480\tR_Loss: 10.7155\tDKL: 0.6003\tAvgR 3.6770\tTest Loss : 0.7640   Time : 144.14s\n",
      "Train Epoch:   7 [69900/69900 (100%)]\tLoss: 11.1937\tR_Loss: 9.4766\tDKL: 0.6455\tAvgR 3.4772\tTest Loss : 0.7274   Time : 138.33s\n",
      "Train Epoch:   8 [69900/69900 (100%)]\tLoss: 12.4156\tR_Loss: 10.9453\tDKL: 0.6685\tAvgR 3.4019\tTest Loss : 0.7288   Time : 145.11s\n",
      "Train Epoch:   9 [69900/69900 (100%)]\tLoss: 10.9489\tR_Loss: 9.5775\tDKL: 0.6571\tAvgR 3.2965\tTest Loss : 0.7099   Time : 140.57s\n",
      "Train Epoch:  10 [69900/69900 (100%)]\tLoss: 9.9399\tR_Loss: 8.5868\tDKL: 0.6590\tAvgR 3.1937\tTest Loss : 0.8061   Time : 141.80s\n"
     ]
    },
    {
     "data": {
      "image/png": "[encoded data removed]",
      "text/plain": [
       "<Figure size 720x360 with 3 Axes>"
      ]
     },
     "metadata": {
      "needs_background": "light"
     },
     "output_type": "display_data"
    },
    {
     "name": "stdout",
     "output_type": "stream",
     "text": [
      "Train Epoch:  11 [69900/69900 (100%)]\tLoss: 10.0416\tR_Loss: 8.7201\tDKL: 0.6547\tAvgR 3.1658\tTest Loss : 0.6985   Time : 136.96s\n",
      "Train Epoch:  12 [69900/69900 (100%)]\tLoss: 10.6891\tR_Loss: 9.3014\tDKL: 0.7456\tAvgR 3.1336\tTest Loss : 0.6877   Time : 140.10s\n",
      "Train Epoch:  13 [69900/69900 (100%)]\tLoss: 9.6911\tR_Loss: 8.3621\tDKL: 0.7505\tAvgR 3.0988\tTest Loss : 0.6783   Time : 141.10s\n",
      "Train Epoch:  14 [69900/69900 (100%)]\tLoss: 9.8403\tR_Loss: 8.4628\tDKL: 0.7649\tAvgR 3.0810\tTest Loss : 0.7669   Time : 141.57s\n",
      "Train Epoch:  15 [69900/69900 (100%)]\tLoss: 9.8969\tR_Loss: 8.5060\tDKL: 0.7674\tAvgR 3.0673\tTest Loss : 0.6686   Time : 139.62s\n",
      "Train Epoch:  16 [69900/69900 (100%)]\tLoss: 10.1533\tR_Loss: 8.6935\tDKL: 0.8374\tAvgR 3.0599\tTest Loss : 0.6746   Time : 147.26s\n",
      "Train Epoch:  17 [69900/69900 (100%)]\tLoss: 9.4119\tR_Loss: 7.9360\tDKL: 0.7637\tAvgR 3.0504\tTest Loss : 0.6881   Time : 138.63s\n",
      "Train Epoch:  18 [69900/69900 (100%)]\tLoss: 10.1347\tR_Loss: 8.6341\tDKL: 0.7423\tAvgR 3.0462\tTest Loss : 0.6662   Time : 132.55s\n",
      "Train Epoch:  19 [69900/69900 (100%)]\tLoss: 9.9335\tR_Loss: 8.4172\tDKL: 0.8364\tAvgR 3.0405\tTest Loss : 0.6634   Time : 133.04s\n",
      "Train Epoch:  20 [69900/69900 (100%)]\tLoss: 9.8854\tR_Loss: 8.4585\tDKL: 0.7737\tAvgR 3.0349\tTest Loss : 0.6676   Time : 132.36s\n"
     ]
    },
    {
     "data": {
      "image/png": "[encoded data removed]",
      "text/plain": [
       "<Figure size 720x360 with 3 Axes>"
      ]
     },
     "metadata": {
      "needs_background": "light"
     },
     "output_type": "display_data"
    },
    {
     "name": "stdout",
     "output_type": "stream",
     "text": [
      "Train Epoch:  21 [69900/69900 (100%)]\tLoss: 9.7646\tR_Loss: 8.2134\tDKL: 0.8106\tAvgR 3.0292\tTest Loss : 0.6650   Time : 132.66s\n",
      "Train Epoch:  22 [69900/69900 (100%)]\tLoss: 10.0974\tR_Loss: 8.5457\tDKL: 0.8258\tAvgR 3.0276\tTest Loss : 0.6644   Time : 133.07s\n",
      "Train Epoch:  23 [69900/69900 (100%)]\tLoss: 11.1301\tR_Loss: 9.5269\tDKL: 0.8545\tAvgR 3.0247\tTest Loss : 0.6624   Time : 135.31s\n",
      "Train Epoch:  24 [69900/69900 (100%)]\tLoss: 9.8750\tR_Loss: 8.5452\tDKL: 0.7752\tAvgR 3.0206\tTest Loss : 0.6628   Time : 133.49s\n",
      "Train Epoch:  25 [69900/69900 (100%)]\tLoss: 9.2343\tR_Loss: 7.7447\tDKL: 0.7759\tAvgR 3.0193\tTest Loss : 0.6670   Time : 132.19s\n",
      "Train Epoch:  26 [69900/69900 (100%)]\tLoss: 10.1482\tR_Loss: 8.6033\tDKL: 0.9162\tAvgR 3.0184\tTest Loss : 0.6595   Time : 132.34s\n",
      "Train Epoch:  27 [69900/69900 (100%)]\tLoss: 10.0957\tR_Loss: 8.4106\tDKL: 0.7909\tAvgR 3.0167\tTest Loss : 0.6685   Time : 131.56s\n",
      "Train Epoch:  28 [69900/69900 (100%)]\tLoss: 10.7993\tR_Loss: 9.2155\tDKL: 0.8526\tAvgR 3.0124\tTest Loss : 0.6677   Time : 130.57s\n",
      "Train Epoch:  29 [69900/69900 (100%)]\tLoss: 9.3763\tR_Loss: 7.9128\tDKL: 0.8384\tAvgR 3.0125\tTest Loss : 0.6573   Time : 132.02s\n",
      "Train Epoch:  30 [69900/69900 (100%)]\tLoss: 10.2382\tR_Loss: 8.7703\tDKL: 0.7883\tAvgR 3.0070\tTest Loss : 0.6680   Time : 132.88s\n"
     ]
    },
    {
     "data": {
      "image/png": "[encoded data removed]",
      "text/plain": [
       "<Figure size 720x360 with 3 Axes>"
      ]
     },
     "metadata": {
      "needs_background": "light"
     },
     "output_type": "display_data"
    },
    {
     "name": "stdout",
     "output_type": "stream",
     "text": [
      "Train Epoch:  31 [69900/69900 (100%)]\tLoss: 10.3405\tR_Loss: 8.9031\tDKL: 0.8313\tAvgR 3.0070\tTest Loss : 0.6592   Time : 131.79s\n",
      "Train Epoch:  32 [69900/69900 (100%)]\tLoss: 9.7200\tR_Loss: 8.2052\tDKL: 0.7781\tAvgR 3.0062\tTest Loss : 0.6593   Time : 135.92s\n",
      "Train Epoch:  33 [69900/69900 (100%)]\tLoss: 9.2550\tR_Loss: 7.8409\tDKL: 0.8118\tAvgR 3.0028\tTest Loss : 0.6633   Time : 132.20s\n",
      "Train Epoch:  34 [69900/69900 (100%)]\tLoss: 8.9695\tR_Loss: 7.5409\tDKL: 0.8457\tAvgR 3.0062\tTest Loss : 0.6571   Time : 132.07s\n",
      "Train Epoch:  35 [69900/69900 (100%)]\tLoss: 10.0708\tR_Loss: 8.5362\tDKL: 0.8744\tAvgR 3.0009\tTest Loss : 0.6574   Time : 131.95s\n",
      "Train Epoch:  36 [69900/69900 (100%)]\tLoss: 9.2743\tR_Loss: 7.8171\tDKL: 0.8449\tAvgR 3.0015\tTest Loss : 0.6606   Time : 130.20s\n",
      "Train Epoch:  37 [69900/69900 (100%)]\tLoss: 9.8334\tR_Loss: 8.2997\tDKL: 0.8232\tAvgR 2.9996\tTest Loss : 0.6672   Time : 132.00s\n",
      "Train Epoch:  38 [69900/69900 (100%)]\tLoss: 9.3410\tR_Loss: 7.8482\tDKL: 0.8657\tAvgR 3.0012\tTest Loss : 0.6579   Time : 130.91s\n",
      "Train Epoch:  39 [69900/69900 (100%)]\tLoss: 9.6383\tR_Loss: 8.1715\tDKL: 0.8407\tAvgR 2.9976\tTest Loss : 0.6580   Time : 131.39s\n",
      "Train Epoch:  40 [69900/69900 (100%)]\tLoss: 9.2123\tR_Loss: 7.7532\tDKL: 0.8729\tAvgR 2.9971\tTest Loss : 0.7008   Time : 131.80s\n"
     ]
    },
    {
     "data": {
      "image/png": "[encoded data removed]",
      "text/plain": [
       "<Figure size 720x360 with 3 Axes>"
      ]
     },
     "metadata": {
      "needs_background": "light"
     },
     "output_type": "display_data"
    }
   ],
   "source": [
    "k = [1, 16, 'M', 32, 'M', 64, 64,'M', 64, 'M', 128, 128, 'M', 256]\n",
    "model = VAE(lt_dim=8, k=k).to(device)\n",
    "# model = vae_models.VAE().to(device)\n",
    "optimizer = Adam(model.parameters(), lr=0.0005, weight_decay=1E-5)\n",
    "loss_fun = VAE_Loss()\n",
    "\n",
    "train_loss = []\n",
    "test_loss  = []\n",
    "for epoch in range(1, epochs+1):\n",
    "    #LRG, forced params\n",
    "    start = time.time()\n",
    "    s, l = train_step_vae(model, device, data_loader_unlrg, optimizer, epoch, loss_fun=loss_fun)\n",
    "    loss = test_step_vae(model, device, data_loader_lrg, loss_fun=loss_fun)\n",
    "    \n",
    "    train_loss.append(l)\n",
    "    test_loss.append(loss)\n",
    "    t = time.time() - start\n",
    "    \n",
    "    sys.stdout.write('{}\\tAvgR {:.4f}\\tTest Loss : {:4.4f}   Time : {:.2f}s\\n'.format(s, l, loss, t))\n",
    "    if epoch % 10 == 0: \n",
    "        f, ax = plt.subplots(1, 3, figsize=(10, 5))\n",
    "        o = model(sample[0].to(device))\n",
    "        ax[0].imshow(sample[0][1][0], cmap='gray')\n",
    "        ax[1].imshow(o[0][1][0].detach().cpu(), cmap='gray')\n",
    "        diff = sample[0][1][0] - o[0][1][0].detach().cpu()\n",
    "        ax[2].imshow(np.abs(diff), cmap='gray')\n",
    "        ax[0].axis('off')\n",
    "        ax[1].axis('off')\n",
    "        ax[2].axis('off')\n",
    "        plt.show()"
   ]
  },
  {
   "cell_type": "code",
   "execution_count": null,
   "metadata": {},
   "outputs": [],
   "source": [
    "i = 1\n",
    "plt.imshow(sample[0][i][0])"
   ]
  },
  {
   "cell_type": "code",
   "execution_count": null,
   "metadata": {},
   "outputs": [],
   "source": [
    "o = model(sample[0].to(device))"
   ]
  },
  {
   "cell_type": "code",
   "execution_count": null,
   "metadata": {},
   "outputs": [],
   "source": [
    "# o.shape"
   ]
  },
  {
   "cell_type": "code",
   "execution_count": null,
   "metadata": {},
   "outputs": [],
   "source": [
    "plt.imshow(o[0][i][0].detach().cpu())"
   ]
  },
  {
   "cell_type": "code",
   "execution_count": null,
   "metadata": {},
   "outputs": [],
   "source": [
    "torch.save(model, 'SimpleVAE')"
   ]
  },
  {
   "cell_type": "code",
   "execution_count": null,
   "metadata": {},
   "outputs": [],
   "source": [
    "s = sample[0][i:i+1]"
   ]
  },
  {
   "cell_type": "code",
   "execution_count": null,
   "metadata": {},
   "outputs": [],
   "source": [
    "with torch.no_grad():\n",
    "    e = model.encode(s.to(device))[0]"
   ]
  },
  {
   "cell_type": "code",
   "execution_count": null,
   "metadata": {},
   "outputs": [],
   "source": [
    "with torch.no_grad():\n",
    "    d = model.decode(e)"
   ]
  },
  {
   "cell_type": "code",
   "execution_count": null,
   "metadata": {},
   "outputs": [],
   "source": [
    "plt.imshow(d[0][0].cpu())"
   ]
  },
  {
   "cell_type": "code",
   "execution_count": null,
   "metadata": {},
   "outputs": [],
   "source": [
    "f, ax = plt.subplots(1, 9, figsize=(40, 20))\n",
    "\n",
    "j = 7\n",
    "for k, i in enumerate(np.arange(-2, 2.5, .5)):\n",
    "    b = torch.tensor(e)\n",
    "    b[0][j] = e[0][j] + 2*i\n",
    "    with torch.no_grad():\n",
    "        d = model.decode(b).cpu()[0][0]\n",
    "    ax[k].imshow(d, cmap='gray')\n",
    "    ax[k].axis('off')"
   ]
  },
  {
   "cell_type": "code",
   "execution_count": 127,
   "metadata": {},
   "outputs": [
    {
     "data": {
      "text/plain": [
       "tensor(-0.0478, device='cuda:0')"
      ]
     },
     "execution_count": 127,
     "metadata": {},
     "output_type": "execute_result"
    }
   ],
   "source": [
    "e[0][6]"
   ]
  },
  {
   "cell_type": "code",
   "execution_count": 80,
   "metadata": {},
   "outputs": [],
   "source": [
    "b = torch.tensor(e)"
   ]
  },
  {
   "cell_type": "code",
   "execution_count": 83,
   "metadata": {},
   "outputs": [],
   "source": [
    "b[0][0] = 0"
   ]
  },
  {
   "cell_type": "code",
   "execution_count": 115,
   "metadata": {},
   "outputs": [
    {
     "data": {
      "text/plain": [
       "array([-4., -3., -2., -1.,  0.,  1.,  2.,  3.,  4.])"
      ]
     },
     "execution_count": 115,
     "metadata": {},
     "output_type": "execute_result"
    }
   ],
   "source": [
    "np.arange(-4, 4.5, 1)"
   ]
  },
  {
   "cell_type": "code",
   "execution_count": null,
   "metadata": {},
   "outputs": [],
   "source": []
  }
 ],
 "metadata": {
  "kernelspec": {
   "display_name": "Python 3",
   "language": "python",
   "name": "python3"
  },
  "language_info": {
   "codemirror_mode": {
    "name": "ipython",
    "version": 3
   },
   "file_extension": ".py",
   "mimetype": "text/x-python",
   "name": "python",
   "nbconvert_exporter": "python",
   "pygments_lexer": "ipython3",
   "version": "3.7.3"
  },
  "varInspector": {
   "cols": {
    "lenName": 16,
    "lenType": 16,
    "lenVar": 40
   },
   "kernels_config": {
    "python": {
     "delete_cmd_postfix": "",
     "delete_cmd_prefix": "del ",
     "library": "var_list.py",
     "varRefreshCmd": "print(var_dic_list())"
    },
    "r": {
     "delete_cmd_postfix": ") ",
     "delete_cmd_prefix": "rm(",
     "library": "var_list.r",
     "varRefreshCmd": "cat(var_dic_list()) "
    }
   },
   "types_to_exclude": [
    "module",
    "function",
    "builtin_function_or_method",
    "instance",
    "_Feature"
   ],
   "window_display": false
  }
 },
 "nbformat": 4,
 "nbformat_minor": 2
}
