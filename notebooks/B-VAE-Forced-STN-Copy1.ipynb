{
 "cells": [
  {
   "cell_type": "markdown",
   "metadata": {},
   "source": [
    "Disentangled representations with $\\beta$-VAE and forced learning of some traits for Radio Galaxies"
   ]
  },
  {
   "cell_type": "code",
   "execution_count": 1,
   "metadata": {},
   "outputs": [],
   "source": [
    "%load_ext autoreload\n",
    "%autoreload 2\n",
    "\n",
    "import sys\n",
    "import time\n",
    "\n",
    "import torch\n",
    "import torch.nn as nn\n",
    "import torch.nn.functional as F\n",
    "\n",
    "from torch.autograd import Variable\n",
    "from torch.utils import data\n",
    "from torch.optim import Adam\n",
    "from torch.optim.lr_scheduler import LambdaLR\n",
    "\n",
    "from torchvision import transforms\n",
    "from torchvision import datasets\n",
    "\n",
    "import numpy as np\n",
    "\n",
    "from matplotlib import pyplot as plt\n",
    "from pandas import read_fwf, DataFrame\n",
    "from tqdm   import tqdm_notebook as tqdm\n",
    "import matplotlib.gridspec as gridspec\n",
    "\n",
    "\n",
    "from skimage import exposure\n",
    "from skimage import measure\n",
    "from skimage.io import imsave\n",
    "from skimage.filters import gaussian as gaussian_filter\n",
    "from skimage.filters import threshold_otsu\n",
    "from skimage import filters\n",
    "from skimage.morphology import opening, closing, disk, binary_dilation, flood"
   ]
  },
  {
   "cell_type": "code",
   "execution_count": 2,
   "metadata": {},
   "outputs": [],
   "source": [
    "sys.path.append('../')\n",
    "from VAE.rg_dataset import LRG, BasicDataset\n",
    "from VAE.vae_models import VAE"
   ]
  },
  {
   "cell_type": "code",
   "execution_count": 3,
   "metadata": {
    "scrolled": true
   },
   "outputs": [
    {
     "name": "stdout",
     "output_type": "stream",
     "text": [
      "../data/lrg:\t1442/1442\n",
      "../data/unlrg:\t14245/14245\n",
      "CPU times: user 6min 9s, sys: 6min 41s, total: 12min 51s\n",
      "Wall time: 4min 18s\n"
     ]
    }
   ],
   "source": [
    "%%time\n",
    "data_path = '../data/'\n",
    "aug=15\n",
    "lrg_data_set   = LRG(use_kittler=True, n_aug=aug, blur=False, catalog_dir=data_path + 'catalog/mrt-table3.txt', \n",
    "                                                               file_dir=data_path + 'lrg')\n",
    "\n",
    "unlrg_data_set = LRG(use_kittler=True, n_aug=aug, blur=False, catalog_dir=data_path + 'catalog/mrt-table4.txt',\n",
    "                                                               file_dir=data_path + 'unlrg')"
   ]
  },
  {
   "cell_type": "code",
   "execution_count": 4,
   "metadata": {},
   "outputs": [],
   "source": [
    "batch_size = 128\n",
    "data_loader_lrg   = data.DataLoader(lrg_data_set,   batch_size=batch_size, shuffle=False)\n",
    "data_loader_unlrg = data.DataLoader(unlrg_data_set, batch_size=batch_size, shuffle=True)\n",
    "\n",
    "sample = iter(data_loader_lrg).next()"
   ]
  },
  {
   "cell_type": "code",
   "execution_count": 5,
   "metadata": {},
   "outputs": [],
   "source": [
    "# data_path = '../data/'\n",
    "\n",
    "# lrg_images   = np.load(data_path+'proc_aligned2/lrg_norm_proc.npy', allow_pickle=True)\n",
    "# unlrg_images = np.load(data_path+'proc_aligned2/unlrg_norm_proc.npy', allow_pickle=True)\n",
    "\n",
    "# aug=15\n",
    "\n",
    "# my_lrg_dataset  = BasicDataset(lrg_images, lrg_data_set.labels, n_aug=10) #\n",
    "# my_unlrg_dataset  = BasicDataset(unlrg_images, unlrg_data_set.labels, n_aug=aug)\n",
    "\n",
    "# batch_size = 128\n",
    "# data_loader_lrg   = data.DataLoader(my_lrg_dataset,   batch_size=batch_size, shuffle=False)\n",
    "# data_loader_unlrg = data.DataLoader(my_unlrg_dataset, batch_size=batch_size, shuffle=True)\n",
    "\n",
    "# sample = iter(data_loader_lrg).next()"
   ]
  },
  {
   "cell_type": "code",
   "execution_count": 6,
   "metadata": {},
   "outputs": [],
   "source": [
    "def make_vae_loss(KLD_weight=1):\n",
    "    def vae_loss(output, target, KLD_weight=KLD_weight):\n",
    "        \"\"\"loss is BCE + KLD. target is original x\"\"\"\n",
    "        recon_x, mu_logvar  = output\n",
    "        mu = mu_logvar[:, 0:int(mu_logvar.size()[1]/2)]\n",
    "        logvar = mu_logvar[:, int(mu_logvar.size()[1]/2):]\n",
    "        KLD = -0.5 * torch.sum(1 + 2 * logvar - mu.pow(2) - (2 * logvar).exp())\n",
    "        BCE = F.mse_loss(recon_x, target, reduction='sum')\n",
    "        loss = BCE + KLD_weight*KLD\n",
    "        return loss\n",
    "    return vae_loss"
   ]
  },
  {
   "cell_type": "code",
   "execution_count": 7,
   "metadata": {},
   "outputs": [],
   "source": [
    "#Simple Variational Auto Encoder\n",
    "class VAE(nn.Module):\n",
    "    def __init__(self, lt_dim=4, use_STN=True, batchNorm=True, dropout=True, activation_fnc = nn.ReLU):\n",
    "        super(VAE, self).__init__()\n",
    "        self.k = [1, 16, 32, 64, 128, 256]\n",
    "        encoder_layers = []\n",
    "        decoder_layers = []\n",
    "        ####################### STN STUFF ###################\n",
    "        self.use_STN = use_STN\n",
    "        final_size = 1\n",
    "        final_bias = torch.cuda.FloatTensor([0])\n",
    "        \n",
    "        self.batch_opt_params = {\"num_times\" : 20, \"iterations\" : 10 }\n",
    "\n",
    "        self.localization = nn.Sequential(\n",
    "            nn.Conv2d(1, 8, kernel_size=7),\n",
    "            nn.MaxPool2d(2, stride=2),\n",
    "            nn.ReLU(True),\n",
    "            nn.Conv2d(8, 10, kernel_size=5),\n",
    "            nn.AdaptiveMaxPool2d(output_size=(3, 3)),\n",
    "            nn.ReLU(True)\n",
    "        )\n",
    "        self.fc_loc = nn.Sequential(\n",
    "            nn.Linear(10 * 3 * 3, 32),\n",
    "            nn.ReLU(True),\n",
    "            nn.Linear(32, final_size)\n",
    "        )\n",
    "        self.fc_loc[2].weight.data.zero_()\n",
    "        self.fc_loc[2].bias.data.copy_(final_bias)\n",
    "\n",
    "        self.activation_fnc = activation_fnc\n",
    "        # initialize to identity for rotation or affine\n",
    "        self.fc_loc[2].weight.data.zero_()\n",
    "        self.fc_loc[2].bias.data.copy_(final_bias)\n",
    "        #####################################################\n",
    "        for i in range(len(self.k) - 1):\n",
    "            layer = nn.Conv2d(self.k[i], self.k[i+1], 3, 2, 1, 1)\n",
    "            encoder_layers.append(layer)\n",
    "            if batchNorm: \n",
    "                encoder_layers.append(nn.BatchNorm2d(self.k[i+1]))\n",
    "            encoder_layers.append(self.activation_fnc())\n",
    "            if dropout:\n",
    "                encoder_layers.append(nn.Dropout2d())\n",
    "\n",
    "        \n",
    "        for i in range(len(self.k) - 1, 0, -1):\n",
    "            layer = nn.ConvTranspose2d(self.k[i], self.k[i-1], 3, 2, 1, 1)\n",
    "            decoder_layers.append(layer)\n",
    "            if i == 1:\n",
    "                continue\n",
    "            if batchNorm: \n",
    "                decoder_layers.append(nn.BatchNorm2d(self.k[i - 1]))\n",
    "            decoder_layers.append(self.activation_fnc())\n",
    "            if dropout:\n",
    "                decoder_layers.append(nn.Dropout2d())\n",
    "\n",
    "\n",
    "        self.encoder = nn.Sequential(*encoder_layers)\n",
    "        self.decoder = nn.Sequential(*decoder_layers)\n",
    "        \n",
    "        self.fc_mu = nn.Sequential(\n",
    "                      nn.Linear(self.k[-1]*2*2, lt_dim*2),\n",
    "                      nn.Linear(lt_dim*2, lt_dim)\n",
    "        )\n",
    "        self.fc_ep = nn.Sequential(\n",
    "                      nn.Linear(self.k[-1]*2*2, lt_dim*2),\n",
    "                      nn.Linear(lt_dim*2, lt_dim)\n",
    "        )\n",
    "        \n",
    "        self.fc_dc = nn.Linear(lt_dim, self.k[-1]*2*2)\n",
    "    \n",
    "    def get_stn_params(self, x):\n",
    "        x = self.localization(x)\n",
    "        x = x.view(-1, 10 * 3 * 3)\n",
    "        stn_output = self.fc_loc(x)\n",
    "\n",
    "        affine_params = torch.cuda.FloatTensor(stn_output.size()[0], 2, 3).fill_(0)\n",
    "#         print('-------------------------------------')\n",
    "#         print(affine_params.shape, stn_output.shape)\n",
    "        affine_params = self.theta_to_affine(stn_output, affine_params)\n",
    "\n",
    "        return affine_params\n",
    "\n",
    "    def theta_to_affine(self, theta, affine_params):\n",
    "#         print(affine_params[:, 0, 0].shape, torch.cos(theta)[:,0].shape)\n",
    "        affine_params[:, 0, 0] = torch.cos(theta)[:,0]\n",
    "        affine_params[:, 0, 1] = torch.sin(theta)[:,0]\n",
    "        affine_params[:, 1, 0] = -1*torch.sin(theta)[:,0]\n",
    "        affine_params[:, 1, 1] = torch.cos(theta)[:,0]\n",
    "        return affine_params\n",
    "\n",
    "    def affine(self, x, affine_params, padding_mode='zeros'):\n",
    "        grid = F.affine_grid(affine_params, x.size()).cuda()\n",
    "        x = F.grid_sample(x, grid, padding_mode=padding_mode)\n",
    "        return x\n",
    "    \n",
    "    def affine_inv(self, x, affine_params, padding_mode='zeros'):\n",
    "        inv_affine_params = torch.cuda.FloatTensor(affine_params.size()).fill_(0)\n",
    "        A_inv =  torch.inverse(affine_params[:, :, :2].squeeze())\n",
    "        b = affine_params[:, : , 2:]\n",
    "        b_inv = torch.matmul(A_inv, b)\n",
    "        b_inv = b_inv.squeeze()\n",
    "        inv_affine_params[:, :2, :2] = A_inv\n",
    "        inv_affine_params[:, :, 2]   = -1 * b_inv\n",
    "        grid = F.affine_grid(inv_affine_params, x.size()).cuda()\n",
    "        x = F.grid_sample(x, grid, padding_mode=padding_mode)\n",
    "        return x\n",
    "\n",
    "\n",
    "    def encode(self, x):\n",
    "        affine_params = self.get_stn_params(x)\n",
    "        \n",
    "        \n",
    "\n",
    "        self.affine_params = affine_params\n",
    "        x = self.affine(x, self.affine_params)\n",
    "\n",
    "        encoded = self.encoder(x).view(-1, self.k[-1]*2*2)\n",
    "        return self.fc_mu(encoded), self.fc_ep(encoded)\n",
    "    \n",
    "    def reparameterize(self, mu, logvar):\n",
    "        if self.training :\n",
    "            std = torch.exp(0.5*logvar)\n",
    "            eps = torch.randn_like(std)\n",
    "            return mu + eps*std\n",
    "        else :\n",
    "            return mu\n",
    "\n",
    "    def decode(self, x):\n",
    "        x = F.relu(self.fc_dc(x)).view(-1, self.k[-1], 2, 2)\n",
    "        x = torch.sigmoid(self.decoder(x))\n",
    "        if self.use_STN:\n",
    "            x = self.affine_inv(x, self.affine_params)\n",
    "        return x\n",
    "\n",
    "    def forward(self, x, return_affine=False):\n",
    "        mu, var = self.encode(x)\n",
    "        z = self.reparameterize(mu, var)\n",
    "        d = self.decode(z)\n",
    "        if return_affine:\n",
    "            return d, mu, var, self.affine(x, self.affine_params)\n",
    "        return d, mu, var"
   ]
  },
  {
   "cell_type": "code",
   "execution_count": 8,
   "metadata": {},
   "outputs": [],
   "source": [
    "class B_VAE_Loss:\n",
    "    def __init__(self, gamma, max_capacity, epochs):\n",
    "        self.gamma = gamma\n",
    "        self.recon_ls = nn.BCELoss(reduction='sum')\n",
    "        self.capacity = 0\n",
    "        self.delta = max_capacity / float(epochs)\n",
    "        self.max_capacity = max_capacity\n",
    "    def update(self):\n",
    "        self.capacity = min(self.max_capacity, self.capacity + self.delta)\n",
    "        return self.capacity\n",
    "    def __call__(self, res, img):\n",
    "        batch_sz = len(img)\n",
    "        x, mu, logvar = res\n",
    "        recon = self.recon_ls(x, img).div(batch_sz) #res -> x, mu, var\n",
    "        kld = -0.5 * torch.sum(1 + logvar - mu.pow(2) - logvar.exp()).div(batch_sz)\n",
    "        return self.capacity, recon, self.gamma * (kld - self.capacity).abs()"
   ]
  },
  {
   "cell_type": "code",
   "execution_count": 9,
   "metadata": {},
   "outputs": [],
   "source": [
    "def train_step(model, device, data_loader, optim, epoch, log_interval=5):\n",
    "    model.train()\n",
    "    s = ''\n",
    "    for batch_idx, (data, target) in enumerate(data_loader):\n",
    "        data = data.to(device)\n",
    "        target = Variable(target, requires_grad=False).to(device)\n",
    "        #Forward Pass\n",
    "        optimizer.zero_grad()\n",
    "        output = model(data)\n",
    "        \n",
    "        #############################################\n",
    "        ######### check against known class #########\n",
    "        #############################################\n",
    "        #########    Compact vs Extended    #########\n",
    "        extended = target > 1\n",
    "        extended = Variable(extended.float().to(device), requires_grad=False)\n",
    "        pred_ext = torch.sigmoid(output[1][:,0])\n",
    "        ext_loss = F.binary_cross_entropy(pred_ext, extended, reduction='sum').div(len(pred_ext))\n",
    "        # BCE Loss\n",
    "        c, r_loss , g_loss = beta_vae_loss(output, data)\n",
    "        loss = r_loss + g_loss + 10 * (ext_loss)#+ fr_loss)# + reg_loss)\n",
    "        #Backpropagation\n",
    "        loss.backward()\n",
    "        optimizer.step()\n",
    "        s = 'Train Epoch: {:3d} ({:3.0f}%)  Loss: {:4.4f}  R_Loss: {:4.4f}  Capacity: {:4.2f}'\n",
    "        s = s.format(epoch,\n",
    "                100. * batch_idx / len(data_loader), loss.item(), r_loss.item(), c)\n",
    "        if batch_idx % log_interval == 0:\n",
    "            sys.stdout.write('{}\\r'.format(s))\n",
    "            sys.stdout.flush()\n",
    "    return s"
   ]
  },
  {
   "cell_type": "code",
   "execution_count": 10,
   "metadata": {},
   "outputs": [],
   "source": [
    "def test_step(model, device, data_loader, optim, epoch, log_interval=5):\n",
    "    model.eval()\n",
    "    loss = 0\n",
    "    for batch_idx, (data, target) in enumerate(data_loader):\n",
    "        with torch.no_grad():\n",
    "            data = data.to(device)\n",
    "            #Forward Pass\n",
    "            output = model(data)\n",
    "\n",
    "            # BCE Loss\n",
    "            c, r_loss , g_loss = beta_vae_loss(output, data)\n",
    "            loss = r_loss\n",
    "    return loss"
   ]
  },
  {
   "cell_type": "code",
   "execution_count": 11,
   "metadata": {},
   "outputs": [],
   "source": [
    "device = 'cuda'\n",
    "lt_dim = 10\n",
    "lr= 0.0001\n",
    "lambda_lr = lambda epoch : np.power(0.75, epoch / 5)\n",
    "epochs = 50\n",
    "gam = 10\n",
    "cap = 10\n",
    "beta_vae_loss = B_VAE_Loss(gamma=gam, max_capacity=cap, epochs=epochs)"
   ]
  },
  {
   "cell_type": "code",
   "execution_count": 12,
   "metadata": {
    "scrolled": true
   },
   "outputs": [],
   "source": [
    "def do_training(vae, optimizer, scheduler):\n",
    "    for epoch in range(1, epochs+1):\n",
    "        #LRG, forced params\n",
    "        start = time.time()\n",
    "        s = train_step(vae, 'cuda', data_loader_unlrg, optimizer, epoch)\n",
    "        loss = test_step(vae, 'cuda', data_loader_lrg, optimizer, epoch)\n",
    "        t = time.time() - start\n",
    "        sys.stdout.write('{}   Test Loss : {:4.4f}   Time : {:.2f}s   LR: {}\\n'.format(s, loss, t, scheduler.get_lr()[0]))\n",
    "        beta_vae_loss.update()\n",
    "\n",
    "#         scheduler.step()"
   ]
  },
  {
   "cell_type": "code",
   "execution_count": 78,
   "metadata": {},
   "outputs": [],
   "source": [
    "# vae = VAE(lt_dim=lt_dim, use_STN=True, activation_fnc=nn.ELU).to(device)\n",
    "\n",
    "# data, target =  iter(data_loader_lrg).next()\n",
    "# vae.encode(data.to(device))"
   ]
  },
  {
   "cell_type": "code",
   "execution_count": 79,
   "metadata": {
    "scrolled": true
   },
   "outputs": [
    {
     "name": "stdout",
     "output_type": "stream",
     "text": [
      "Train Epoch:   1 (100%)  Loss: 1242.1206  R_Loss: 1235.1730  Capacity: 0.00   Test Loss : 1118.7977   Time : 112.07s   LR: 0.0001\n",
      "Train Epoch:   2 (100%)  Loss: 441.6462  R_Loss: 435.8616  Capacity: 0.20   Test Loss : 458.7677   Time : 110.98s   LR: 0.0001\n",
      "Train Epoch:   3 (100%)  Loss: 288.8086  R_Loss: 282.1199  Capacity: 0.40   Test Loss : 292.9392   Time : 110.80s   LR: 0.0001\n",
      "Train Epoch:   4 (100%)  Loss: 207.5100  R_Loss: 200.2396  Capacity: 0.60   Test Loss : 259.1708   Time : 110.27s   LR: 0.0001\n",
      "Train Epoch:   5 (100%)  Loss: 135.8594  R_Loss: 130.7463  Capacity: 0.80   Test Loss : 229.3895   Time : 110.43s   LR: 0.0001\n",
      "Train Epoch:   6 (100%)  Loss: 106.1451  R_Loss: 99.2886  Capacity: 1.00   Test Loss : 222.2885   Time : 110.52s   LR: 0.0001\n",
      "Train Epoch:   7 (100%)  Loss: 108.8278  R_Loss: 101.2480  Capacity: 1.20   Test Loss : 210.3911   Time : 110.13s   LR: 0.0001\n",
      "Train Epoch:   8 (100%)  Loss: 94.1545  R_Loss: 87.5673  Capacity: 1.40   Test Loss : 202.9116   Time : 109.96s   LR: 0.0001\n",
      "Train Epoch:   9 (100%)  Loss: 97.0076  R_Loss: 91.4398  Capacity: 1.60   Test Loss : 194.0917   Time : 109.88s   LR: 0.0001\n",
      "Train Epoch:  10 (100%)  Loss: 93.6296  R_Loss: 87.7430  Capacity: 1.80   Test Loss : 191.5208   Time : 110.58s   LR: 0.0001\n",
      "Train Epoch:  11 (100%)  Loss: 86.0651  R_Loss: 79.4208  Capacity: 2.00   Test Loss : 190.6807   Time : 110.54s   LR: 0.0001\n",
      "Train Epoch:  12 (100%)  Loss: 106.3748  R_Loss: 100.1497  Capacity: 2.20   Test Loss : 189.8587   Time : 113.85s   LR: 0.0001\n",
      "Train Epoch:  13 (100%)  Loss: 87.1799  R_Loss: 80.5122  Capacity: 2.40   Test Loss : 185.7264   Time : 110.58s   LR: 0.0001\n",
      "Train Epoch:  14 (100%)  Loss: 96.7760  R_Loss: 89.2707  Capacity: 2.60   Test Loss : 184.1693   Time : 110.98s   LR: 0.0001\n",
      "Train Epoch:  15 (100%)  Loss: 89.0274  R_Loss: 84.0793  Capacity: 2.80   Test Loss : 185.2775   Time : 110.86s   LR: 0.0001\n",
      "Train Epoch:  16 (100%)  Loss: 98.1036  R_Loss: 88.4757  Capacity: 3.00   Test Loss : 181.5372   Time : 110.41s   LR: 0.0001\n",
      "Train Epoch:  17 (100%)  Loss: 111.8189  R_Loss: 103.7198  Capacity: 3.20   Test Loss : 180.2024   Time : 110.69s   LR: 0.0001\n",
      "Train Epoch:  18 (100%)  Loss: 109.6348  R_Loss: 104.5908  Capacity: 3.40   Test Loss : 180.6673   Time : 110.37s   LR: 0.0001\n",
      "Train Epoch:  19 (100%)  Loss: 78.0001  R_Loss: 74.1565  Capacity: 3.60   Test Loss : 179.3264   Time : 110.50s   LR: 0.0001\n",
      "Train Epoch:  20 (100%)  Loss: 76.0164  R_Loss: 69.4378  Capacity: 3.80   Test Loss : 179.8269   Time : 110.54s   LR: 0.0001\n",
      "Train Epoch:  21 (100%)  Loss: 99.8650  R_Loss: 92.0145  Capacity: 4.00   Test Loss : 176.8402   Time : 110.83s   LR: 0.0001\n",
      "Train Epoch:  22 (100%)  Loss: 78.6943  R_Loss: 73.3456  Capacity: 4.20   Test Loss : 176.3150   Time : 110.35s   LR: 0.0001\n",
      "Train Epoch:  23 (100%)  Loss: 76.1683  R_Loss: 71.2159  Capacity: 4.40   Test Loss : 177.5844   Time : 110.85s   LR: 0.0001\n",
      "Train Epoch:  24 (100%)  Loss: 66.7441  R_Loss: 61.2969  Capacity: 4.60   Test Loss : 177.6673   Time : 110.61s   LR: 0.0001\n",
      "Train Epoch:  25 (100%)  Loss: 65.7572  R_Loss: 61.1603  Capacity: 4.80   Test Loss : 176.2066   Time : 110.56s   LR: 0.0001\n",
      "Train Epoch:  26 (100%)  Loss: 73.3417  R_Loss: 68.8531  Capacity: 5.00   Test Loss : 175.3045   Time : 114.00s   LR: 0.0001\n",
      "Train Epoch:  27 (100%)  Loss: 77.1620  R_Loss: 72.3828  Capacity: 5.20   Test Loss : 175.2897   Time : 114.39s   LR: 0.0001\n",
      "Train Epoch:  28 (100%)  Loss: 64.4144  R_Loss: 56.0423  Capacity: 5.40   Test Loss : 176.0221   Time : 119.22s   LR: 0.0001\n",
      "Train Epoch:  29 (100%)  Loss: 83.1279  R_Loss: 77.8170  Capacity: 5.60   Test Loss : 175.0350   Time : 112.44s   LR: 0.0001\n",
      "Train Epoch:  30 (100%)  Loss: 101.0927  R_Loss: 97.1882  Capacity: 5.80   Test Loss : 174.0861   Time : 118.69s   LR: 0.0001\n",
      "Train Epoch:  31 (100%)  Loss: 87.7518  R_Loss: 83.7228  Capacity: 6.00   Test Loss : 173.8899   Time : 121.40s   LR: 0.0001\n",
      "Train Epoch:  32 (100%)  Loss: 93.4095  R_Loss: 85.4778  Capacity: 6.20   Test Loss : 174.2037   Time : 118.94s   LR: 0.0001\n",
      "Train Epoch:  33 (100%)  Loss: 77.1423  R_Loss: 72.3129  Capacity: 6.40   Test Loss : 174.8980   Time : 118.07s   LR: 0.0001\n",
      "Train Epoch:  34 (100%)  Loss: 83.5614  R_Loss: 80.0482  Capacity: 6.60   Test Loss : 172.9468   Time : 119.45s   LR: 0.0001\n",
      "Train Epoch:  35 (100%)  Loss: 71.5664  R_Loss: 67.5345  Capacity: 6.80   Test Loss : 173.4795   Time : 117.37s   LR: 0.0001\n",
      "Train Epoch:  36 (100%)  Loss: 90.6237  R_Loss: 85.3353  Capacity: 7.00   Test Loss : 173.0264   Time : 120.71s   LR: 0.0001\n",
      "Train Epoch:  37 (100%)  Loss: 114.2905  R_Loss: 109.2470  Capacity: 7.20   Test Loss : 173.3030   Time : 120.07s   LR: 0.0001\n",
      "Train Epoch:  38 (100%)  Loss: 73.9104  R_Loss: 65.8675  Capacity: 7.40   Test Loss : 172.5066   Time : 117.80s   LR: 0.0001\n",
      "Train Epoch:  39 (100%)  Loss: 91.5291  R_Loss: 86.0991  Capacity: 7.60   Test Loss : 173.0535   Time : 116.69s   LR: 0.0001\n",
      "Train Epoch:  40 (100%)  Loss: 83.3415  R_Loss: 78.4794  Capacity: 7.80   Test Loss : 171.5778   Time : 118.32s   LR: 0.0001\n",
      "Train Epoch:  41 (100%)  Loss: 76.7087  R_Loss: 72.7844  Capacity: 8.00   Test Loss : 172.1625   Time : 117.84s   LR: 0.0001\n",
      "Train Epoch:  42 (100%)  Loss: 80.0998  R_Loss: 74.8754  Capacity: 8.20   Test Loss : 172.2296   Time : 118.33s   LR: 0.0001\n",
      "Train Epoch:  43 (100%)  Loss: 70.7370  R_Loss: 65.0249  Capacity: 8.40   Test Loss : 170.9965   Time : 117.73s   LR: 0.0001\n",
      "Train Epoch:  44 (100%)  Loss: 73.0927  R_Loss: 63.8900  Capacity: 8.60   Test Loss : 172.5996   Time : 117.04s   LR: 0.0001\n",
      "Train Epoch:  45 (100%)  Loss: 77.7649  R_Loss: 70.0880  Capacity: 8.80   Test Loss : 172.1836   Time : 115.57s   LR: 0.0001\n",
      "Train Epoch:  46 (100%)  Loss: 83.5658  R_Loss: 76.6535  Capacity: 9.00   Test Loss : 171.5937   Time : 115.14s   LR: 0.0001\n",
      "Train Epoch:  47 (100%)  Loss: 80.9534  R_Loss: 77.0166  Capacity: 9.20   Test Loss : 171.6715   Time : 115.54s   LR: 0.0001\n",
      "Train Epoch:  48 (100%)  Loss: 72.3485  R_Loss: 63.4563  Capacity: 9.40   Test Loss : 170.1361   Time : 115.47s   LR: 0.0001\n",
      "Train Epoch:  49 (100%)  Loss: 90.3772  R_Loss: 80.9123  Capacity: 9.60   Test Loss : 170.8832   Time : 111.65s   LR: 0.0001\n",
      "Train Epoch:  50 (100%)  Loss: 60.5785  R_Loss: 54.5700  Capacity: 9.80   Test Loss : 170.6779   Time : 112.03s   LR: 0.0001\n",
      "CPU times: user 1h 30min 41s, sys: 3min 40s, total: 1h 34min 22s\n",
      "Wall time: 1h 34min 52s\n"
     ]
    }
   ],
   "source": [
    "%%time\n",
    "k = [1, 16, 16, 32, 32, 64]\n",
    "vae = VAE(lt_dim=lt_dim, use_STN=True, activation_fnc=nn.ELU, k=k).to(device)\n",
    "optimizer = Adam(vae.parameters(), lr=lr, weight_decay=1E-5)\n",
    "\n",
    "scheduler = LambdaLR(optimizer, lr_lambda= lambda_lr)\n",
    "do_training(vae, optimizer, scheduler)\n",
    "torch.save(vae, 'b_vae_soft_stn_elu')"
   ]
  },
  {
   "cell_type": "code",
   "execution_count": 80,
   "metadata": {
    "scrolled": false
   },
   "outputs": [
    {
     "data": {
      "text/plain": [
       "(-0.5, 63.5, 63.5, -0.5)"
      ]
     },
     "execution_count": 80,
     "metadata": {},
     "output_type": "execute_result"
    },
    {
     "data": {
      "image/png": "[encoded data removed]",
      "text/plain": [
       "<Figure size 720x360 with 3 Axes>"
      ]
     },
     "metadata": {
      "needs_background": "light"
     },
     "output_type": "display_data"
    }
   ],
   "source": [
    "a = 1\n",
    "vae.eval()\n",
    "s, l = sample[0][a:a+1], sample[1][a:a+1]\n",
    "with torch.no_grad():\n",
    "    e = vae.encode(s.to(device))[0]\n",
    "    d = vae.decode(e)\n",
    "f, ax = plt.subplots(1, 3, figsize=(10, 5))\n",
    "ax[0].imshow(s[0][0])\n",
    "ax[1].imshow(d.cpu()[0][0])\n",
    "ax[2].imshow(s[0][0] - d.cpu()[0][0], cmap='gray')\n",
    "ax[0].axis('off')\n",
    "ax[1].axis('off')\n",
    "ax[2].axis('off')"
   ]
  },
  {
   "cell_type": "code",
   "execution_count": 13,
   "metadata": {
    "scrolled": true
   },
   "outputs": [
    {
     "name": "stdout",
     "output_type": "stream",
     "text": [
      "Train Epoch:   1 (100%)  Loss: 218.4381  R_Loss: 211.0197  Capacity: 0.00   Test Loss : 328.0204   Time : 109.73s   LR: 0.0001\n",
      "Train Epoch:   2 (100%)  Loss: 140.5859  R_Loss: 133.7599  Capacity: 0.20   Test Loss : 240.9024   Time : 108.65s   LR: 0.0001\n",
      "Train Epoch:   3 (100%)  Loss: 103.3583  R_Loss: 97.1330  Capacity: 0.40   Test Loss : 223.9492   Time : 109.07s   LR: 0.0001\n",
      "Train Epoch:   4 (100%)  Loss: 94.5880  R_Loss: 88.4220  Capacity: 0.60   Test Loss : 215.4087   Time : 108.24s   LR: 0.0001\n",
      "Train Epoch:   5 (100%)  Loss: 148.2065  R_Loss: 136.0288  Capacity: 0.80   Test Loss : 208.3745   Time : 107.77s   LR: 0.0001\n",
      "Train Epoch:   6 (100%)  Loss: 89.8563  R_Loss: 84.6839  Capacity: 1.00   Test Loss : 199.7004   Time : 109.41s   LR: 0.0001\n",
      "Train Epoch:   7 (100%)  Loss: 70.6879  R_Loss: 65.4453  Capacity: 1.20   Test Loss : 191.4524   Time : 111.06s   LR: 0.0001\n",
      "Train Epoch:   8 (100%)  Loss: 86.7403  R_Loss: 81.4278  Capacity: 1.40   Test Loss : 189.0792   Time : 107.87s   LR: 0.0001\n",
      "Train Epoch:   9 (100%)  Loss: 71.5549  R_Loss: 66.5283  Capacity: 1.60   Test Loss : 190.8760   Time : 108.46s   LR: 0.0001\n",
      "Train Epoch:  10 (100%)  Loss: 119.3552  R_Loss: 112.1349  Capacity: 1.80   Test Loss : 189.0273   Time : 108.86s   LR: 0.0001\n",
      "Train Epoch:  11 (100%)  Loss: 79.4635  R_Loss: 75.2056  Capacity: 2.00   Test Loss : 184.1478   Time : 108.98s   LR: 0.0001\n",
      "Train Epoch:  12 (100%)  Loss: 68.1062  R_Loss: 62.8122  Capacity: 2.20   Test Loss : 179.8835   Time : 107.87s   LR: 0.0001\n",
      "Train Epoch:  13 (100%)  Loss: 87.7881  R_Loss: 83.6062  Capacity: 2.40   Test Loss : 185.5300   Time : 107.61s   LR: 0.0001\n",
      "Train Epoch:  14 (100%)  Loss: 97.0102  R_Loss: 93.0124  Capacity: 2.60   Test Loss : 181.0784   Time : 107.92s   LR: 0.0001\n",
      "Train Epoch:  15 (100%)  Loss: 94.0464  R_Loss: 90.2651  Capacity: 2.80   Test Loss : 179.1291   Time : 109.13s   LR: 0.0001\n",
      "Train Epoch:  16 (100%)  Loss: 71.6990  R_Loss: 66.6896  Capacity: 3.00   Test Loss : 178.0452   Time : 108.67s   LR: 0.0001\n",
      "Train Epoch:  17 (100%)  Loss: 79.8296  R_Loss: 75.2658  Capacity: 3.20   Test Loss : 178.5372   Time : 107.94s   LR: 0.0001\n",
      "Train Epoch:  18 (100%)  Loss: 63.3520  R_Loss: 58.6681  Capacity: 3.40   Test Loss : 175.1691   Time : 107.75s   LR: 0.0001\n",
      "Train Epoch:  19 (100%)  Loss: 98.8530  R_Loss: 94.2769  Capacity: 3.60   Test Loss : 176.0311   Time : 107.92s   LR: 0.0001\n",
      "Train Epoch:  20 (100%)  Loss: 82.4867  R_Loss: 78.8360  Capacity: 3.80   Test Loss : 178.7164   Time : 108.42s   LR: 0.0001\n",
      "Train Epoch:  21 (100%)  Loss: 110.7715  R_Loss: 105.0637  Capacity: 4.00   Test Loss : 177.4181   Time : 108.13s   LR: 0.0001\n",
      "Train Epoch:  22 (100%)  Loss: 80.9602  R_Loss: 77.8263  Capacity: 4.20   Test Loss : 178.3860   Time : 107.97s   LR: 0.0001\n",
      "Train Epoch:  23 (100%)  Loss: 104.3301  R_Loss: 99.1100  Capacity: 4.40   Test Loss : 177.7461   Time : 108.03s   LR: 0.0001\n",
      "Train Epoch:  24 (100%)  Loss: 77.6094  R_Loss: 74.3278  Capacity: 4.60   Test Loss : 175.8996   Time : 109.20s   LR: 0.0001\n",
      "Train Epoch:  25 (100%)  Loss: 84.4561  R_Loss: 80.3208  Capacity: 4.80   Test Loss : 174.3461   Time : 108.32s   LR: 0.0001\n",
      "Train Epoch:  26 (100%)  Loss: 71.1045  R_Loss: 66.9275  Capacity: 5.00   Test Loss : 175.8125   Time : 108.39s   LR: 0.0001\n",
      "Train Epoch:  27 (100%)  Loss: 66.5947  R_Loss: 63.0129  Capacity: 5.20   Test Loss : 176.0104   Time : 107.66s   LR: 0.0001\n",
      "Train Epoch:  28 (100%)  Loss: 82.9267  R_Loss: 78.5939  Capacity: 5.40   Test Loss : 176.8823   Time : 110.49s   LR: 0.0001\n",
      "Train Epoch:  29 (100%)  Loss: 85.5607  R_Loss: 81.5511  Capacity: 5.60   Test Loss : 172.0049   Time : 108.19s   LR: 0.0001\n",
      "Train Epoch:  30 (100%)  Loss: 78.1655  R_Loss: 75.2841  Capacity: 5.80   Test Loss : 176.4523   Time : 108.31s   LR: 0.0001\n",
      "Train Epoch:  31 (100%)  Loss: 88.4402  R_Loss: 84.9153  Capacity: 6.00   Test Loss : 172.0885   Time : 108.45s   LR: 0.0001\n",
      "Train Epoch:  32 (100%)  Loss: 77.0917  R_Loss: 72.7919  Capacity: 6.20   Test Loss : 172.5452   Time : 108.00s   LR: 0.0001\n",
      "Train Epoch:  33 (100%)  Loss: 79.9451  R_Loss: 77.4101  Capacity: 6.40   Test Loss : 177.2896   Time : 108.19s   LR: 0.0001\n",
      "Train Epoch:  34 (100%)  Loss: 76.4761  R_Loss: 72.6240  Capacity: 6.60   Test Loss : 174.9781   Time : 107.81s   LR: 0.0001\n",
      "Train Epoch:  35 (100%)  Loss: 80.1361  R_Loss: 76.7172  Capacity: 6.80   Test Loss : 175.7151   Time : 107.80s   LR: 0.0001\n",
      "Train Epoch:  36 (100%)  Loss: 71.2541  R_Loss: 68.0788  Capacity: 7.00   Test Loss : 175.4099   Time : 107.69s   LR: 0.0001\n",
      "Train Epoch:  37 (100%)  Loss: 70.0226  R_Loss: 67.2725  Capacity: 7.20   Test Loss : 175.5194   Time : 107.51s   LR: 0.0001\n",
      "Train Epoch:  38 (100%)  Loss: 92.2938  R_Loss: 89.1010  Capacity: 7.40   Test Loss : 177.6219   Time : 107.81s   LR: 0.0001\n",
      "Train Epoch:  39 (100%)  Loss: 70.1511  R_Loss: 67.6127  Capacity: 7.60   Test Loss : 170.4643   Time : 108.09s   LR: 0.0001\n",
      "Train Epoch:  40 (100%)  Loss: 97.1100  R_Loss: 93.5818  Capacity: 7.80   Test Loss : 170.7550   Time : 108.06s   LR: 0.0001\n",
      "Train Epoch:  41 (100%)  Loss: 50.7888  R_Loss: 47.1244  Capacity: 8.00   Test Loss : 176.8927   Time : 108.12s   LR: 0.0001\n",
      "Train Epoch:  42 (100%)  Loss: 62.8932  R_Loss: 59.6624  Capacity: 8.20   Test Loss : 169.9541   Time : 107.79s   LR: 0.0001\n",
      "Train Epoch:  43 (100%)  Loss: 73.2204  R_Loss: 70.2450  Capacity: 8.40   Test Loss : 172.1618   Time : 107.95s   LR: 0.0001\n",
      "Train Epoch:  44 (100%)  Loss: 70.8795  R_Loss: 67.2414  Capacity: 8.60   Test Loss : 169.1843   Time : 107.93s   LR: 0.0001\n",
      "Train Epoch:  45 (100%)  Loss: 60.0564  R_Loss: 57.1337  Capacity: 8.80   Test Loss : 169.5173   Time : 108.23s   LR: 0.0001\n",
      "Train Epoch:  46 (100%)  Loss: 62.3498  R_Loss: 59.9116  Capacity: 9.00   Test Loss : 171.4077   Time : 109.74s   LR: 0.0001\n",
      "Train Epoch:  47 (100%)  Loss: 72.4672  R_Loss: 67.0208  Capacity: 9.20   Test Loss : 172.9158   Time : 107.69s   LR: 0.0001\n",
      "Train Epoch:  48 (100%)  Loss: 88.2578  R_Loss: 84.5245  Capacity: 9.40   Test Loss : 174.9666   Time : 108.09s   LR: 0.0001\n",
      "Train Epoch:  49 (100%)  Loss: 73.3907  R_Loss: 71.2159  Capacity: 9.60   Test Loss : 173.4457   Time : 108.01s   LR: 0.0001\n",
      "Train Epoch:  50 (100%)  Loss: 54.6520  R_Loss: 51.1614  Capacity: 9.80   Test Loss : 168.2306   Time : 107.81s   LR: 0.0001\n",
      "CPU times: user 1h 26min 15s, sys: 3min 40s, total: 1h 29min 56s\n",
      "Wall time: 1h 30min 19s\n"
     ]
    }
   ],
   "source": [
    "%%time\n",
    "vae = VAE(lt_dim=lt_dim, use_STN=True, dropout= False, activation_fnc=nn.ELU).to(device)\n",
    "optimizer = Adam(vae.parameters(), lr=lr, weight_decay=1E-5)\n",
    "\n",
    "scheduler = LambdaLR(optimizer, lr_lambda= lambda_lr)\n",
    "do_training(vae, optimizer, scheduler)\n",
    "torch.save(vae, 'b_vae_soft_stn_elu_nodrop')"
   ]
  },
  {
   "cell_type": "code",
   "execution_count": 83,
   "metadata": {},
   "outputs": [
    {
     "data": {
      "text/plain": [
       "(-0.5, 63.5, 63.5, -0.5)"
      ]
     },
     "execution_count": 83,
     "metadata": {},
     "output_type": "execute_result"
    },
    {
     "data": {
      "image/png": "[encoded data removed]",
      "text/plain": [
       "<Figure size 720x360 with 3 Axes>"
      ]
     },
     "metadata": {
      "needs_background": "light"
     },
     "output_type": "display_data"
    }
   ],
   "source": [
    "a = 22\n",
    "vae.eval()\n",
    "s, l = sample[0][a:a+1], sample[1][a:a+1]\n",
    "with torch.no_grad():\n",
    "    e = vae.encode(s.to(device))[0]\n",
    "    d = vae.decode(e)\n",
    "f, ax = plt.subplots(1, 3, figsize=(10, 5))\n",
    "ax[0].imshow(s[0][0])\n",
    "ax[1].imshow(d.cpu()[0][0])\n",
    "ax[2].imshow(s[0][0] - d.cpu()[0][0], cmap='gray')\n",
    "ax[0].axis('off')\n",
    "ax[1].axis('off')\n",
    "ax[2].axis('off')"
   ]
  },
  {
   "cell_type": "code",
   "execution_count": 49,
   "metadata": {},
   "outputs": [
    {
     "data": {
      "text/plain": [
       "tensor([[[ 0.9924, -0.1234,  0.0000],\n",
       "         [ 0.1234,  0.9924,  0.0000]]], device='cuda:0')"
      ]
     },
     "execution_count": 49,
     "metadata": {},
     "output_type": "execute_result"
    }
   ],
   "source": [
    "vae.affine_params"
   ]
  },
  {
   "cell_type": "code",
   "execution_count": 92,
   "metadata": {},
   "outputs": [
    {
     "data": {
      "image/png": "[encoded data removed]",
      "text/plain": [
       "<Figure size 432x288 with 1 Axes>"
      ]
     },
     "metadata": {
      "needs_background": "light"
     },
     "output_type": "display_data"
    },
    {
     "name": "stdout",
     "output_type": "stream",
     "text": [
      "tensor([[ 2.7791, -0.1545,  2.6928,  3.7952,  1.1227,  1.5732,  1.8288,  0.4163,\n",
      "         -0.5172,  2.0611]], device='cuda:0')\n"
     ]
    }
   ],
   "source": [
    "vae = torch.load('b_vae_soft_stn_elu_nodrop')\n",
    "vae.eval()\n",
    "\n",
    "a = 1\n",
    "s, l = sample[0][a:a+1], sample[1][a:a+1]\n",
    "p = np.rot90(s[0][0].numpy())\n",
    "rs = torch.tensor(np.array([[p]]))\n",
    "with torch.no_grad():\n",
    "    e = vae(rs.to(device), return_affine=True)\n",
    "    \n",
    "plt.imshow(e[0][0][0].cpu())\n",
    "plt.show()\n",
    "\n",
    "print(e[1])"
   ]
  },
  {
   "cell_type": "code",
   "execution_count": 91,
   "metadata": {},
   "outputs": [
    {
     "data": {
      "text/plain": [
       "tensor([[ 2.8979,  0.5700, -2.6591, -2.1423,  1.3470,  1.9478,  2.1379,  0.8741,\n",
       "         -1.0725,  0.1313]], device='cuda:0')"
      ]
     },
     "execution_count": 91,
     "metadata": {},
     "output_type": "execute_result"
    }
   ],
   "source": [
    "e[1]"
   ]
  },
  {
   "cell_type": "code",
   "execution_count": null,
   "metadata": {},
   "outputs": [],
   "source": []
  },
  {
   "cell_type": "code",
   "execution_count": 62,
   "metadata": {},
   "outputs": [],
   "source": [
    "%%time\n",
    "vae = VAE(lt_dim=lt_dim, use_STN=True, dropout= False, batchNorm=False, activation_fnc=nn.ELU).to(device)\n",
    "optimizer = Adam(vae.parameters(), lr=lr, weight_decay=1E-5)\n",
    "\n",
    "scheduler = LambdaLR(optimizer, lr_lambda= lambda_lr)\n",
    "do_training(vae, optimizer, scheduler)\n",
    "torch.save(vae, 'b_vae_soft_stn_elu_nodrop_nonorm')"
   ]
  },
  {
   "cell_type": "code",
   "execution_count": null,
   "metadata": {},
   "outputs": [],
   "source": [
    "a = 1\n",
    "vae.eval()\n",
    "s, l = sample[0][a:a+1], sample[1][a:a+1]\n",
    "with torch.no_grad():\n",
    "    e = vae.encode(s.to(device))[0]\n",
    "    d = vae.decode(e)\n",
    "f, ax = plt.subplots(1, 3, figsize=(10, 5))\n",
    "ax[0].imshow(s[0][0])\n",
    "ax[1].imshow(d.cpu()[0][0])\n",
    "ax[2].imshow(s[0][0] - d.cpu()[0][0], cmap='gray')\n",
    "ax[0].axis('off')\n",
    "ax[1].axis('off')\n",
    "ax[2].axis('off')"
   ]
  },
  {
   "cell_type": "code",
   "execution_count": null,
   "metadata": {},
   "outputs": [],
   "source": [
    "%%time\n",
    "vae = VAE(lt_dim=lt_dim, use_STN=False, activation_fnc=nn.ELU).to(device)\n",
    "optimizer = Adam(vae.parameters(), lr=lr, weight_decay=1E-5)\n",
    "\n",
    "scheduler = LambdaLR(optimizer, lr_lambda= lambda_lr)\n",
    "do_training(vae, optimizer, scheduler)\n",
    "torch.save(vae, 'b_vae_soft_elu')"
   ]
  },
  {
   "cell_type": "code",
   "execution_count": null,
   "metadata": {},
   "outputs": [],
   "source": [
    "%%time\n",
    "vae = VAE(lt_dim=lt_dim, use_STN=False, dropout= False, activation_fnc=nn.ELU).to(device)\n",
    "optimizer = Adam(vae.parameters(), lr=lr, weight_decay=1E-5)\n",
    "\n",
    "scheduler = LambdaLR(optimizer, lr_lambda= lambda_lr)\n",
    "do_training(vae, optimizer, scheduler)\n",
    "torch.save(vae, 'b_vae_soft_stn_elu_nodrop')"
   ]
  },
  {
   "cell_type": "code",
   "execution_count": null,
   "metadata": {},
   "outputs": [],
   "source": [
    "%%time\n",
    "vae = VAE(lt_dim=lt_dim, use_STN=False, dropout= False, batchNorm=False, activation_fnc=nn.ELU).to(device)\n",
    "optimizer = Adam(vae.parameters(), lr=lr, weight_decay=1E-5)\n",
    "\n",
    "scheduler = LambdaLR(optimizer, lr_lambda= lambda_lr)\n",
    "do_training(vae, optimizer, scheduler)\n",
    "torch.save(vae, 'b_vae_soft_stn_elu_nodrop_nonorm')"
   ]
  },
  {
   "cell_type": "code",
   "execution_count": null,
   "metadata": {},
   "outputs": [],
   "source": []
  }
 ],
 "metadata": {
  "kernelspec": {
   "display_name": "Python 3",
   "language": "python",
   "name": "python3"
  },
  "language_info": {
   "codemirror_mode": {
    "name": "ipython",
    "version": 3
   },
   "file_extension": ".py",
   "mimetype": "text/x-python",
   "name": "python",
   "nbconvert_exporter": "python",
   "pygments_lexer": "ipython3",
   "version": "3.7.3"
  }
 },
 "nbformat": 4,
 "nbformat_minor": 2
}
