{
 "cells": [
  {
   "cell_type": "code",
   "execution_count": 1,
   "metadata": {},
   "outputs": [],
   "source": [
    "%load_ext autoreload\n",
    "%autoreload 2\n",
    "\n",
    "import sys\n",
    "import time\n",
    "\n",
    "import torch\n",
    "import torch.nn as nn\n",
    "import torch.nn.functional as F\n",
    "\n",
    "from torch.autograd import Variable\n",
    "from torch.utils import data\n",
    "from torch.optim import Adam\n",
    "\n",
    "from torchvision import transforms\n",
    "from torchvision import datasets\n",
    "\n",
    "import numpy as np\n",
    "\n",
    "from matplotlib import pyplot as plt\n",
    "from pandas import read_fwf, DataFrame\n",
    "from tqdm   import tqdm_notebook as tqdm\n",
    "import matplotlib.gridspec as gridspec\n",
    "\n",
    "from scipy.ndimage.interpolation import rotate\n",
    "from sklearn.model_selection import train_test_split"
   ]
  },
  {
   "cell_type": "code",
   "execution_count": 2,
   "metadata": {},
   "outputs": [],
   "source": [
    "sys.path.append('../')\n",
    "from VAE.rg_dataset import LRG, BasicDataset\n",
    "from VAE.loss_funcs import VAE_Loss\n",
    "from VAE import vae_models"
   ]
  },
  {
   "cell_type": "code",
   "execution_count": 3,
   "metadata": {},
   "outputs": [
    {
     "name": "stdout",
     "output_type": "stream",
     "text": [
      "../data/lrg:\t1442/1442\n",
      "../data/unlrg:\t14245/14245\n",
      "CPU times: user 6min 10s, sys: 6min 44s, total: 12min 55s\n",
      "Wall time: 4min 19s\n"
     ]
    }
   ],
   "source": [
    "%%time\n",
    "data_path = '../data/'\n",
    "aug=10\n",
    "\n",
    "lrg_data_set   = LRG(use_kittler=True, n_aug=aug, blur=True, catalog_dir=data_path + 'catalog/mrt-table3.txt', \n",
    "                                                               file_dir=data_path + 'lrg')\n",
    "\n",
    "unlrg_data_set = LRG(use_kittler=True, n_aug=aug, blur=True, catalog_dir=data_path + 'catalog/mrt-table4.txt',\n",
    "                                                               file_dir=data_path + 'unlrg')"
   ]
  },
  {
   "cell_type": "code",
   "execution_count": 4,
   "metadata": {},
   "outputs": [],
   "source": [
    "batch_size = 16 #supposedly low batch size helps fater convergence\n",
    "\n",
    "data_loader_lrg   = data.DataLoader(lrg_data_set,   batch_size=128, shuffle=False)\n",
    "data_loader_unlrg = data.DataLoader(unlrg_data_set, batch_size=16,  shuffle=False)\n",
    "\n",
    "sample = iter(data_loader_lrg).next()"
   ]
  },
  {
   "cell_type": "code",
   "execution_count": 6,
   "metadata": {},
   "outputs": [
    {
     "data": {
      "image/png": "[encoded data removed]",
      "text/plain": [
       "<Figure size 432x288 with 1 Axes>"
      ]
     },
     "metadata": {
      "needs_background": "light"
     },
     "output_type": "display_data"
    }
   ],
   "source": [
    "plt.imshow(sample[0][0][0], cmap='gray')\n",
    "plt.show()"
   ]
  },
  {
   "cell_type": "code",
   "execution_count": 7,
   "metadata": {},
   "outputs": [],
   "source": [
    "class VAE(nn.Module):\n",
    "    def __init__(self, lt_dim=4, k=None, batch_norm=True):\n",
    "        super(VAE, self).__init__()\n",
    "        self.k = k\n",
    "        n_layers = len(self.k)\n",
    "        encoder_layers = []\n",
    "        decoder_layers = []\n",
    "        \n",
    "        for i in range( n_layers -1) :\n",
    "            in_c, out_c = self.k[i], self.k[i + 1]\n",
    "            if(in_c == 'M'): continue\n",
    "            stride = 1\n",
    "            if out_c == 'M':\n",
    "                stride = 2\n",
    "                i += 1\n",
    "                out_c = self.k[i + 1]\n",
    "            layer = nn.Conv2d(in_c, out_c, kernel_size=3, padding=1, stride=stride)\n",
    "            encoder_layers.append(layer)\n",
    "            if batch_norm:\n",
    "                encoder_layers.append(nn.BatchNorm2d(out_c))\n",
    "            encoder_layers.append(nn.ReLU(inplace=True))\n",
    "        self.encoder = nn.Sequential(*encoder_layers)\n",
    "        \n",
    "        for i in range(n_layers - 1, 0, -1):\n",
    "            in_c, out_c = self.k[i], self.k[i - 1]\n",
    "            if(in_c == 'M'): continue\n",
    "            stride = 1\n",
    "            output_padding=0\n",
    "            if out_c == 'M':\n",
    "                stride = 2\n",
    "                i -= 1\n",
    "                out_c = self.k[i - 1]\n",
    "                output_padding=1\n",
    "                \n",
    "            layer = nn.ConvTranspose2d(in_c, out_c, kernel_size=3, padding=1, \n",
    "                                       output_padding=output_padding, stride=stride)\n",
    "            decoder_layers.append(layer)\n",
    "            if batch_norm:\n",
    "                decoder_layers.append(nn.BatchNorm2d(out_c))\n",
    "            decoder_layers.append(nn.ReLU(inplace=True))\n",
    "\n",
    "        self.decoder = nn.Sequential(*decoder_layers[:-1])\n",
    "        \n",
    "        self.fc_mu = nn.Sequential(\n",
    "                      nn.Linear(self.k[-1]*2*2, lt_dim*2),\n",
    "                      nn.Linear(lt_dim*2, lt_dim)\n",
    "        )\n",
    "        self.fc_ep = nn.Sequential(\n",
    "                      nn.Linear(self.k[-1]*2*2, lt_dim*2),\n",
    "                      nn.Linear(lt_dim*2, lt_dim)\n",
    "        )\n",
    "        \n",
    "        self.fc_dc = nn.Linear(lt_dim, self.k[-1]*2*2)\n",
    "        \n",
    "    def encode(self, x):\n",
    "        encoded = self.encoder(x)\n",
    "        encoded = encoded.view(-1, self.k[-1]*2*2)\n",
    "        return self.fc_mu(encoded), self.fc_ep(encoded)\n",
    "    \n",
    "    def reparameterize(self, mu, logvar):\n",
    "        std = torch.exp(0.5*logvar)\n",
    "        eps = torch.randn_like(std)\n",
    "        if self.training :\n",
    "            return mu + eps*std\n",
    "        return mu\n",
    "\n",
    "    def decode(self, x):\n",
    "        x = F.relu(self.fc_dc(x))\n",
    "        x = x.view(-1, self.k[-1], 2, 2) #reshape\n",
    "        return torch.sigmoid(self.decoder(x))\n",
    "    \n",
    "    def forward(self, x):\n",
    "        mu, var = self.encode(x)\n",
    "        z = self.reparameterize(mu, var)\n",
    "        d = self.decode(z)\n",
    "        return d, mu, var"
   ]
  },
  {
   "cell_type": "code",
   "execution_count": 8,
   "metadata": {},
   "outputs": [],
   "source": [
    "def train_step_vae(mode, device, data_loader, optim, epoch, loss_fun, log_interval=5, beta=1):\n",
    "    model.train()\n",
    "    s = ''\n",
    "    r_loss = 0\n",
    "    batch_sum = 0\n",
    "    avg_r_loss = 0\n",
    "    for batch_idx, (data, target) in enumerate(data_loader):\n",
    "        batch_sum += len(data)\n",
    "        data = data.to(device)\n",
    "        target = Variable(data, requires_grad=False).to(device)\n",
    "        #Forward Pass\n",
    "        optim.zero_grad()\n",
    "        output = model(data)\n",
    "\n",
    "        # BCE Loss\n",
    "        r_loss, g_loss = loss_fun(output, data)\n",
    "        loss = r_loss + (beta * g_loss)\n",
    "        avg_r_loss += r_loss.item()\n",
    "        #Backpropagation\n",
    "        loss.backward()\n",
    "        optim.step()\n",
    "        s = 'Train Epoch: {:3d} [{:5d}/{:5d} ({:3.0f}%)]\\tLoss: {:4.4f}\\tR_Loss: {:4.4f}\\tDKL: {:4.4f}'\n",
    "        s = s.format(epoch, batch_sum, len(data_loader.dataset),\n",
    "                100. * batch_idx / len(data_loader), loss.item()/len(data),\n",
    "                     r_loss.item()/len(data), g_loss.item()/len(data))\n",
    "        \n",
    "        if batch_idx % log_interval == 0:\n",
    "            sys.stdout.write('{}\\r'.format(s))\n",
    "            sys.stdout.flush()\n",
    "    return s, avg_r_loss / batch_sum"
   ]
  },
  {
   "cell_type": "code",
   "execution_count": 9,
   "metadata": {},
   "outputs": [],
   "source": [
    "def test_step_vae(model, device, data_loader, loss_fun, learn_rot=False):\n",
    "    model.eval()\n",
    "    avg_r_loss = 0\n",
    "    batch_sum = 0 \n",
    "    for batch_idx, (data, target) in enumerate(data_loader):\n",
    "        batch_sum += len(data)\n",
    "        with torch.no_grad():\n",
    "            data = data.to(device)\n",
    "            #Forward Pass\n",
    "            output = model(data)\n",
    "            # BCE Loss\n",
    "            r_loss , g_loss = loss_fun(output, data)\n",
    "            avg_r_loss += r_loss.item()\n",
    "            \n",
    "    return avg_r_loss / batch_sum"
   ]
  },
  {
   "cell_type": "code",
   "execution_count": 10,
   "metadata": {},
   "outputs": [],
   "source": [
    "device = 'cuda'\n",
    "epochs = 40"
   ]
  },
  {
   "cell_type": "code",
   "execution_count": 14,
   "metadata": {},
   "outputs": [
    {
     "name": "stdout",
     "output_type": "stream",
     "text": [
      "Train Epoch:   1 [139800/139800 (100%)]\tLoss: 29.0517\tR_Loss: 29.0513\tDKL: 0.0001\tAvgR 57.4933\tTest Loss : 1.6859   Time : 251.26s\n",
      "Beta : 4.2870938501451725\n",
      "Train Epoch:   2 [139800/139800 (100%)]\tLoss: 15.8238\tR_Loss: 15.6037\tDKL: 0.0513\tAvgR 5.8364\tTest Loss : 0.6712   Time : 252.90s\n",
      "Beta : 2.7702189362218492\n",
      "Train Epoch:   3 [139800/139800 (100%)]\tLoss: 14.1389\tR_Loss: 13.2343\tDKL: 0.3265\tAvgR 2.8637\tTest Loss : 0.5325   Time : 251.34s\n",
      "Beta : 2.0406093184969154\n",
      "Train Epoch:   4 [139800/139800 (100%)]\tLoss: 12.3550\tR_Loss: 11.2466\tDKL: 0.5432\tAvgR 2.4497\tTest Loss : 0.4944   Time : 255.81s\n",
      "Beta : 1.6475245920252577\n",
      "Train Epoch:   5 [139800/139800 (100%)]\tLoss: 11.8178\tR_Loss: 10.6848\tDKL: 0.6877\tAvgR 2.3388\tTest Loss : 0.4839   Time : 257.10s\n",
      "Beta : 1\n"
     ]
    },
    {
     "data": {
      "image/png": "[encoded data removed]",
      "text/plain": [
       "<Figure size 720x360 with 3 Axes>"
      ]
     },
     "metadata": {
      "needs_background": "light"
     },
     "output_type": "display_data"
    },
    {
     "name": "stdout",
     "output_type": "stream",
     "text": [
      "Train Epoch:   6 [139800/139800 (100%)]\tLoss: 11.3131\tR_Loss: 10.5544\tDKL: 0.7587\tAvgR 2.2201\tTest Loss : 0.4639   Time : 251.29s\n",
      "Beta : 1\n",
      "Train Epoch:   7 [139800/139800 (100%)]\tLoss: 10.7477\tR_Loss: 9.8694\tDKL: 0.8784\tAvgR 2.1781\tTest Loss : 0.4590   Time : 250.21s\n",
      "Beta : 1\n",
      "Train Epoch:   8 [139800/139800 (100%)]\tLoss: 10.5396\tR_Loss: 9.6406\tDKL: 0.8990\tAvgR 2.1536\tTest Loss : 0.4769   Time : 254.33s\n",
      "Beta : 1\n",
      "Train Epoch:   9 [139800/139800 (100%)]\tLoss: 10.5536\tR_Loss: 9.7676\tDKL: 0.7860\tAvgR 2.1412\tTest Loss : 0.4694   Time : 253.28s\n",
      "Beta : 1\n",
      "Train Epoch:  10 [139800/139800 (100%)]\tLoss: 10.3047\tR_Loss: 9.5404\tDKL: 0.7643\tAvgR 2.1315\tTest Loss : 0.4583   Time : 255.04s\n",
      "Beta : 1\n"
     ]
    },
    {
     "data": {
      "image/png": "[encoded data removed]",
      "text/plain": [
       "<Figure size 720x360 with 3 Axes>"
      ]
     },
     "metadata": {
      "needs_background": "light"
     },
     "output_type": "display_data"
    },
    {
     "name": "stdout",
     "output_type": "stream",
     "text": [
      "Train Epoch:  11 [139800/139800 (100%)]\tLoss: 10.4660\tR_Loss: 9.5617\tDKL: 0.9042\tAvgR 2.1237\tTest Loss : 0.4693   Time : 251.81s\n",
      "Beta : 1\n",
      "Train Epoch:  12 [139800/139800 (100%)]\tLoss: 9.8751\tR_Loss: 9.0367\tDKL: 0.8384\tAvgR 2.1163\tTest Loss : 0.4533   Time : 251.79s\n",
      "Beta : 1\n",
      "Train Epoch:  13 [139800/139800 (100%)]\tLoss: 10.3029\tR_Loss: 9.3616\tDKL: 0.9413\tAvgR 2.1120\tTest Loss : 0.4621   Time : 251.35s\n",
      "Beta : 1\n",
      "Train Epoch:  14 [139800/139800 (100%)]\tLoss: 10.1572\tR_Loss: 9.3514\tDKL: 0.8058\tAvgR 2.1085\tTest Loss : 0.4545   Time : 251.16s\n",
      "Beta : 1\n",
      "Train Epoch:  15 [139800/139800 (100%)]\tLoss: 9.7250\tR_Loss: 8.9368\tDKL: 0.7883\tAvgR 2.1045\tTest Loss : 0.4586   Time : 252.90s\n",
      "Beta : 1\n"
     ]
    },
    {
     "data": {
      "image/png": "[encoded data removed]",
      "text/plain": [
       "<Figure size 720x360 with 3 Axes>"
      ]
     },
     "metadata": {
      "needs_background": "light"
     },
     "output_type": "display_data"
    },
    {
     "name": "stdout",
     "output_type": "stream",
     "text": [
      "Train Epoch:  16 [139800/139800 (100%)]\tLoss: 9.9573\tR_Loss: 9.1092\tDKL: 0.8481\tAvgR 2.1020\tTest Loss : 0.4465   Time : 251.64s\n",
      "Beta : 1\n",
      "Train Epoch:  17 [139800/139800 (100%)]\tLoss: 10.1571\tR_Loss: 9.2613\tDKL: 0.8958\tAvgR 2.0995\tTest Loss : 0.4716   Time : 252.70s\n",
      "Beta : 1\n",
      "Train Epoch:  18 [139800/139800 (100%)]\tLoss: 10.3902\tR_Loss: 9.4717\tDKL: 0.9185\tAvgR 2.0963\tTest Loss : 0.4475   Time : 253.35s\n",
      "Beta : 1\n",
      "Train Epoch:  19 [139800/139800 (100%)]\tLoss: 10.4585\tR_Loss: 9.6433\tDKL: 0.8152\tAvgR 2.0947\tTest Loss : 0.4742   Time : 252.36s\n",
      "Beta : 1\n",
      "Train Epoch:  20 [139800/139800 (100%)]\tLoss: 10.0504\tR_Loss: 9.2078\tDKL: 0.8426\tAvgR 2.0922\tTest Loss : 0.4520   Time : 254.55s\n",
      "Beta : 1\n"
     ]
    },
    {
     "data": {
      "image/png": "[encoded data removed]",
      "text/plain": [
       "<Figure size 720x360 with 3 Axes>"
      ]
     },
     "metadata": {
      "needs_background": "light"
     },
     "output_type": "display_data"
    },
    {
     "name": "stdout",
     "output_type": "stream",
     "text": [
      "Train Epoch:  21 [139800/139800 (100%)]\tLoss: 10.1073\tR_Loss: 9.1531\tDKL: 0.9542\tAvgR 2.0904\tTest Loss : 0.4832   Time : 251.15s\n",
      "Beta : 1\n",
      "Train Epoch:  22 [139800/139800 (100%)]\tLoss: 9.8831\tR_Loss: 8.9735\tDKL: 0.9095\tAvgR 2.0901\tTest Loss : 0.4681   Time : 251.10s\n",
      "Beta : 1\n",
      "Train Epoch:  23 [139800/139800 (100%)]\tLoss: 10.1845\tR_Loss: 9.3544\tDKL: 0.8300\tAvgR 2.0882\tTest Loss : 0.4582   Time : 253.20s\n",
      "Beta : 1\n",
      "Train Epoch:  24 [139800/139800 (100%)]\tLoss: 10.2340\tR_Loss: 9.2994\tDKL: 0.9346\tAvgR 2.0866\tTest Loss : 0.4640   Time : 254.46s\n",
      "Beta : 1\n",
      "Train Epoch:  25 [139800/139800 (100%)]\tLoss: 9.9855\tR_Loss: 9.1977\tDKL: 0.7878\tAvgR 2.0864\tTest Loss : 0.4633   Time : 252.57s\n",
      "Beta : 1\n"
     ]
    },
    {
     "data": {
      "image/png": "[encoded data removed]",
      "text/plain": [
       "<Figure size 720x360 with 3 Axes>"
      ]
     },
     "metadata": {
      "needs_background": "light"
     },
     "output_type": "display_data"
    },
    {
     "name": "stdout",
     "output_type": "stream",
     "text": [
      "Train Epoch:  26 [139800/139800 (100%)]\tLoss: 10.2016\tR_Loss: 9.2864\tDKL: 0.9151\tAvgR 2.0835\tTest Loss : 0.4606   Time : 256.50s\n",
      "Beta : 1\n",
      "Train Epoch:  27 [139800/139800 (100%)]\tLoss: 9.9181\tR_Loss: 9.0431\tDKL: 0.8750\tAvgR 2.0831\tTest Loss : 0.4569   Time : 253.43s\n",
      "Beta : 1\n",
      "Train Epoch:  28 [139800/139800 (100%)]\tLoss: 10.1220\tR_Loss: 9.1971\tDKL: 0.9249\tAvgR 2.0816\tTest Loss : 0.4673   Time : 252.29s\n",
      "Beta : 1\n",
      "Train Epoch:  29 [139800/139800 (100%)]\tLoss: 9.9858\tR_Loss: 9.0687\tDKL: 0.9171\tAvgR 2.0808\tTest Loss : 0.4618   Time : 251.26s\n",
      "Beta : 1\n",
      "Train Epoch:  30 [139800/139800 (100%)]\tLoss: 10.1627\tR_Loss: 9.2813\tDKL: 0.8813\tAvgR 2.0803\tTest Loss : 0.4516   Time : 253.86s\n",
      "Beta : 1\n"
     ]
    },
    {
     "data": {
      "image/png": "[encoded data removed]",
      "text/plain": [
       "<Figure size 720x360 with 3 Axes>"
      ]
     },
     "metadata": {
      "needs_background": "light"
     },
     "output_type": "display_data"
    },
    {
     "name": "stdout",
     "output_type": "stream",
     "text": [
      "Train Epoch:  31 [139800/139800 (100%)]\tLoss: 9.7690\tR_Loss: 8.8933\tDKL: 0.8757\tAvgR 2.0787\tTest Loss : 0.4629   Time : 255.45s\n",
      "Beta : 1\n",
      "Train Epoch:  32 [139800/139800 (100%)]\tLoss: 9.8941\tR_Loss: 9.0108\tDKL: 0.8833\tAvgR 2.0779\tTest Loss : 0.4772   Time : 255.86s\n",
      "Beta : 1\n",
      "Train Epoch:  33 [139800/139800 (100%)]\tLoss: 9.7895\tR_Loss: 8.9207\tDKL: 0.8689\tAvgR 2.0787\tTest Loss : 0.4623   Time : 251.76s\n",
      "Beta : 1\n",
      "Train Epoch:  34 [139800/139800 (100%)]\tLoss: 10.0313\tR_Loss: 9.1241\tDKL: 0.9072\tAvgR 2.0770\tTest Loss : 0.4461   Time : 250.99s\n",
      "Beta : 1\n",
      "Train Epoch:  35 [139800/139800 (100%)]\tLoss: 10.0928\tR_Loss: 9.1871\tDKL: 0.9057\tAvgR 2.0753\tTest Loss : 0.4498   Time : 252.83s\n",
      "Beta : 1\n"
     ]
    },
    {
     "data": {
      "image/png": "[encoded data removed]",
      "text/plain": [
       "<Figure size 720x360 with 3 Axes>"
      ]
     },
     "metadata": {
      "needs_background": "light"
     },
     "output_type": "display_data"
    },
    {
     "name": "stdout",
     "output_type": "stream",
     "text": [
      "Train Epoch:  36 [139800/139800 (100%)]\tLoss: 9.7498\tR_Loss: 8.8558\tDKL: 0.8940\tAvgR 2.0742\tTest Loss : 0.4608   Time : 251.83s\n",
      "Beta : 1\n",
      "Train Epoch:  37 [139800/139800 (100%)]\tLoss: 9.9806\tR_Loss: 9.0903\tDKL: 0.8903\tAvgR 2.0733\tTest Loss : 0.4633   Time : 251.05s\n",
      "Beta : 1\n",
      "Train Epoch:  38 [139800/139800 (100%)]\tLoss: 9.9968\tR_Loss: 9.1603\tDKL: 0.8365\tAvgR 2.0734\tTest Loss : 0.4449   Time : 251.59s\n",
      "Beta : 1\n",
      "Train Epoch:  39 [139800/139800 (100%)]\tLoss: 10.0698\tR_Loss: 9.1776\tDKL: 0.8921\tAvgR 2.0733\tTest Loss : 0.4787   Time : 251.28s\n",
      "Beta : 1\n",
      "Train Epoch:  40 [139800/139800 (100%)]\tLoss: 10.1478\tR_Loss: 9.2601\tDKL: 0.8877\tAvgR 2.0723\tTest Loss : 0.4626   Time : 251.92s\n",
      "Beta : 1\n"
     ]
    },
    {
     "data": {
      "image/png": "[encoded data removed]",
      "text/plain": [
       "<Figure size 720x360 with 3 Axes>"
      ]
     },
     "metadata": {
      "needs_background": "light"
     },
     "output_type": "display_data"
    }
   ],
   "source": [
    "k = [1, 16, 'M', 32, 'M', 64, 64,'M', 64, 'M', 128, 128, 'M', 256]\n",
    "model = VAE(lt_dim=8, k=k).to(device)\n",
    "# model = vae_models.VAE().to(device)\n",
    "optimizer = Adam(model.parameters(), lr=0.0005, weight_decay=1E-5)\n",
    "loss_fun = VAE_Loss()\n",
    "\n",
    "train_loss = []\n",
    "test_loss  = []\n",
    "beta = 8\n",
    "for epoch in range(1, epochs+1):\n",
    "    #LRG, forced params\n",
    "    start = time.time()\n",
    "    s, l = train_step_vae(model, device, data_loader_unlrg, optimizer, epoch, loss_fun=loss_fun, beta=beta)\n",
    "    loss = test_step_vae(model, device, data_loader_lrg, loss_fun=loss_fun)\n",
    "    \n",
    "    train_loss.append(l)\n",
    "    test_loss.append(loss)\n",
    "    t = time.time() - start\n",
    "    \n",
    "    sys.stdout.write('{}\\tAvgR {:.4f}\\tTest Loss : {:4.4f}   Time : {:.2f}s\\n'.format(s, l, loss, t))\n",
    "    \n",
    "#     if epoch % 5 == 0 : \n",
    "    beta = beta**.7 if beta > 2 else 1\n",
    "    print('Beta : {}'.format(beta))\n",
    "    if epoch % 5 == 0: \n",
    "        f, ax = plt.subplots(1, 3, figsize=(10, 5))\n",
    "        o = model(sample[0].to(device))\n",
    "        ax[0].imshow(sample[0][1][0], cmap='gray')\n",
    "        ax[1].imshow(o[0][1][0].detach().cpu(), cmap='gray')\n",
    "        diff = sample[0][1][0] - o[0][1][0].detach().cpu()\n",
    "        ax[2].imshow(np.abs(diff), cmap='gray')\n",
    "        ax[0].axis('off')\n",
    "        ax[1].axis('off')\n",
    "        ax[2].axis('off')\n",
    "        plt.show()"
   ]
  },
  {
   "cell_type": "code",
   "execution_count": null,
   "metadata": {},
   "outputs": [],
   "source": [
    "i = 1\n",
    "plt.imshow(sample[0][i][0])"
   ]
  },
  {
   "cell_type": "code",
   "execution_count": null,
   "metadata": {},
   "outputs": [],
   "source": [
    "o = model(sample[0].to(device))"
   ]
  },
  {
   "cell_type": "code",
   "execution_count": null,
   "metadata": {},
   "outputs": [],
   "source": [
    "# o.shape"
   ]
  },
  {
   "cell_type": "code",
   "execution_count": null,
   "metadata": {},
   "outputs": [],
   "source": [
    "plt.imshow(o[0][i][0].detach().cpu())"
   ]
  },
  {
   "cell_type": "code",
   "execution_count": 16,
   "metadata": {},
   "outputs": [],
   "source": [
    "torch.save(model, 'SimpleBVAE_pow_07') "
   ]
  },
  {
   "cell_type": "code",
   "execution_count": null,
   "metadata": {},
   "outputs": [],
   "source": [
    "s = sample[0][i:i+1]"
   ]
  },
  {
   "cell_type": "code",
   "execution_count": null,
   "metadata": {},
   "outputs": [],
   "source": []
  }
 ],
 "metadata": {
  "kernelspec": {
   "display_name": "Python 3",
   "language": "python",
   "name": "python3"
  },
  "language_info": {
   "codemirror_mode": {
    "name": "ipython",
    "version": 3
   },
   "file_extension": ".py",
   "mimetype": "text/x-python",
   "name": "python",
   "nbconvert_exporter": "python",
   "pygments_lexer": "ipython3",
   "version": "3.7.3"
  },
  "varInspector": {
   "cols": {
    "lenName": 16,
    "lenType": 16,
    "lenVar": 40
   },
   "kernels_config": {
    "python": {
     "delete_cmd_postfix": "",
     "delete_cmd_prefix": "del ",
     "library": "var_list.py",
     "varRefreshCmd": "print(var_dic_list())"
    },
    "r": {
     "delete_cmd_postfix": ") ",
     "delete_cmd_prefix": "rm(",
     "library": "var_list.r",
     "varRefreshCmd": "cat(var_dic_list()) "
    }
   },
   "types_to_exclude": [
    "module",
    "function",
    "builtin_function_or_method",
    "instance",
    "_Feature"
   ],
   "window_display": false
  }
 },
 "nbformat": 4,
 "nbformat_minor": 2
}
