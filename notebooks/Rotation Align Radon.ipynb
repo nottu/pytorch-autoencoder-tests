{
 "cells": [
  {
   "cell_type": "code",
   "execution_count": 1,
   "metadata": {},
   "outputs": [],
   "source": [
    "import sys\n",
    "\n",
    "import numpy as np\n",
    "\n",
    "from matplotlib import pyplot as plt\n",
    "from skimage.transform import radon, rotate, iradon, resize\n",
    "from skimage.util import crop\n",
    "from skimage.filters import gaussian\n",
    "\n",
    "from tqdm import tqdm_notebook as tqdm"
   ]
  },
  {
   "cell_type": "code",
   "execution_count": 2,
   "metadata": {},
   "outputs": [],
   "source": [
    "sys.path.append('../')\n",
    "from VAE.rg_dataset import LRG\n",
    "from utils.methods import *"
   ]
  },
  {
   "cell_type": "code",
   "execution_count": 3,
   "metadata": {},
   "outputs": [
    {
     "name": "stdout",
     "output_type": "stream",
     "text": [
      "../data/unlrg:\t14245/14245\n"
     ]
    }
   ],
   "source": [
    "data_path = '../data/'\n",
    "aug=5\n",
    "\n",
    "lrg_data_set   = LRG(use_kittler=True, n_aug=aug, blur=False, \n",
    "                     catalog_dir=data_path + 'catalog/mrt-table4.txt', \n",
    "                     file_dir=data_path + 'unlrg')"
   ]
  },
  {
   "cell_type": "code",
   "execution_count": 4,
   "metadata": {},
   "outputs": [],
   "source": [
    "data = lrg_data_set.data\n",
    "c_data = np.zeros((len(data), 128, 128))\n",
    "for i in range(len(data)):\n",
    "    #resize( crop(data[i], ((24, 24), (24, 24)), copy=False), (64, 64))\n",
    "    c_data[i] = gaussian(data[i], 2)"
   ]
  },
  {
   "cell_type": "code",
   "execution_count": 5,
   "metadata": {},
   "outputs": [
    {
     "data": {
      "image/png": "[encoded data removed]",
      "text/plain": [
       "<Figure size 1440x360 with 10 Axes>"
      ]
     },
     "metadata": {
      "needs_background": "light"
     },
     "output_type": "display_data"
    }
   ],
   "source": [
    "n = 10\n",
    "f, ax = plt.subplots(1, n, figsize=(20, 5))\n",
    "for i in range(n):\n",
    "    ax[i].imshow(c_data[900+i], cmap='gray')\n",
    "    ax[i].axis('off')"
   ]
  },
  {
   "cell_type": "code",
   "execution_count": 12,
   "metadata": {},
   "outputs": [
    {
     "data": {
      "image/png": "[encoded data removed]",
      "text/plain": [
       "<Figure size 432x288 with 1 Axes>"
      ]
     },
     "metadata": {
      "needs_background": "light"
     },
     "output_type": "display_data"
    }
   ],
   "source": [
    "theta = np.linspace(0., 180., 180)\n",
    "\n",
    "img = c_data[200]\n",
    "\n",
    "rad = radon(img, theta=theta, circle=True)\n",
    "\n",
    "l = theta.shape[0]\n",
    "a = np.argmax(rad) % l\n",
    "im_rot = rotate(img, -theta[a])\n",
    "rad = radon(im_rot, theta=theta, circle=True)\n",
    "\n",
    "plt.imshow(im_rot, cmap='gray')\n",
    "plt.show()"
   ]
  },
  {
   "cell_type": "code",
   "execution_count": 13,
   "metadata": {},
   "outputs": [
    {
     "data": {
      "text/plain": [
       "<matplotlib.image.AxesImage at 0x7f74b16d0780>"
      ]
     },
     "execution_count": 13,
     "metadata": {},
     "output_type": "execute_result"
    },
    {
     "data": {
      "image/png": "[encoded data removed]",
      "text/plain": [
       "<Figure size 432x288 with 1 Axes>"
      ]
     },
     "metadata": {
      "needs_background": "light"
     },
     "output_type": "display_data"
    }
   ],
   "source": [
    "plt.imshow(rad)"
   ]
  },
  {
   "cell_type": "code",
   "execution_count": 14,
   "metadata": {},
   "outputs": [
    {
     "data": {
      "application/vnd.jupyter.widget-view+json": {
       "model_id": "dc2f1e8b3d714f138a515734c1b78dba",
       "version_major": 2,
       "version_minor": 0
      },
      "text/plain": [
       "HBox(children=(IntProgress(value=0, max=13980), HTML(value='')))"
      ]
     },
     "metadata": {},
     "output_type": "display_data"
    },
    {
     "name": "stdout",
     "output_type": "stream",
     "text": [
      "\n"
     ]
    }
   ],
   "source": [
    "rotated_images = []\n",
    "radons = []\n",
    "\n",
    "for img in tqdm(c_data):\n",
    "    rad = radon(img, theta=theta, circle=True)\n",
    "\n",
    "    l = theta.shape[0]\n",
    "    a = np.argmax(rad) % l\n",
    "    im_rot = rotate(img, -theta[a])\n",
    "\n",
    "    rad = radon(im_rot, theta=theta, circle=True)\n",
    "    \n",
    "    rotated_images.append(im_rot)\n",
    "    radons.append(rad)"
   ]
  },
  {
   "cell_type": "code",
   "execution_count": null,
   "metadata": {},
   "outputs": [],
   "source": [
    "np.save('lrg_norm_radon', d_data)"
   ]
  },
  {
   "cell_type": "code",
   "execution_count": null,
   "metadata": {},
   "outputs": [],
   "source": []
  }
 ],
 "metadata": {
  "kernelspec": {
   "display_name": "Python 3",
   "language": "python",
   "name": "python3"
  },
  "language_info": {
   "codemirror_mode": {
    "name": "ipython",
    "version": 3
   },
   "file_extension": ".py",
   "mimetype": "text/x-python",
   "name": "python",
   "nbconvert_exporter": "python",
   "pygments_lexer": "ipython3",
   "version": "3.7.2"
  }
 },
 "nbformat": 4,
 "nbformat_minor": 2
}
