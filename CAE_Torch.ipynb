{
 "cells": [
  {
   "cell_type": "code",
   "execution_count": 12,
   "metadata": {},
   "outputs": [],
   "source": [
    "from functools import partial\n",
    "import json\n",
    "from pathlib import Path\n",
    "from numpy import ndarray\n",
    "from pytorch_autoencoders.config import Config\n",
    "from pytorch_autoencoders.data import Dsprites\n",
    "from pytorch_autoencoders.models import gamma_vae, conv_vae\n",
    "from pytorch_autoencoders import inference_helper, train_helper\n",
    "import torch\n",
    "from torch.optim import Adam\n",
    "\n",
    "import numpy as np\n",
    "from matplotlib import pyplot as plt\n",
    "import PIL.Image as Image\n",
    "\n",
    "from pandas import read_fwf, DataFrame\n",
    "from tqdm   import tqdm_notebook as tqdm\n",
    "\n",
    "import torch.nn as nn\n",
    "import torch.nn.functional as F\n",
    "from torch.utils import data\n",
    "\n",
    "from torchvision import transforms\n",
    "from torchvision import datasets\n",
    "import time"
   ]
  },
  {
   "cell_type": "code",
   "execution_count": 2,
   "metadata": {},
   "outputs": [],
   "source": [
    "from radioreader import *\n",
    "from methods import *\n",
    "from kittler import kittler_float"
   ]
  },
  {
   "cell_type": "code",
   "execution_count": 3,
   "metadata": {},
   "outputs": [
    {
     "data": {
      "application/vnd.jupyter.widget-view+json": {
       "model_id": "b0f216ed47c94b0fbae1344b1cbdafe4",
       "version_major": 2,
       "version_minor": 0
      },
      "text/plain": [
       "HBox(children=(IntProgress(value=0, max=14245), HTML(value='')))"
      ]
     },
     "metadata": {},
     "output_type": "display_data"
    },
    {
     "name": "stdout",
     "output_type": "stream",
     "text": [
      "\n",
      "Number of images 14245\n"
     ]
    }
   ],
   "source": [
    "directory = 'unlrg'\n",
    "ext = 'fits'\n",
    "names = glob.glob('{0}/*.{1}*'.format(directory, ext))\n",
    "images = []\n",
    "for n in tqdm(range(len(names))):\n",
    "    im = readImg(names[n], normalize=True, sz=128)\n",
    "    k = kittler_float(im, copy=False)\n",
    "    images.append( np.expand_dims(k, axis=0) )\n",
    "    del im\n",
    "    del k\n",
    "print(\"Number of images\", len(images))"
   ]
  },
  {
   "cell_type": "code",
   "execution_count": 4,
   "metadata": {},
   "outputs": [],
   "source": [
    "class UNLRG(data.Dataset):\n",
    "    def __init__(self, images, transform=None):\n",
    "        self.data = images\n",
    "        self.data_len = len(self.data)\n",
    "        if(transform == None):\n",
    "            self.transform = transforms.Compose([\n",
    "                transforms.RandomHorizontalFlip(),\n",
    "                transforms.RandomVerticalFlip(),\n",
    "                transforms.RandomRotation(180),\n",
    "#                 transforms.RandomResizedCrop((128,128),(.5,1)),\n",
    "                transforms.ToTensor()])\n",
    "        else : self.transform = transform\n",
    "\n",
    "#     def __load_data\n",
    "            \n",
    "    def __getitem__(self, index):\n",
    "        index = index % self.data_len\n",
    "        np_arr = self.data[index, :]\n",
    "        ## reshape np_arr to 28x28\n",
    "        np_arr = np_arr.reshape(128, 128)\n",
    "\n",
    "        ## convert to PIL-image\n",
    "        img = Image.fromarray((np_arr*255).astype('uint8'))\n",
    "\n",
    "        #apply the transformations and return tensors\n",
    "        return self.transform(img)\n",
    "    def __len__(self):\n",
    "        return self.data_len * 10\n",
    "    def __repr__(self) -> str:\n",
    "        return 'unLRG dataset'"
   ]
  },
  {
   "cell_type": "code",
   "execution_count": 5,
   "metadata": {},
   "outputs": [],
   "source": [
    "images = np.array(images)\n",
    "dataset = UNLRG(images)"
   ]
  },
  {
   "cell_type": "code",
   "execution_count": 6,
   "metadata": {},
   "outputs": [
    {
     "data": {
      "text/plain": [
       "0.9996233380807099"
      ]
     },
     "execution_count": 6,
     "metadata": {},
     "output_type": "execute_result"
    }
   ],
   "source": [
    "np.max(images)"
   ]
  },
  {
   "cell_type": "code",
   "execution_count": 7,
   "metadata": {},
   "outputs": [],
   "source": [
    "class CAE(nn.Module):\n",
    "    def __init__(self):\n",
    "        super(CAE, self).__init__()\n",
    "        self.encoder = nn.Sequential(\n",
    "            nn.Conv2d( 1,  8, 3, 2, 1, 1),\n",
    "            nn.ReLU(),\n",
    "            nn.Conv2d( 8,  8, 3, 2, 1, 1),\n",
    "            nn.ReLU(),\n",
    "            nn.Conv2d( 8, 16, 3, 2, 1, 1),\n",
    "            nn.ReLU(),\n",
    "            nn.Conv2d(16, 32, 3, 2, 1, 1),\n",
    "            nn.ReLU(),\n",
    "            nn.Conv2d(32, 32, 3, 2, 1, 1),\n",
    "            nn.ReLU()\n",
    "        )\n",
    "        self.decoder = nn.Sequential(\n",
    "            nn.ConvTranspose2d(32, 32, 3, 2, 1, 1),\n",
    "            nn.ReLU(),\n",
    "            nn.ConvTranspose2d(32, 16, 3, 2, 1, 1),\n",
    "            nn.ReLU(),\n",
    "            nn.ConvTranspose2d(16, 8, 3, 2, 1, 1),\n",
    "            nn.ReLU(),\n",
    "            nn.ConvTranspose2d( 8,  8, 3, 2, 1, 1),\n",
    "            nn.ReLU(),\n",
    "            nn.ConvTranspose2d( 8,  1, 3, 2, 1, 1),\n",
    "#             nn.ReLU()\n",
    "        )\n",
    "    \n",
    "    def encode(self, x):\n",
    "        return self.encoder(x)\n",
    "    \n",
    "    def decode(self, x):\n",
    "        return self.decode(x)\n",
    "    \n",
    "    def forward(self, x):\n",
    "        encoded = self.encoder(x)\n",
    "        decode  = self.decoder(encoded)\n",
    "        return torch.sigmoid(decode)"
   ]
  },
  {
   "cell_type": "code",
   "execution_count": 8,
   "metadata": {},
   "outputs": [],
   "source": [
    "data_loader = data.DataLoader(dataset, batch_size=64, shuffle=False)"
   ]
  },
  {
   "cell_type": "code",
   "execution_count": 9,
   "metadata": {},
   "outputs": [],
   "source": [
    "device = 'cuda'\n",
    "\n",
    "cae = CAE().to(device)\n",
    "optimizer = Adam(cae.parameters(), lr=0.001)\n",
    "loss_fnc = nn.BCELoss(reduction='sum').to(device)"
   ]
  },
  {
   "cell_type": "code",
   "execution_count": 16,
   "metadata": {},
   "outputs": [],
   "source": [
    "def train_step(model, device, data_loader, optim, epoch, log_interval=5):\n",
    "    model.train()\n",
    "    s = ''\n",
    "    for batch_idx, data in enumerate(data_loader):\n",
    "        data = data.to(device)\n",
    "        #Forward Pass\n",
    "        optimizer.zero_grad()\n",
    "        output = model(data)\n",
    "        \n",
    "        # BCE Loss\n",
    "        loss = loss_fnc(output, data)\n",
    "        \n",
    "        #Backpropagation\n",
    "        loss.backward()\n",
    "        optimizer.step()\n",
    "        s = 'Train Epoch: {} [{}/{} ({:.0f}%)]\\tLoss: {:.6f}'.format(\n",
    "                epoch, batch_idx * len(data), len(data_loader.dataset),\n",
    "                100. * batch_idx / len(data_loader), loss.item())\n",
    "        if batch_idx % log_interval == 0:\n",
    "            sys.stdout.write('{}\\r'.format(s))\n",
    "            sys.stdout.flush()\n",
    "    return s"
   ]
  },
  {
   "cell_type": "code",
   "execution_count": 17,
   "metadata": {
    "scrolled": true
   },
   "outputs": [
    {
     "name": "stdout",
     "output_type": "stream",
     "text": [
      "Train Epoch: 1 [111250/142450 (100%)]\tLoss: 5346.309570\tTime 79.47s\n",
      "Train Epoch: 2 [111250/142450 (100%)]\tLoss: 4910.729980\tTime 79.57s\n",
      "Train Epoch: 3 [111250/142450 (100%)]\tLoss: 4728.229492\tTime 79.27s\n",
      "Train Epoch: 4 [111250/142450 (100%)]\tLoss: 4651.133301\tTime 79.38s\n",
      "Train Epoch: 5 [111250/142450 (100%)]\tLoss: 4579.273438\tTime 79.38s\n",
      "Train Epoch: 6 [111250/142450 (100%)]\tLoss: 4518.916504\tTime 79.26s\n",
      "Train Epoch: 7 [111250/142450 (100%)]\tLoss: 4472.480469\tTime 79.55s\n",
      "Train Epoch: 8 [111250/142450 (100%)]\tLoss: 4485.914062\tTime 79.21s\n",
      "Train Epoch: 9 [111250/142450 (100%)]\tLoss: 4457.556152\tTime 79.36s\n",
      "Train Epoch: 10 [111250/142450 (100%)]\tLoss: 4429.944336\tTime 79.12s\n",
      "Train Epoch: 11 [111250/142450 (100%)]\tLoss: 4402.909180\tTime 79.46s\n",
      "Train Epoch: 12 [111250/142450 (100%)]\tLoss: 4399.395996\tTime 79.50s\n",
      "Train Epoch: 13 [111250/142450 (100%)]\tLoss: 4394.670410\tTime 79.40s\n",
      "Train Epoch: 14 [111250/142450 (100%)]\tLoss: 4332.974609\tTime 79.17s\n",
      "Train Epoch: 15 [111250/142450 (100%)]\tLoss: 4331.390137\tTime 79.27s\n",
      "Train Epoch: 16 [111250/142450 (100%)]\tLoss: 4313.444336\tTime 79.27s\n",
      "Train Epoch: 17 [111250/142450 (100%)]\tLoss: 4279.048828\tTime 79.28s\n",
      "Train Epoch: 18 [111250/142450 (100%)]\tLoss: 4327.547852\tTime 79.54s\n",
      "Train Epoch: 19 [111250/142450 (100%)]\tLoss: 4328.890137\tTime 79.41s\n",
      "Train Epoch: 20 [111250/142450 (100%)]\tLoss: 4310.526367\tTime 79.89s\n",
      "Train Epoch: 21 [111250/142450 (100%)]\tLoss: 4290.744141\tTime 79.61s\n",
      "Train Epoch: 22 [111250/142450 (100%)]\tLoss: 4329.772949\tTime 79.51s\n",
      "Train Epoch: 23 [111250/142450 (100%)]\tLoss: 4282.065918\tTime 79.36s\n",
      "Train Epoch: 24 [111250/142450 (100%)]\tLoss: 4284.440430\tTime 79.47s\n",
      "Train Epoch: 25 [111250/142450 (100%)]\tLoss: 4254.548828\tTime 79.35s\n",
      "Train Epoch: 26 [111250/142450 (100%)]\tLoss: 4278.104004\tTime 79.32s\n",
      "Train Epoch: 27 [111250/142450 (100%)]\tLoss: 4246.581543\tTime 79.36s\n",
      "Train Epoch: 28 [111250/142450 (100%)]\tLoss: 4307.311523\tTime 79.49s\n",
      "Train Epoch: 29 [111250/142450 (100%)]\tLoss: 4243.665527\tTime 79.48s\n",
      "Train Epoch: 30 [111250/142450 (100%)]\tLoss: 4225.618164\tTime 79.22s\n",
      "Train Epoch: 31 [111250/142450 (100%)]\tLoss: 4228.002441\tTime 79.55s\n",
      "Train Epoch: 32 [111250/142450 (100%)]\tLoss: 4250.922852\tTime 79.53s\n",
      "Train Epoch: 33 [111250/142450 (100%)]\tLoss: 4240.515625\tTime 79.40s\n",
      "Train Epoch: 34 [111250/142450 (100%)]\tLoss: 4285.083496\tTime 79.61s\n",
      "Train Epoch: 35 [111250/142450 (100%)]\tLoss: 4315.794434\tTime 79.52s\n",
      "Train Epoch: 36 [111250/142450 (100%)]\tLoss: 4262.434570\tTime 79.68s\n",
      "Train Epoch: 37 [111250/142450 (100%)]\tLoss: 4215.609863\tTime 79.58s\n",
      "Train Epoch: 38 [111250/142450 (100%)]\tLoss: 4215.957520\tTime 79.65s\n",
      "Train Epoch: 39 [111250/142450 (100%)]\tLoss: 4230.617188\tTime 79.51s\n",
      "Train Epoch: 40 [111250/142450 (100%)]\tLoss: 4372.164551\tTime 79.57s\n",
      "Train Epoch: 41 [111250/142450 (100%)]\tLoss: 4247.352051\tTime 79.39s\n",
      "Train Epoch: 42 [111250/142450 (100%)]\tLoss: 4239.681641\tTime 79.25s\n",
      "Train Epoch: 43 [111250/142450 (100%)]\tLoss: 4264.568359\tTime 79.35s\n",
      "Train Epoch: 44 [111250/142450 (100%)]\tLoss: 4210.178223\tTime 79.52s\n",
      "Train Epoch: 45 [111250/142450 (100%)]\tLoss: 4229.280762\tTime 79.33s\n",
      "Train Epoch: 46 [111250/142450 (100%)]\tLoss: 4229.896973\tTime 79.47s\n",
      "Train Epoch: 47 [111250/142450 (100%)]\tLoss: 4202.939453\tTime 79.55s\n",
      "Train Epoch: 48 [111250/142450 (100%)]\tLoss: 4211.285156\tTime 79.42s\n",
      "Train Epoch: 49 [111250/142450 (100%)]\tLoss: 4177.265625\tTime 79.46s\n",
      "Train Epoch: 50 [111250/142450 (100%)]\tLoss: 4226.313965\tTime 79.72s\n",
      "Train Epoch: 51 [111250/142450 (100%)]\tLoss: 4220.128906\tTime 79.51s\n",
      "Train Epoch: 52 [111250/142450 (100%)]\tLoss: 4226.278320\tTime 79.46s\n",
      "Train Epoch: 53 [111250/142450 (100%)]\tLoss: 4200.918945\tTime 79.28s\n",
      "Train Epoch: 54 [111250/142450 (100%)]\tLoss: 4238.078125\tTime 79.30s\n",
      "Train Epoch: 55 [111250/142450 (100%)]\tLoss: 4212.833008\tTime 79.57s\n",
      "Train Epoch: 56 [111250/142450 (100%)]\tLoss: 4218.213867\tTime 79.75s\n",
      "Train Epoch: 57 [111250/142450 (100%)]\tLoss: 4230.203125\tTime 79.73s\n",
      "Train Epoch: 58 [111250/142450 (100%)]\tLoss: 4193.003418\tTime 79.87s\n",
      "Train Epoch: 59 [111250/142450 (100%)]\tLoss: 4217.918945\tTime 79.58s\n",
      "Train Epoch: 60 [111250/142450 (100%)]\tLoss: 4203.402344\tTime 79.51s\n",
      "Train Epoch: 61 [111250/142450 (100%)]\tLoss: 4229.550781\tTime 79.48s\n",
      "Train Epoch: 62 [111250/142450 (100%)]\tLoss: 4181.375000\tTime 79.57s\n",
      "Train Epoch: 63 [111250/142450 (100%)]\tLoss: 4191.053711\tTime 79.56s\n",
      "Train Epoch: 64 [111250/142450 (100%)]\tLoss: 4199.451172\tTime 79.40s\n",
      "Train Epoch: 65 [111250/142450 (100%)]\tLoss: 4191.667480\tTime 79.65s\n",
      "Train Epoch: 66 [111250/142450 (100%)]\tLoss: 4201.758789\tTime 79.82s\n",
      "Train Epoch: 67 [111250/142450 (100%)]\tLoss: 4220.669434\tTime 79.64s\n",
      "Train Epoch: 68 [111250/142450 (100%)]\tLoss: 4198.734863\tTime 79.62s\n",
      "Train Epoch: 69 [111250/142450 (100%)]\tLoss: 4179.140625\tTime 79.25s\n",
      "Train Epoch: 70 [111250/142450 (100%)]\tLoss: 4209.164551\tTime 79.44s\n",
      "Train Epoch: 71 [111250/142450 (100%)]\tLoss: 4222.005371\tTime 79.58s\n",
      "Train Epoch: 72 [111250/142450 (100%)]\tLoss: 4179.714844\tTime 79.51s\n",
      "Train Epoch: 73 [111250/142450 (100%)]\tLoss: 4196.022949\tTime 79.51s\n",
      "Train Epoch: 74 [111250/142450 (100%)]\tLoss: 4182.084961\tTime 79.55s\n",
      "Train Epoch: 75 [111250/142450 (100%)]\tLoss: 4228.854004\tTime 79.52s\n",
      "Train Epoch: 76 [111250/142450 (100%)]\tLoss: 4178.445312\tTime 79.57s\n",
      "Train Epoch: 77 [111250/142450 (100%)]\tLoss: 4209.130371\tTime 79.50s\n",
      "Train Epoch: 78 [111250/142450 (100%)]\tLoss: 4198.005859\tTime 79.19s\n",
      "Train Epoch: 79 [111250/142450 (100%)]\tLoss: 4191.404785\tTime 79.19s\n",
      "Train Epoch: 80 [111250/142450 (100%)]\tLoss: 4180.616211\tTime 79.39s\n",
      "Train Epoch: 81 [111250/142450 (100%)]\tLoss: 4161.364746\tTime 79.79s\n",
      "Train Epoch: 82 [111250/142450 (100%)]\tLoss: 4200.585938\tTime 79.53s\n",
      "Train Epoch: 83 [111250/142450 (100%)]\tLoss: 4189.365234\tTime 79.50s\n",
      "Train Epoch: 84 [111250/142450 (100%)]\tLoss: 4176.335449\tTime 79.57s\n",
      "Train Epoch: 85 [111250/142450 (100%)]\tLoss: 4185.369141\tTime 79.60s\n",
      "Train Epoch: 86 [111250/142450 (100%)]\tLoss: 4186.545410\tTime 79.57s\n",
      "Train Epoch: 87 [111250/142450 (100%)]\tLoss: 4189.003906\tTime 79.86s\n",
      "Train Epoch: 88 [111250/142450 (100%)]\tLoss: 4197.783691\tTime 79.68s\n",
      "Train Epoch: 89 [111250/142450 (100%)]\tLoss: 4176.784180\tTime 79.79s\n",
      "Train Epoch: 90 [111250/142450 (100%)]\tLoss: 4207.185547\tTime 79.46s\n",
      "Train Epoch: 91 [111250/142450 (100%)]\tLoss: 4176.027344\tTime 79.45s\n",
      "Train Epoch: 92 [111250/142450 (100%)]\tLoss: 4168.591309\tTime 79.51s\n",
      "Train Epoch: 93 [111250/142450 (100%)]\tLoss: 4159.514648\tTime 79.64s\n",
      "Train Epoch: 94 [111250/142450 (100%)]\tLoss: 4167.191406\tTime 79.41s\n",
      "Train Epoch: 95 [111250/142450 (100%)]\tLoss: 4186.436523\tTime 79.53s\n",
      "Train Epoch: 96 [111250/142450 (100%)]\tLoss: 4198.644043\tTime 79.84s\n",
      "Train Epoch: 97 [111250/142450 (100%)]\tLoss: 4165.794922\tTime 79.70s\n",
      "Train Epoch: 98 [111250/142450 (100%)]\tLoss: 4173.820312\tTime 79.56s\n",
      "Train Epoch: 99 [111250/142450 (100%)]\tLoss: 4176.532227\tTime 79.73s\n",
      "Train Epoch: 100 [111250/142450 (100%)]\tLoss: 4212.664551\tTime 79.74s\n"
     ]
    }
   ],
   "source": [
    "for epoch in range(1, 101):\n",
    "    start = time.time()\n",
    "    s = train_step(cae, 'cuda' ,data_loader, optimizer, epoch)\n",
    "    t = time.time() - start\n",
    "    sys.stdout.write('{0}\\tTime {1:.2f}s\\n'.format(s, t))"
   ]
  },
  {
   "cell_type": "code",
   "execution_count": 18,
   "metadata": {},
   "outputs": [],
   "source": [
    "sample = iter(data_loader).next()"
   ]
  },
  {
   "cell_type": "code",
   "execution_count": 19,
   "metadata": {},
   "outputs": [
    {
     "data": {
      "image/png": "[encoded data removed]",
      "text/plain": [
       "<Figure size 1080x864 with 16 Axes>"
      ]
     },
     "metadata": {
      "needs_background": "light"
     },
     "output_type": "display_data"
    }
   ],
   "source": [
    "f, ax = plt.subplots(4, 4, figsize=(15, 12))\n",
    "for i in range(4): \n",
    "    for j in range(4):\n",
    "        ax[i][j].imshow(sample[i*4 + j][0], cmap='gray')\n",
    "        ax[i][j].axis('off')"
   ]
  },
  {
   "cell_type": "code",
   "execution_count": 20,
   "metadata": {},
   "outputs": [],
   "source": [
    "with torch.no_grad():\n",
    "    recon = cae(sample.to(device)).cpu()"
   ]
  },
  {
   "cell_type": "code",
   "execution_count": 21,
   "metadata": {},
   "outputs": [
    {
     "data": {
      "image/png": "[encoded data removed]",
      "text/plain": [
       "<Figure size 1080x864 with 16 Axes>"
      ]
     },
     "metadata": {
      "needs_background": "light"
     },
     "output_type": "display_data"
    }
   ],
   "source": [
    "f, ax = plt.subplots(4, 4, figsize=(15, 12))\n",
    "for i in range(4): \n",
    "    for j in range(4):\n",
    "        ax[i][j].imshow(recon[i*4 + j][0], cmap='gray')\n",
    "        ax[i][j].axis('off')"
   ]
  },
  {
   "cell_type": "code",
   "execution_count": 22,
   "metadata": {
    "scrolled": true
   },
   "outputs": [
    {
     "data": {
      "image/png": "[encoded data removed]",
      "text/plain": [
       "<Figure size 1080x864 with 16 Axes>"
      ]
     },
     "metadata": {
      "needs_background": "light"
     },
     "output_type": "display_data"
    }
   ],
   "source": [
    "f, ax = plt.subplots(4, 4, figsize=(15, 12))\n",
    "for i in range(4): \n",
    "    for j in range(4):\n",
    "        o, r = sample[i*4 + j][0], recon[i*4 + j][0] \n",
    "        ax[i][j].imshow(o - r, cmap='gray')\n",
    "        ax[i][j].axis('off')"
   ]
  },
  {
   "cell_type": "code",
   "execution_count": 23,
   "metadata": {},
   "outputs": [],
   "source": [
    "torch.save(cae, 'cae_model')\n",
    "# cae = torch.load('cae_model')\n",
    "# cae.eval()"
   ]
  },
  {
   "cell_type": "code",
   "execution_count": null,
   "metadata": {},
   "outputs": [],
   "source": []
  }
 ],
 "metadata": {
  "kernelspec": {
   "display_name": "Python 3",
   "language": "python",
   "name": "python3"
  },
  "language_info": {
   "codemirror_mode": {
    "name": "ipython",
    "version": 3
   },
   "file_extension": ".py",
   "mimetype": "text/x-python",
   "name": "python",
   "nbconvert_exporter": "python",
   "pygments_lexer": "ipython3",
   "version": "3.7.2"
  }
 },
 "nbformat": 4,
 "nbformat_minor": 2
}
